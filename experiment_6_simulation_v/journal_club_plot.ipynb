{
 "cells": [
  {
   "cell_type": "code",
   "execution_count": null,
   "metadata": {},
   "outputs": [],
   "source": []
  },
  {
   "cell_type": "code",
   "execution_count": 66,
   "metadata": {},
   "outputs": [],
   "source": [
    "# import libraries\n",
    "import numpy as np\n",
    "import pandas as pd\n",
    "import matplotlib.pyplot as plt\n",
    "import geopandas as gpd\n",
    "from geodata import generate_grid_dataframe,calculate_moran_i"
   ]
  },
  {
   "cell_type": "code",
   "execution_count": 67,
   "metadata": {},
   "outputs": [],
   "source": [
    "import spatial_tda as tda"
   ]
  },
  {
   "cell_type": "code",
   "execution_count": 68,
   "metadata": {},
   "outputs": [],
   "source": [
    "grid_size = 9\n",
    "r_seed = 42"
   ]
  },
  {
   "cell_type": "code",
   "execution_count": 69,
   "metadata": {},
   "outputs": [],
   "source": [
    "gdf_none = generate_grid_dataframe(grid_size, autocorrelation=\"none\", random_seed=r_seed)        # No spatial correlation\n",
    "gdf_positive = generate_grid_dataframe(grid_size, autocorrelation=\"positive\", random_seed=r_seed)  # Positive spatial correlation"
   ]
  },
  {
   "cell_type": "code",
   "execution_count": 70,
   "metadata": {},
   "outputs": [
    {
     "data": {
      "text/html": [
       "<div>\n",
       "<style scoped>\n",
       "    .dataframe tbody tr th:only-of-type {\n",
       "        vertical-align: middle;\n",
       "    }\n",
       "\n",
       "    .dataframe tbody tr th {\n",
       "        vertical-align: top;\n",
       "    }\n",
       "\n",
       "    .dataframe thead th {\n",
       "        text-align: right;\n",
       "    }\n",
       "</style>\n",
       "<table border=\"1\" class=\"dataframe\">\n",
       "  <thead>\n",
       "    <tr style=\"text-align: right;\">\n",
       "      <th></th>\n",
       "      <th>Index</th>\n",
       "      <th>Value</th>\n",
       "      <th>geometry</th>\n",
       "    </tr>\n",
       "  </thead>\n",
       "  <tbody>\n",
       "    <tr>\n",
       "      <th>0</th>\n",
       "      <td>0</td>\n",
       "      <td>16</td>\n",
       "      <td>POLYGON ((0 0, 1 0, 1 1, 0 1, 0 0))</td>\n",
       "    </tr>\n",
       "    <tr>\n",
       "      <th>1</th>\n",
       "      <td>1</td>\n",
       "      <td>11</td>\n",
       "      <td>POLYGON ((1 0, 2 0, 2 1, 1 1, 1 0))</td>\n",
       "    </tr>\n",
       "  </tbody>\n",
       "</table>\n",
       "</div>"
      ],
      "text/plain": [
       "   Index  Value                             geometry\n",
       "0      0     16  POLYGON ((0 0, 1 0, 1 1, 0 1, 0 0))\n",
       "1      1     11  POLYGON ((1 0, 2 0, 2 1, 1 1, 1 0))"
      ]
     },
     "execution_count": 70,
     "metadata": {},
     "output_type": "execute_result"
    }
   ],
   "source": [
    "gdf_none.head(2)"
   ]
  },
  {
   "cell_type": "code",
   "execution_count": 71,
   "metadata": {},
   "outputs": [
    {
     "data": {
      "image/png": "[encoded data removed]",
      "text/plain": [
       "<Figure size 1000x500 with 4 Axes>"
      ]
     },
     "metadata": {},
     "output_type": "display_data"
    }
   ],
   "source": [
    "# plot value column\n",
    "fig, ax = plt.subplots(1,2, figsize=(10,5))\n",
    "gdf_none.plot(column='Value', ax=ax[0], legend=True)\n",
    "gdf_positive.plot(column='Value', ax=ax[1], legend=True)\n",
    "ax[0].set_title('No spatial correlation')\n",
    "ax[1].set_title('Positive spatial correlation')\n",
    "plt.show()"
   ]
  },
  {
   "cell_type": "code",
   "execution_count": 72,
   "metadata": {},
   "outputs": [
    {
     "data": {
      "text/html": [
       "<div>\n",
       "<style scoped>\n",
       "    .dataframe tbody tr th:only-of-type {\n",
       "        vertical-align: middle;\n",
       "    }\n",
       "\n",
       "    .dataframe tbody tr th {\n",
       "        vertical-align: top;\n",
       "    }\n",
       "\n",
       "    .dataframe thead th {\n",
       "        text-align: right;\n",
       "    }\n",
       "</style>\n",
       "<table border=\"1\" class=\"dataframe\">\n",
       "  <thead>\n",
       "    <tr style=\"text-align: right;\">\n",
       "      <th></th>\n",
       "      <th>Index</th>\n",
       "      <th>Value</th>\n",
       "      <th>geometry</th>\n",
       "    </tr>\n",
       "  </thead>\n",
       "  <tbody>\n",
       "    <tr>\n",
       "      <th>0</th>\n",
       "      <td>0</td>\n",
       "      <td>14</td>\n",
       "      <td>POLYGON ((0 0, 1 0, 1 1, 0 1, 0 0))</td>\n",
       "    </tr>\n",
       "    <tr>\n",
       "      <th>1</th>\n",
       "      <td>1</td>\n",
       "      <td>15</td>\n",
       "      <td>POLYGON ((1 0, 2 0, 2 1, 1 1, 1 0))</td>\n",
       "    </tr>\n",
       "    <tr>\n",
       "      <th>2</th>\n",
       "      <td>2</td>\n",
       "      <td>16</td>\n",
       "      <td>POLYGON ((2 0, 3 0, 3 1, 2 1, 2 0))</td>\n",
       "    </tr>\n",
       "    <tr>\n",
       "      <th>3</th>\n",
       "      <td>3</td>\n",
       "      <td>17</td>\n",
       "      <td>POLYGON ((3 0, 4 0, 4 1, 3 1, 3 0))</td>\n",
       "    </tr>\n",
       "    <tr>\n",
       "      <th>4</th>\n",
       "      <td>4</td>\n",
       "      <td>16</td>\n",
       "      <td>POLYGON ((4 0, 5 0, 5 1, 4 1, 4 0))</td>\n",
       "    </tr>\n",
       "    <tr>\n",
       "      <th>5</th>\n",
       "      <td>5</td>\n",
       "      <td>15</td>\n",
       "      <td>POLYGON ((5 0, 6 0, 6 1, 5 1, 5 0))</td>\n",
       "    </tr>\n",
       "    <tr>\n",
       "      <th>6</th>\n",
       "      <td>6</td>\n",
       "      <td>14</td>\n",
       "      <td>POLYGON ((6 0, 7 0, 7 1, 6 1, 6 0))</td>\n",
       "    </tr>\n",
       "    <tr>\n",
       "      <th>7</th>\n",
       "      <td>7</td>\n",
       "      <td>14</td>\n",
       "      <td>POLYGON ((7 0, 8 0, 8 1, 7 1, 7 0))</td>\n",
       "    </tr>\n",
       "    <tr>\n",
       "      <th>8</th>\n",
       "      <td>8</td>\n",
       "      <td>14</td>\n",
       "      <td>POLYGON ((8 0, 9 0, 9 1, 8 1, 8 0))</td>\n",
       "    </tr>\n",
       "    <tr>\n",
       "      <th>9</th>\n",
       "      <td>9</td>\n",
       "      <td>13</td>\n",
       "      <td>POLYGON ((0 1, 1 1, 1 2, 0 2, 0 1))</td>\n",
       "    </tr>\n",
       "  </tbody>\n",
       "</table>\n",
       "</div>"
      ],
      "text/plain": [
       "   Index  Value                             geometry\n",
       "0      0     14  POLYGON ((0 0, 1 0, 1 1, 0 1, 0 0))\n",
       "1      1     15  POLYGON ((1 0, 2 0, 2 1, 1 1, 1 0))\n",
       "2      2     16  POLYGON ((2 0, 3 0, 3 1, 2 1, 2 0))\n",
       "3      3     17  POLYGON ((3 0, 4 0, 4 1, 3 1, 3 0))\n",
       "4      4     16  POLYGON ((4 0, 5 0, 5 1, 4 1, 4 0))\n",
       "5      5     15  POLYGON ((5 0, 6 0, 6 1, 5 1, 5 0))\n",
       "6      6     14  POLYGON ((6 0, 7 0, 7 1, 6 1, 6 0))\n",
       "7      7     14  POLYGON ((7 0, 8 0, 8 1, 7 1, 7 0))\n",
       "8      8     14  POLYGON ((8 0, 9 0, 9 1, 8 1, 8 0))\n",
       "9      9     13  POLYGON ((0 1, 1 1, 1 2, 0 2, 0 1))"
      ]
     },
     "execution_count": 72,
     "metadata": {},
     "output_type": "execute_result"
    }
   ],
   "source": [
    "gdf_positive.head(10)"
   ]
  },
  {
   "cell_type": "code",
   "execution_count": 85,
   "metadata": {},
   "outputs": [],
   "source": [
    "positive_valules = gdf_none['Value'].values"
   ]
  },
  {
   "cell_type": "code",
   "execution_count": 86,
   "metadata": {},
   "outputs": [
    {
     "data": {
      "text/plain": [
       "array([16, 11, 15, 29, 18, 20, 18, 14, 12, 11, 21, 13, 26,  6,  9, 15, 13,\n",
       "       17, 15,  4, 21, 16, 18, 11, 18, 13, 15, 18,  9, 15,  7, 23, 17, 13,\n",
       "       16, 12,  9, 10, 12, 14, 25, 20, 13, 12, 14, 12, 17, 25, 15,  6, 14,\n",
       "       14,  9, 10, 19, 20, 10, 11,  9, 21,  9, 11, 13, 13, 19, 16, 18, 13,\n",
       "       19,  7, 16, 20, 16, 10,  5, 20, 16, 15, 21,  2,  8])"
      ]
     },
     "execution_count": 86,
     "metadata": {},
     "output_type": "execute_result"
    }
   ],
   "source": [
    "positive_valules"
   ]
  },
  {
   "cell_type": "code",
   "execution_count": 87,
   "metadata": {},
   "outputs": [],
   "source": [
    "adjacency_simplex = tda.AdjacencySimplex(geo_dataframe=gdf_none, variable = \"Value\", threshold=None, filter_method='down')\n",
    "\n",
    "adjacency_simplex.filter_sort_gdf()\n",
    "\n",
    "adjacency_simplex.calculate_adjacent_countries()\n",
    "\n",
    "adjacency_simplex.form_simplicial_complex()\n"
   ]
  },
  {
   "cell_type": "code",
   "execution_count": 88,
   "metadata": {},
   "outputs": [],
   "source": [
    "oberved = adjacency_simplex.compute_persistence()"
   ]
  },
  {
   "cell_type": "code",
   "execution_count": 89,
   "metadata": {},
   "outputs": [],
   "source": [
    "oberved_tl = oberved['TL']"
   ]
  },
  {
   "cell_type": "code",
   "execution_count": 90,
   "metadata": {},
   "outputs": [],
   "source": [
    "permuted_tl = []"
   ]
  },
  {
   "cell_type": "code",
   "execution_count": 91,
   "metadata": {},
   "outputs": [],
   "source": [
    "for i in range(1000):\n",
    "\n",
    "    # sets the random seed\n",
    "\n",
    "    np.random.shuffle(positive_valules)\n",
    "    # print(positive_valules)\n",
    "    gdf_none['Value'] = positive_valules\n",
    "\n",
    "    adjacency_simplex = tda.AdjacencySimplex(geo_dataframe=gdf_none, variable = \"Value\", threshold=None, filter_method='down')\n",
    "    adjacency_simplex.filter_sort_gdf()\n",
    "    adjacency_simplex.calculate_adjacent_countries()\n",
    "    adjacency_simplex.form_simplicial_complex()\n",
    "\n",
    "    permutation = adjacency_simplex.compute_persistence()\n",
    "    permutation_tl_ = permutation['TL']\n",
    "    permuted_tl.append(permutation_tl_)"
   ]
  },
  {
   "cell_type": "code",
   "execution_count": 92,
   "metadata": {},
   "outputs": [
    {
     "name": "stdout",
     "output_type": "stream",
     "text": [
      "1251.609\n"
     ]
    }
   ],
   "source": [
    "# permuted_tl\n",
    "\n",
    "# p_value = tda.compute_p_value(oberved_tl, permuted_tl)\n",
    "\n",
    "len(permuted_tl)\n",
    "\n",
    "# get the mean of the permuted values\n",
    "mean_permuted = np.mean(permuted_tl)\n",
    "\n",
    "print(mean_permuted)\n"
   ]
  },
  {
   "cell_type": "code",
   "execution_count": 93,
   "metadata": {},
   "outputs": [],
   "source": [
    "mean_per_observed_diff = abs(oberved_tl - mean_permuted)\n"
   ]
  },
  {
   "cell_type": "code",
   "execution_count": 94,
   "metadata": {},
   "outputs": [
    {
     "name": "stdout",
     "output_type": "stream",
     "text": [
      "0.34765234765234765\n"
     ]
    }
   ],
   "source": [
    "count = 0\n",
    "for i in range(len(permuted_tl)):\n",
    "\n",
    "    mean_per_permuted_diff = mean_permuted - permuted_tl[i]\n",
    "    # get the absolute value of the difference\n",
    "    mean_per_permuted_diff = abs(mean_per_permuted_diff)\n",
    "\n",
    "    if mean_per_permuted_diff >= mean_per_observed_diff:\n",
    "        # print('True')\n",
    "        count += 1\n",
    "\n",
    "p_value = (count+1)/(len(permuted_tl)+1)\n",
    "\n",
    "print(p_value)"
   ]
  },
  {
   "cell_type": "code",
   "execution_count": 95,
   "metadata": {},
   "outputs": [
    {
     "name": "stdout",
     "output_type": "stream",
     "text": [
      "No significant spatial correlation\n"
     ]
    }
   ],
   "source": [
    "if p_value > 0.05:\n",
    "    print('No significant spatial correlation')\n",
    "else:\n",
    "    print('Significant spatial correlation')"
   ]
  },
  {
   "cell_type": "code",
   "execution_count": null,
   "metadata": {},
   "outputs": [],
   "source": []
  },
  {
   "cell_type": "code",
   "execution_count": null,
   "metadata": {},
   "outputs": [],
   "source": []
  },
  {
   "cell_type": "code",
   "execution_count": null,
   "metadata": {},
   "outputs": [],
   "source": []
  },
  {
   "cell_type": "code",
   "execution_count": null,
   "metadata": {},
   "outputs": [],
   "source": []
  },
  {
   "cell_type": "code",
   "execution_count": null,
   "metadata": {},
   "outputs": [],
   "source": []
  },
  {
   "cell_type": "code",
   "execution_count": 9,
   "metadata": {},
   "outputs": [],
   "source": [
    "adjacency_simplex = tda.AdjacencySimplex(geo_dataframe=gdf_positive, variable = \"Value\", threshold=None, filter_method='down')\n",
    "\n",
    "adjacency_simplex.filter_sort_gdf()\n",
    "\n",
    "adjacency_simplex.calculate_adjacent_countries()\n",
    "\n",
    "adjacency_simplex.form_simplicial_complex()\n"
   ]
  },
  {
   "cell_type": "code",
   "execution_count": 10,
   "metadata": {},
   "outputs": [
    {
     "name": "stdout",
     "output_type": "stream",
     "text": [
      "GIF created and saved as adj_simplex_Value_down.gif.\n"
     ]
    }
   ],
   "source": [
    "adjacency_simplex.plot_simplicial_complex()\n"
   ]
  },
  {
   "cell_type": "code",
   "execution_count": null,
   "metadata": {},
   "outputs": [],
   "source": []
  }
 ],
 "metadata": {
  "kernelspec": {
   "display_name": "pymc_env",
   "language": "python",
   "name": "python3"
  },
  "language_info": {
   "codemirror_mode": {
    "name": "ipython",
    "version": 3
   },
   "file_extension": ".py",
   "mimetype": "text/x-python",
   "name": "python",
   "nbconvert_exporter": "python",
   "pygments_lexer": "ipython3",
   "version": "3.12.8"
  }
 },
 "nbformat": 4,
 "nbformat_minor": 2
}
