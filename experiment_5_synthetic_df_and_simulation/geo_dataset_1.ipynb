{
 "cells": [
  {
   "cell_type": "markdown",
   "metadata": {},
   "source": []
  },
  {
   "cell_type": "code",
   "execution_count": 3,
   "metadata": {},
   "outputs": [],
   "source": [
    "import numpy as np\n",
    "import pandas as pd\n",
    "import geopandas as gpd\n",
    "from shapely import geometry as geom\n",
    "from scipy.ndimage import gaussian_filter"
   ]
  },
  {
   "cell_type": "code",
   "execution_count": 4,
   "metadata": {},
   "outputs": [],
   "source": [
    "def generate_grid_dataframe(grid_side_length,):\n",
    "    \"\"\"\n",
    "    Generates a GeoDataFrame based on the grid size of one side.\n",
    "    \n",
    "    Parameters:\n",
    "        grid_side_length (int): The number of squares along one side of the grid.\n",
    "\n",
    "    Returns:\n",
    "        GeoDataFrame: A GeoDataFrame containing square geometries and negatively correlated values.\n",
    "    \"\"\"\n",
    "    num_squares = grid_side_length ** 2\n",
    "\n",
    "    # Create DataFrame\n",
    "    df = pd.DataFrame({'Index': np.arange(num_squares)})\n",
    "\n",
    "    # Generate positively correlated normal values\n",
    "    grid_size = (grid_side_length, grid_side_length)\n",
    "    mean, std_dev = 0.5, 0.125\n",
    "    random_values = np.random.normal(mean, std_dev, grid_size)\n",
    "    smoothed_values = gaussian_filter(random_values, sigma=1.5)  # Spatial correlation\n",
    "\n",
    "    # Generate a negatively correlated field by flipping values\n",
    "    negatively_correlated_values = -1 * smoothed_values + (2 * mean)\n",
    "\n",
    "    # Assign values to the DataFrame\n",
    "    df['Value'] = negatively_correlated_values.ravel()\n",
    "\n",
    "    # Function to calculate square coordinates\n",
    "    def calculate_square_coordinates(row):\n",
    "        value = row['Index']\n",
    "        x = value % grid_side_length\n",
    "        y = value // grid_side_length\n",
    "        return geom.Polygon([(x, y), (x+1, y), (x+1, y+1), (x, y+1)])\n",
    "\n",
    "    # Convert to GeoDataFrame with square geometries\n",
    "    df['geometry'] = df.apply(calculate_square_coordinates, axis=1)\n",
    "    gdf = gpd.GeoDataFrame(df, geometry='geometry')\n",
    "\n",
    "    return gdf"
   ]
  },
  {
   "cell_type": "code",
   "execution_count": 5,
   "metadata": {},
   "outputs": [
    {
     "name": "stdout",
     "output_type": "stream",
     "text": [
      "   Index     Value                             geometry\n",
      "0      0  0.465732  POLYGON ((0 0, 1 0, 1 1, 0 1, 0 0))\n",
      "1      1  0.453164  POLYGON ((1 0, 2 0, 2 1, 1 1, 1 0))\n",
      "2      2  0.443105  POLYGON ((2 0, 3 0, 3 1, 2 1, 2 0))\n",
      "3      3  0.447778  POLYGON ((3 0, 4 0, 4 1, 3 1, 3 0))\n",
      "4      4  0.456674  POLYGON ((4 0, 5 0, 5 1, 4 1, 4 0))\n"
     ]
    }
   ],
   "source": [
    "gdf = generate_grid_dataframe(7)  # Generates a 7x7 grid\n",
    "print(gdf.head())"
   ]
  },
  {
   "cell_type": "code",
   "execution_count": 6,
   "metadata": {},
   "outputs": [
    {
     "data": {
      "text/plain": [
       "<Axes: >"
      ]
     },
     "execution_count": 6,
     "metadata": {},
     "output_type": "execute_result"
    },
    {
     "data": {
      "image/png": "[encoded data removed]",
      "text/plain": [
       "<Figure size 640x480 with 2 Axes>"
      ]
     },
     "metadata": {},
     "output_type": "display_data"
    }
   ],
   "source": [
    "gdf.plot(column='Value', cmap='coolwarm', legend=True)"
   ]
  },
  {
   "cell_type": "code",
   "execution_count": 7,
   "metadata": {},
   "outputs": [],
   "source": [
    "import numpy as np\n",
    "import pandas as pd\n",
    "import geopandas as gpd\n",
    "from shapely import geometry as geom\n",
    "from scipy.ndimage import gaussian_filter\n",
    "\n",
    "def generate_grid_dataframe(grid_side_length, autocorrelation=\"positive\", random_seed=42):\n",
    "    \"\"\"\n",
    "    Generates a GeoDataFrame based on the grid size of one side with different types of spatial autocorrelation.\n",
    "    \n",
    "    Parameters:\n",
    "        grid_side_length (int): The number of squares along one side of the grid.\n",
    "        autocorrelation (str): Type of spatial autocorrelation. Options:\n",
    "                               \"none\" - No spatial correlation (pure random)\n",
    "                               \"positive\" - Spatially smoothed using a Gaussian filter\n",
    "                               \"negative\" - Spatially negative correlation (inverted)\n",
    "        random_seed (int): Random seed for reproducibility.\n",
    "\n",
    "    Returns:\n",
    "        GeoDataFrame: A GeoDataFrame containing square geometries and values based on the selected correlation.\n",
    "    \"\"\"\n",
    "    np.random.seed(random_seed)  # Set the random seed for reproducibility\n",
    "\n",
    "    num_squares = grid_side_length ** 2\n",
    "    df = pd.DataFrame({'Index': np.arange(num_squares)})\n",
    "\n",
    "    # Define grid size and statistical parameters\n",
    "    grid_size = (grid_side_length, grid_side_length)\n",
    "    mean, std_dev = 0.5, 0.125\n",
    "\n",
    "    # Generate initial random values\n",
    "    random_values = np.random.normal(mean, std_dev, grid_size)\n",
    "\n",
    "    if autocorrelation == \"none\":\n",
    "        values = random_values  # No spatial correlation\n",
    "\n",
    "    elif autocorrelation == \"positive\":\n",
    "        values = gaussian_filter(random_values, sigma=1.5)  # Apply Gaussian smoothing for spatial correlation\n",
    "\n",
    "    elif autocorrelation == \"negative\":\n",
    "        smoothed_values = gaussian_filter(random_values, sigma=1.5)\n",
    "        values = -1 * smoothed_values + (2 * mean)  # Flip values around the mean for negative correlation\n",
    "\n",
    "    else:\n",
    "        raise ValueError(\"Invalid autocorrelation type. Choose from 'none', 'positive', or 'negative'.\")\n",
    "\n",
    "    # Assign values to the DataFrame\n",
    "    df['Value'] = values.ravel()\n",
    "\n",
    "    # Function to calculate square coordinates\n",
    "    def calculate_square_coordinates(row):\n",
    "        value = row['Index']\n",
    "        x = value % grid_side_length\n",
    "        y = value // grid_side_length\n",
    "        return geom.Polygon([(x, y), (x+1, y), (x+1, y+1), (x, y+1)])\n",
    "\n",
    "    # Convert to GeoDataFrame with square geometries\n",
    "    df['geometry'] = df.apply(calculate_square_coordinates, axis=1)\n",
    "    gdf = gpd.GeoDataFrame(df, geometry='geometry')\n",
    "\n",
    "    return gdf\n"
   ]
  },
  {
   "cell_type": "code",
   "execution_count": 16,
   "metadata": {},
   "outputs": [],
   "source": [
    "grid_size = 10\n"
   ]
  },
  {
   "cell_type": "code",
   "execution_count": 19,
   "metadata": {},
   "outputs": [],
   "source": [
    "gdf_none = generate_grid_dataframe(10, autocorrelation=\"none\", random_seed=42)        # No spatial correlation\n",
    "gdf_positive = generate_grid_dataframe(10, autocorrelation=\"positive\", random_seed=42)  # Positive spatial correlation\n",
    "gdf_negative = generate_grid_dataframe(10, autocorrelation=\"negative\", random_seed=42)  # Negative spatial correlation"
   ]
  },
  {
   "cell_type": "code",
   "execution_count": 20,
   "metadata": {},
   "outputs": [
    {
     "data": {
      "image/png": "[encoded data removed]",
      "text/plain": [
       "<Figure size 1500x500 with 6 Axes>"
      ]
     },
     "metadata": {},
     "output_type": "display_data"
    }
   ],
   "source": [
    "# plot three maps side by side\n",
    "import matplotlib.pyplot as plt\n",
    "\n",
    "fig, axs = plt.subplots(1, 3, figsize=(15, 5))\n",
    "\n",
    "gdf_none.plot(column='Value', cmap='coolwarm', legend=True, ax=axs[0])\n",
    "\n",
    "gdf_positive.plot(column='Value', cmap='coolwarm', legend=True, ax=axs[1])\n",
    "\n",
    "gdf_negative.plot(column='Value', cmap='coolwarm', legend=True, ax=axs[2])\n",
    "\n",
    "plt.show()"
   ]
  },
  {
   "cell_type": "code",
   "execution_count": 21,
   "metadata": {},
   "outputs": [],
   "source": [
    "import libpysal as ps\n",
    "from esda.moran import Moran"
   ]
  },
  {
   "cell_type": "code",
   "execution_count": 22,
   "metadata": {},
   "outputs": [],
   "source": [
    "def calculate_moran_i(gdf, grid_side_length):\n",
    "    \"\"\"\n",
    "    Calculates Moran's I for the given GeoDataFrame.\n",
    "\n",
    "    Parameters:\n",
    "        gdf (GeoDataFrame): A spatial dataframe with values and geometry.\n",
    "        grid_side_length (int): The number of rows/columns in the square grid.\n",
    "\n",
    "    Returns:\n",
    "        float: Moran's I value indicating spatial autocorrelation.\n",
    "    \"\"\"\n",
    "    # Create spatial weights matrix (rook contiguity)\n",
    "    w = ps.weights.lat2W(grid_side_length, grid_side_length)\n",
    "    w.transform = 'r'  # Row-standardized weights\n",
    "\n",
    "    # Extract the 'Value' column for Moran's I computation\n",
    "    values = gdf['Value'].values\n",
    "\n",
    "    # Compute Moran’s I\n",
    "    moran = Moran(values, w)\n",
    "\n",
    "    return moran.I"
   ]
  },
  {
   "cell_type": "code",
   "execution_count": 23,
   "metadata": {},
   "outputs": [
    {
     "name": "stdout",
     "output_type": "stream",
     "text": [
      "Moran's I (No Autocorrelation): -0.05438727909210017\n",
      "Moran's I (Positive Autocorrelation): 0.8714759278151759\n",
      "Moran's I (Negative Autocorrelation): -0.9995556081870076\n"
     ]
    }
   ],
   "source": [
    "# Calculate Moran’s I\n",
    "moran_none = calculate_moran_i(gdf_none, grid_size)\n",
    "moran_positive = calculate_moran_i(gdf_positive, grid_size)\n",
    "moran_negative = calculate_moran_i(gdf_negative, grid_size)\n",
    "\n",
    "# Display Moran's I values\n",
    "print(f\"Moran's I (No Autocorrelation): {moran_none}\")\n",
    "print(f\"Moran's I (Positive Autocorrelation): {moran_positive}\")\n",
    "print(f\"Moran's I (Negative Autocorrelation): {moran_negative}\")"
   ]
  },
  {
   "cell_type": "code",
   "execution_count": 18,
   "metadata": {},
   "outputs": [],
   "source": [
    "def generate_grid_dataframe(grid_side_length, autocorrelation=\"positive\", random_seed=42):\n",
    "    \"\"\"\n",
    "    Generates a GeoDataFrame based on the grid size of one side with different types of spatial autocorrelation.\n",
    "    \n",
    "    Parameters:\n",
    "        grid_side_length (int): The number of squares along one side of the grid.\n",
    "        autocorrelation (str): Type of spatial autocorrelation. Options:\n",
    "                               \"none\" - No spatial correlation (pure random)\n",
    "                               \"positive\" - Spatially smoothed using a Gaussian filter\n",
    "                               \"negative\" - Checkerboard pattern for negative spatial correlation\n",
    "        random_seed (int): Random seed for reproducibility.\n",
    "\n",
    "    Returns:\n",
    "        GeoDataFrame: A GeoDataFrame containing square geometries and values based on the selected correlation.\n",
    "    \"\"\"\n",
    "    np.random.seed(random_seed)  # Set the random seed for reproducibility\n",
    "\n",
    "    num_squares = grid_side_length ** 2\n",
    "    df = pd.DataFrame({'Index': np.arange(num_squares)})\n",
    "\n",
    "    # Define grid size and statistical parameters\n",
    "    grid_size = (grid_side_length, grid_side_length)\n",
    "    mean, std_dev = 0.5, 0.125\n",
    "\n",
    "    # Generate initial random values\n",
    "    random_values = np.random.normal(mean, std_dev, grid_size)\n",
    "\n",
    "    if autocorrelation == \"none\":\n",
    "        values = random_values  # No spatial correlation\n",
    "\n",
    "    elif autocorrelation == \"positive\":\n",
    "        values = gaussian_filter(random_values, sigma=1.5)  # Apply Gaussian smoothing for spatial correlation\n",
    "\n",
    "    elif autocorrelation == \"negative\":\n",
    "        smoothed_values = gaussian_filter(random_values, sigma=1.5)\n",
    "        checkerboard = np.indices(grid_size).sum(axis=0) % 2  # Create checkerboard pattern (alternating 0s and 1s)\n",
    "        values = smoothed_values * (-1) ** checkerboard  # Flip alternating cells\n",
    "\n",
    "    else:\n",
    "        raise ValueError(\"Invalid autocorrelation type. Choose from 'none', 'positive', or 'negative'.\")\n",
    "\n",
    "    # Assign values to the DataFrame\n",
    "    df['Value'] = values.ravel()\n",
    "\n",
    "    # Function to calculate square coordinates\n",
    "    def calculate_square_coordinates(row):\n",
    "        value = row['Index']\n",
    "        x = value % grid_side_length\n",
    "        y = value // grid_side_length\n",
    "        return geom.Polygon([(x, y), (x+1, y), (x+1, y+1), (x, y+1)])\n",
    "\n",
    "    # Convert to GeoDataFrame with square geometries\n",
    "    df['geometry'] = df.apply(calculate_square_coordinates, axis=1)\n",
    "    gdf = gpd.GeoDataFrame(df, geometry='geometry')\n",
    "\n",
    "    return gdf"
   ]
  },
  {
   "cell_type": "code",
   "execution_count": 24,
   "metadata": {},
   "outputs": [
    {
     "data": {
      "text/html": [
       "<div>\n",
       "<style scoped>\n",
       "    .dataframe tbody tr th:only-of-type {\n",
       "        vertical-align: middle;\n",
       "    }\n",
       "\n",
       "    .dataframe tbody tr th {\n",
       "        vertical-align: top;\n",
       "    }\n",
       "\n",
       "    .dataframe thead th {\n",
       "        text-align: right;\n",
       "    }\n",
       "</style>\n",
       "<table border=\"1\" class=\"dataframe\">\n",
       "  <thead>\n",
       "    <tr style=\"text-align: right;\">\n",
       "      <th></th>\n",
       "      <th>Index</th>\n",
       "      <th>Value</th>\n",
       "      <th>geometry</th>\n",
       "    </tr>\n",
       "  </thead>\n",
       "  <tbody>\n",
       "    <tr>\n",
       "      <th>0</th>\n",
       "      <td>0</td>\n",
       "      <td>0.515726</td>\n",
       "      <td>POLYGON ((0 0, 1 0, 1 1, 0 1, 0 0))</td>\n",
       "    </tr>\n",
       "    <tr>\n",
       "      <th>1</th>\n",
       "      <td>1</td>\n",
       "      <td>-0.510445</td>\n",
       "      <td>POLYGON ((1 0, 2 0, 2 1, 1 1, 1 0))</td>\n",
       "    </tr>\n",
       "    <tr>\n",
       "      <th>2</th>\n",
       "      <td>2</td>\n",
       "      <td>0.498830</td>\n",
       "      <td>POLYGON ((2 0, 3 0, 3 1, 2 1, 2 0))</td>\n",
       "    </tr>\n",
       "    <tr>\n",
       "      <th>3</th>\n",
       "      <td>3</td>\n",
       "      <td>-0.482735</td>\n",
       "      <td>POLYGON ((3 0, 4 0, 4 1, 3 1, 3 0))</td>\n",
       "    </tr>\n",
       "    <tr>\n",
       "      <th>4</th>\n",
       "      <td>4</td>\n",
       "      <td>0.473196</td>\n",
       "      <td>POLYGON ((4 0, 5 0, 5 1, 4 1, 4 0))</td>\n",
       "    </tr>\n",
       "  </tbody>\n",
       "</table>\n",
       "</div>"
      ],
      "text/plain": [
       "   Index     Value                             geometry\n",
       "0      0  0.515726  POLYGON ((0 0, 1 0, 1 1, 0 1, 0 0))\n",
       "1      1 -0.510445  POLYGON ((1 0, 2 0, 2 1, 1 1, 1 0))\n",
       "2      2  0.498830  POLYGON ((2 0, 3 0, 3 1, 2 1, 2 0))\n",
       "3      3 -0.482735  POLYGON ((3 0, 4 0, 4 1, 3 1, 3 0))\n",
       "4      4  0.473196  POLYGON ((4 0, 5 0, 5 1, 4 1, 4 0))"
      ]
     },
     "execution_count": 24,
     "metadata": {},
     "output_type": "execute_result"
    }
   ],
   "source": [
    "gdf_negative.head()"
   ]
  },
  {
   "cell_type": "code",
   "execution_count": 27,
   "metadata": {},
   "outputs": [
    {
     "data": {
      "text/plain": [
       "<Axes: ylabel='Frequency'>"
      ]
     },
     "execution_count": 27,
     "metadata": {},
     "output_type": "execute_result"
    },
    {
     "data": {
      "image/png": "[encoded data removed]",
      "text/plain": [
       "<Figure size 640x480 with 1 Axes>"
      ]
     },
     "metadata": {},
     "output_type": "display_data"
    }
   ],
   "source": [
    "gdf_none['Value'].plot.hist(bins=15, color='skyblue', edgecolor='black')"
   ]
  },
  {
   "cell_type": "code",
   "execution_count": null,
   "metadata": {},
   "outputs": [],
   "source": []
  }
 ],
 "metadata": {
  "kernelspec": {
   "display_name": "pymc_env",
   "language": "python",
   "name": "python3"
  },
  "language_info": {
   "codemirror_mode": {
    "name": "ipython",
    "version": 3
   },
   "file_extension": ".py",
   "mimetype": "text/x-python",
   "name": "python",
   "nbconvert_exporter": "python",
   "pygments_lexer": "ipython3",
   "version": "3.12.8"
  }
 },
 "nbformat": 4,
 "nbformat_minor": 2
}
