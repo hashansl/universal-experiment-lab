{
 "cells": [
  {
   "cell_type": "markdown",
   "metadata": {},
   "source": []
  },
  {
   "cell_type": "code",
   "execution_count": 6,
   "metadata": {},
   "outputs": [],
   "source": [
    "import numpy as np"
   ]
  },
  {
   "cell_type": "code",
   "execution_count": 3,
   "metadata": {},
   "outputs": [],
   "source": [
    "from gtda.homology import VietorisRipsPersistence"
   ]
  },
  {
   "cell_type": "code",
   "execution_count": 4,
   "metadata": {},
   "outputs": [],
   "source": [
    "\"\"\" Connectivity information\n",
    "0-dimensional homology β0 or H0, measures clusters;\n",
    "1-dimensional homology1 β1 or H1, measures loops; and\n",
    "2- dimensional homology β2 or H2, measures voids (empty spaces) \"\"\"\n",
    "homology_dimensions = [0, 1, 2]\n",
    "VR = VietorisRipsPersistence(\n",
    "                    homology_dimensions=homology_dimensions,\n",
    "                    coeff=3,\n",
    "                    n_jobs=-1\n",
    ")"
   ]
  },
  {
   "cell_type": "code",
   "execution_count": 7,
   "metadata": {},
   "outputs": [
    {
     "ename": "NameError",
     "evalue": "name 'proj_3d' is not defined",
     "output_type": "error",
     "traceback": [
      "\u001b[0;31m---------------------------------------------------------------------------\u001b[0m",
      "\u001b[0;31mNameError\u001b[0m                                 Traceback (most recent call last)",
      "Cell \u001b[0;32mIn[7], line 2\u001b[0m\n\u001b[1;32m      1\u001b[0m \u001b[38;5;66;03m#plot persistence diagram\u001b[39;00m\n\u001b[0;32m----> 2\u001b[0m diagram \u001b[38;5;241m=\u001b[39mVR\u001b[38;5;241m.\u001b[39mfit_transform(np\u001b[38;5;241m.\u001b[39marray(proj_3d)[\u001b[38;5;28;01mNone\u001b[39;00m, : , :])\n\u001b[1;32m      3\u001b[0m VR\u001b[38;5;241m.\u001b[39mfit_transform_plot(np\u001b[38;5;241m.\u001b[39marray(proj_3d)\u001b[38;5;241m.\u001b[39mreshape(\u001b[38;5;241m1\u001b[39m,\u001b[38;5;241m*\u001b[39mnp\u001b[38;5;241m.\u001b[39marray(proj_3d)\u001b[38;5;241m.\u001b[39mshape))\n",
      "\u001b[0;31mNameError\u001b[0m: name 'proj_3d' is not defined"
     ]
    }
   ],
   "source": [
    "#plot persistence diagram\n",
    "diagram =VR.fit_transform(np.array(proj_3d)[None, : , :])\n",
    "VR.fit_transform_plot(np.array(proj_3d).reshape(1,*np.array(proj_3d).shape))"
   ]
  },
  {
   "cell_type": "code",
   "execution_count": null,
   "metadata": {},
   "outputs": [],
   "source": []
  },
  {
   "cell_type": "code",
   "execution_count": null,
   "metadata": {},
   "outputs": [],
   "source": []
  },
  {
   "cell_type": "code",
   "execution_count": null,
   "metadata": {},
   "outputs": [],
   "source": []
  }
 ],
 "metadata": {
  "kernelspec": {
   "display_name": "TDA",
   "language": "python",
   "name": "python3"
  },
  "language_info": {
   "codemirror_mode": {
    "name": "ipython",
    "version": 3
   },
   "file_extension": ".py",
   "mimetype": "text/x-python",
   "name": "python",
   "nbconvert_exporter": "python",
   "pygments_lexer": "ipython3",
   "version": "3.11.4"
  }
 },
 "nbformat": 4,
 "nbformat_minor": 2
}
