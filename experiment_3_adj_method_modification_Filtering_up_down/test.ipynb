{
 "cells": [
  {
   "cell_type": "markdown",
   "metadata": {},
   "source": [
    "#### Experiment filtering up and down methods"
   ]
  },
  {
   "cell_type": "markdown",
   "metadata": {},
   "source": [
    "Might have to experiment with invr file "
   ]
  },
  {
   "cell_type": "markdown",
   "metadata": {},
   "source": [
    "### First create a custom dataframe to experiment"
   ]
  },
  {
   "cell_type": "code",
   "execution_count": 1,
   "metadata": {},
   "outputs": [
    {
     "name": "stderr",
     "output_type": "stream",
     "text": [
      "/Users/h6x/anaconda3/envs/TDA/lib/python3.11/site-packages/pandas/core/arrays/masked.py:60: UserWarning: Pandas requires version '1.3.6' or newer of 'bottleneck' (version '1.3.5' currently installed).\n",
      "  from pandas.core import (\n"
     ]
    }
   ],
   "source": [
    "# import libraries\n",
    "import pandas as pd\n",
    "import geopandas as gpd\n",
    "import numpy as np\n",
    "import matplotlib.pyplot as plt\n",
    "import shapely.geometry as geom"
   ]
  },
  {
   "cell_type": "code",
   "execution_count": 2,
   "metadata": {},
   "outputs": [],
   "source": [
    "# Create a DataFrame with box names and values\n",
    "box_names = [chr(65 + i) for i in range(16)]\n",
    "index = list(range(0, 16))\n",
    "values = list(range(1, 17))"
   ]
  },
  {
   "cell_type": "code",
   "execution_count": 3,
   "metadata": {},
   "outputs": [],
   "source": [
    "df = pd.DataFrame({'FIPS': box_names,'Index': index, 'Value': values})"
   ]
  },
  {
   "cell_type": "code",
   "execution_count": 4,
   "metadata": {},
   "outputs": [
    {
     "data": {
      "text/html": [
       "<div>\n",
       "<style scoped>\n",
       "    .dataframe tbody tr th:only-of-type {\n",
       "        vertical-align: middle;\n",
       "    }\n",
       "\n",
       "    .dataframe tbody tr th {\n",
       "        vertical-align: top;\n",
       "    }\n",
       "\n",
       "    .dataframe thead th {\n",
       "        text-align: right;\n",
       "    }\n",
       "</style>\n",
       "<table border=\"1\" class=\"dataframe\">\n",
       "  <thead>\n",
       "    <tr style=\"text-align: right;\">\n",
       "      <th></th>\n",
       "      <th>FIPS</th>\n",
       "      <th>Index</th>\n",
       "      <th>Value</th>\n",
       "    </tr>\n",
       "  </thead>\n",
       "  <tbody>\n",
       "    <tr>\n",
       "      <th>0</th>\n",
       "      <td>A</td>\n",
       "      <td>0</td>\n",
       "      <td>1</td>\n",
       "    </tr>\n",
       "    <tr>\n",
       "      <th>1</th>\n",
       "      <td>B</td>\n",
       "      <td>1</td>\n",
       "      <td>2</td>\n",
       "    </tr>\n",
       "    <tr>\n",
       "      <th>2</th>\n",
       "      <td>C</td>\n",
       "      <td>2</td>\n",
       "      <td>3</td>\n",
       "    </tr>\n",
       "    <tr>\n",
       "      <th>3</th>\n",
       "      <td>D</td>\n",
       "      <td>3</td>\n",
       "      <td>4</td>\n",
       "    </tr>\n",
       "    <tr>\n",
       "      <th>4</th>\n",
       "      <td>E</td>\n",
       "      <td>4</td>\n",
       "      <td>5</td>\n",
       "    </tr>\n",
       "  </tbody>\n",
       "</table>\n",
       "</div>"
      ],
      "text/plain": [
       "  FIPS  Index  Value\n",
       "0    A      0      1\n",
       "1    B      1      2\n",
       "2    C      2      3\n",
       "3    D      3      4\n",
       "4    E      4      5"
      ]
     },
     "execution_count": 4,
     "metadata": {},
     "output_type": "execute_result"
    }
   ],
   "source": [
    "df.head()"
   ]
  },
  {
   "cell_type": "code",
   "execution_count": 5,
   "metadata": {},
   "outputs": [],
   "source": [
    "# Sorting the DataFrame based on the 'rate' column :::: Values are needed to be sorted in ascending order\n",
    "df.sort_values(by='Value', inplace=True)\n",
    "\n",
    "# Adding a new column 'new_ID' with ID values starting from zero\n",
    "df['sortedID'] = range(len(df))"
   ]
  },
  {
   "cell_type": "code",
   "execution_count": 6,
   "metadata": {},
   "outputs": [
    {
     "data": {
      "text/html": [
       "<div>\n",
       "<style scoped>\n",
       "    .dataframe tbody tr th:only-of-type {\n",
       "        vertical-align: middle;\n",
       "    }\n",
       "\n",
       "    .dataframe tbody tr th {\n",
       "        vertical-align: top;\n",
       "    }\n",
       "\n",
       "    .dataframe thead th {\n",
       "        text-align: right;\n",
       "    }\n",
       "</style>\n",
       "<table border=\"1\" class=\"dataframe\">\n",
       "  <thead>\n",
       "    <tr style=\"text-align: right;\">\n",
       "      <th></th>\n",
       "      <th>FIPS</th>\n",
       "      <th>Index</th>\n",
       "      <th>Value</th>\n",
       "      <th>sortedID</th>\n",
       "    </tr>\n",
       "  </thead>\n",
       "  <tbody>\n",
       "    <tr>\n",
       "      <th>0</th>\n",
       "      <td>A</td>\n",
       "      <td>0</td>\n",
       "      <td>1</td>\n",
       "      <td>0</td>\n",
       "    </tr>\n",
       "    <tr>\n",
       "      <th>1</th>\n",
       "      <td>B</td>\n",
       "      <td>1</td>\n",
       "      <td>2</td>\n",
       "      <td>1</td>\n",
       "    </tr>\n",
       "    <tr>\n",
       "      <th>2</th>\n",
       "      <td>C</td>\n",
       "      <td>2</td>\n",
       "      <td>3</td>\n",
       "      <td>2</td>\n",
       "    </tr>\n",
       "    <tr>\n",
       "      <th>3</th>\n",
       "      <td>D</td>\n",
       "      <td>3</td>\n",
       "      <td>4</td>\n",
       "      <td>3</td>\n",
       "    </tr>\n",
       "    <tr>\n",
       "      <th>4</th>\n",
       "      <td>E</td>\n",
       "      <td>4</td>\n",
       "      <td>5</td>\n",
       "      <td>4</td>\n",
       "    </tr>\n",
       "  </tbody>\n",
       "</table>\n",
       "</div>"
      ],
      "text/plain": [
       "  FIPS  Index  Value  sortedID\n",
       "0    A      0      1         0\n",
       "1    B      1      2         1\n",
       "2    C      2      3         2\n",
       "3    D      3      4         3\n",
       "4    E      4      5         4"
      ]
     },
     "execution_count": 6,
     "metadata": {},
     "output_type": "execute_result"
    }
   ],
   "source": [
    "df.head()"
   ]
  },
  {
   "cell_type": "code",
   "execution_count": 7,
   "metadata": {},
   "outputs": [],
   "source": [
    "# Function to calculate square coordinates for a given name\n",
    "def calculate_square_coordinates(row):\n",
    "    value = row['Index']\n",
    "    # Assuming each smaller square has a side length of 1 unit\n",
    "    x = value % 4\n",
    "    y = value // 4\n",
    "    # Return square coordinates as a Shapely polygon\n",
    "    return geom.Polygon([(x, y), (x+1, y), (x+1, y+1), (x, y+1)])"
   ]
  },
  {
   "cell_type": "code",
   "execution_count": 8,
   "metadata": {},
   "outputs": [],
   "source": [
    "# Calculate square coordinates for each row and create a geometry column\n",
    "df['geometry'] = df.apply(calculate_square_coordinates, axis=1)"
   ]
  },
  {
   "cell_type": "code",
   "execution_count": 9,
   "metadata": {},
   "outputs": [],
   "source": [
    "# Convert the DataFrame to a GeoDataFrame\n",
    "gdf = gpd.GeoDataFrame(df, geometry='geometry')\n",
    "\n",
    "# Set the CRS to a simple Cartesian coordinate system\n",
    "gdf.crs = \"EPSG:3395\"  # This is a commonly used projected CRS"
   ]
  },
  {
   "cell_type": "code",
   "execution_count": 10,
   "metadata": {},
   "outputs": [
    {
     "data": {
      "image/png": "[encoded data removed]",
      "text/plain": [
       "<Figure size 500x500 with 1 Axes>"
      ]
     },
     "metadata": {},
     "output_type": "display_data"
    }
   ],
   "source": [
    "# plot the geodataframe\n",
    "\n",
    "# Compute centroids separately to avoid warning\n",
    "gdf['centroid'] = gdf.geometry.centroid  \n",
    "\n",
    "# Plot the GeoDataFrame\n",
    "fig, ax = plt.subplots(figsize=(5, 5))\n",
    "gdf.plot(ax=ax, column='Value', cmap='viridis', legend=False)\n",
    "\n",
    "# Add FIPS and Value labels at centroids\n",
    "for x, y, fips, value in zip(gdf.centroid.x, gdf.centroid.y, gdf['FIPS'], gdf['sortedID']):\n",
    "    ax.text(x, y, f\"{fips}\\n{value}\", fontsize=8, ha='center', color='black', \n",
    "            bbox=dict(facecolor='white', alpha=0.5, edgecolor='none'))\n",
    "\n",
    "plt.axis('off')\n",
    "plt.show()"
   ]
  },
  {
   "cell_type": "code",
   "execution_count": 11,
   "metadata": {},
   "outputs": [],
   "source": [
    "gdf = gdf[['FIPS','Value', 'geometry']]  "
   ]
  },
  {
   "cell_type": "markdown",
   "metadata": {},
   "source": [
    "### Creating a custom function to employ filtering up/down"
   ]
  },
  {
   "cell_type": "markdown",
   "metadata": {},
   "source": [
    "Need to prepare the data for the next step"
   ]
  },
  {
   "cell_type": "code",
   "execution_count": 12,
   "metadata": {},
   "outputs": [
    {
     "data": {
      "text/html": [
       "<div>\n",
       "<style scoped>\n",
       "    .dataframe tbody tr th:only-of-type {\n",
       "        vertical-align: middle;\n",
       "    }\n",
       "\n",
       "    .dataframe tbody tr th {\n",
       "        vertical-align: top;\n",
       "    }\n",
       "\n",
       "    .dataframe thead th {\n",
       "        text-align: right;\n",
       "    }\n",
       "</style>\n",
       "<table border=\"1\" class=\"dataframe\">\n",
       "  <thead>\n",
       "    <tr style=\"text-align: right;\">\n",
       "      <th></th>\n",
       "      <th>FIPS</th>\n",
       "      <th>Value</th>\n",
       "      <th>geometry</th>\n",
       "    </tr>\n",
       "  </thead>\n",
       "  <tbody>\n",
       "    <tr>\n",
       "      <th>0</th>\n",
       "      <td>A</td>\n",
       "      <td>1</td>\n",
       "      <td>POLYGON ((0.000 0.000, 1.000 0.000, 1.000 1.00...</td>\n",
       "    </tr>\n",
       "    <tr>\n",
       "      <th>1</th>\n",
       "      <td>B</td>\n",
       "      <td>2</td>\n",
       "      <td>POLYGON ((1.000 0.000, 2.000 0.000, 2.000 1.00...</td>\n",
       "    </tr>\n",
       "    <tr>\n",
       "      <th>2</th>\n",
       "      <td>C</td>\n",
       "      <td>3</td>\n",
       "      <td>POLYGON ((2.000 0.000, 3.000 0.000, 3.000 1.00...</td>\n",
       "    </tr>\n",
       "    <tr>\n",
       "      <th>3</th>\n",
       "      <td>D</td>\n",
       "      <td>4</td>\n",
       "      <td>POLYGON ((3.000 0.000, 4.000 0.000, 4.000 1.00...</td>\n",
       "    </tr>\n",
       "    <tr>\n",
       "      <th>4</th>\n",
       "      <td>E</td>\n",
       "      <td>5</td>\n",
       "      <td>POLYGON ((0.000 1.000, 1.000 1.000, 1.000 2.00...</td>\n",
       "    </tr>\n",
       "  </tbody>\n",
       "</table>\n",
       "</div>"
      ],
      "text/plain": [
       "  FIPS  Value                                           geometry\n",
       "0    A      1  POLYGON ((0.000 0.000, 1.000 0.000, 1.000 1.00...\n",
       "1    B      2  POLYGON ((1.000 0.000, 2.000 0.000, 2.000 1.00...\n",
       "2    C      3  POLYGON ((2.000 0.000, 3.000 0.000, 3.000 1.00...\n",
       "3    D      4  POLYGON ((3.000 0.000, 4.000 0.000, 4.000 1.00...\n",
       "4    E      5  POLYGON ((0.000 1.000, 1.000 1.000, 1.000 2.00..."
      ]
     },
     "execution_count": 12,
     "metadata": {},
     "output_type": "execute_result"
    }
   ],
   "source": [
    "gdf.head()"
   ]
  },
  {
   "cell_type": "code",
   "execution_count": 13,
   "metadata": {},
   "outputs": [
    {
     "name": "stderr",
     "output_type": "stream",
     "text": [
      "/var/folders/j3/904q7dbj02j_jyjz7pvfgz384d40kw/T/ipykernel_86825/1286392328.py:3: SettingWithCopyWarning: \n",
      "A value is trying to be set on a copy of a slice from a DataFrame\n",
      "\n",
      "See the caveats in the documentation: https://pandas.pydata.org/pandas-docs/stable/user_guide/indexing.html#returning-a-view-versus-a-copy\n",
      "  gdf.sort_values(by='Value', ascending=False, inplace=True)\n",
      "/Users/h6x/anaconda3/envs/TDA/lib/python3.11/site-packages/geopandas/geodataframe.py:1543: SettingWithCopyWarning: \n",
      "A value is trying to be set on a copy of a slice from a DataFrame.\n",
      "Try using .loc[row_indexer,col_indexer] = value instead\n",
      "\n",
      "See the caveats in the documentation: https://pandas.pydata.org/pandas-docs/stable/user_guide/indexing.html#returning-a-view-versus-a-copy\n",
      "  super().__setitem__(key, value)\n"
     ]
    }
   ],
   "source": [
    "# sort the data based on the 'Value' column\n",
    "# gdf.sort_values(by='Value', inplace=True)\n",
    "gdf.sort_values(by='Value', ascending=False, inplace=True)\n",
    "\n",
    "# add sortedID column\n",
    "gdf['sortedID'] = range(len(gdf))\n",
    "\n",
    "# make it a geodataframe\n",
    "gdf = gpd.GeoDataFrame(gdf, geometry='geometry')\n",
    "\n",
    "# set the CRS   # This is a commonly used projected CRS # check this again\n",
    "gdf.crs = \"EPSG:4326\""
   ]
  },
  {
   "cell_type": "code",
   "execution_count": 14,
   "metadata": {},
   "outputs": [
    {
     "data": {
      "text/html": [
       "<div>\n",
       "<style scoped>\n",
       "    .dataframe tbody tr th:only-of-type {\n",
       "        vertical-align: middle;\n",
       "    }\n",
       "\n",
       "    .dataframe tbody tr th {\n",
       "        vertical-align: top;\n",
       "    }\n",
       "\n",
       "    .dataframe thead th {\n",
       "        text-align: right;\n",
       "    }\n",
       "</style>\n",
       "<table border=\"1\" class=\"dataframe\">\n",
       "  <thead>\n",
       "    <tr style=\"text-align: right;\">\n",
       "      <th></th>\n",
       "      <th>FIPS</th>\n",
       "      <th>Value</th>\n",
       "      <th>geometry</th>\n",
       "      <th>sortedID</th>\n",
       "    </tr>\n",
       "  </thead>\n",
       "  <tbody>\n",
       "    <tr>\n",
       "      <th>15</th>\n",
       "      <td>P</td>\n",
       "      <td>16</td>\n",
       "      <td>POLYGON ((3.00000 3.00000, 4.00000 3.00000, 4....</td>\n",
       "      <td>0</td>\n",
       "    </tr>\n",
       "    <tr>\n",
       "      <th>14</th>\n",
       "      <td>O</td>\n",
       "      <td>15</td>\n",
       "      <td>POLYGON ((2.00000 3.00000, 3.00000 3.00000, 3....</td>\n",
       "      <td>1</td>\n",
       "    </tr>\n",
       "    <tr>\n",
       "      <th>13</th>\n",
       "      <td>N</td>\n",
       "      <td>14</td>\n",
       "      <td>POLYGON ((1.00000 3.00000, 2.00000 3.00000, 2....</td>\n",
       "      <td>2</td>\n",
       "    </tr>\n",
       "    <tr>\n",
       "      <th>12</th>\n",
       "      <td>M</td>\n",
       "      <td>13</td>\n",
       "      <td>POLYGON ((0.00000 3.00000, 1.00000 3.00000, 1....</td>\n",
       "      <td>3</td>\n",
       "    </tr>\n",
       "    <tr>\n",
       "      <th>11</th>\n",
       "      <td>L</td>\n",
       "      <td>12</td>\n",
       "      <td>POLYGON ((3.00000 2.00000, 4.00000 2.00000, 4....</td>\n",
       "      <td>4</td>\n",
       "    </tr>\n",
       "  </tbody>\n",
       "</table>\n",
       "</div>"
      ],
      "text/plain": [
       "   FIPS  Value                                           geometry  sortedID\n",
       "15    P     16  POLYGON ((3.00000 3.00000, 4.00000 3.00000, 4....         0\n",
       "14    O     15  POLYGON ((2.00000 3.00000, 3.00000 3.00000, 3....         1\n",
       "13    N     14  POLYGON ((1.00000 3.00000, 2.00000 3.00000, 2....         2\n",
       "12    M     13  POLYGON ((0.00000 3.00000, 1.00000 3.00000, 1....         3\n",
       "11    L     12  POLYGON ((3.00000 2.00000, 4.00000 2.00000, 4....         4"
      ]
     },
     "execution_count": 14,
     "metadata": {},
     "output_type": "execute_result"
    }
   ],
   "source": [
    "gdf.head()"
   ]
  },
  {
   "cell_type": "markdown",
   "metadata": {},
   "source": [
    "Generate adjacent counties dataframe"
   ]
  },
  {
   "cell_type": "code",
   "execution_count": 15,
   "metadata": {},
   "outputs": [],
   "source": [
    "import invr\n",
    "import io\n",
    "from PIL import Image"
   ]
  },
  {
   "cell_type": "code",
   "execution_count": 16,
   "metadata": {},
   "outputs": [],
   "source": [
    "def generate_adjacent_counties(dataframe, variable_name=None, threshold=None):\n",
    "    \"\"\"\n",
    "    Generate adjacent counties based on the given GeoDataFrame and a specified variable.\n",
    "    \n",
    "    Parameters:\n",
    "    ----------\n",
    "    dataframe : gpd.GeoDataFrame\n",
    "        A GeoDataFrame containing county-level spatial data.\n",
    "        It should include at least the following columns:\n",
    "        - 'sortedID' (str or int): Unique identifier for each county.\n",
    "        - 'geometry' (shapely.geometry): Geometric representation of county boundaries.\n",
    "        - (Optional) Other county-level attributes that can be used for filtering.\n",
    "    \n",
    "    variable_name : str, optional\n",
    "        The column name of the variable used for filtering (e.g., population, opioid overdose rate, income).\n",
    "    \n",
    "    threshold : tuple, optional\n",
    "        A tuple (min_value, max_value) specifying the range for filtering the counties \n",
    "        based on `variable_name`.\n",
    "\n",
    "    Returns:\n",
    "    -------\n",
    "    adjacencies_list : list\n",
    "        A list containing adjacent county IDs for each county in the filtered dataset.\n",
    "    \n",
    "    merged_df : gpd.GeoDataFrame\n",
    "        A GeoDataFrame with counties and their corresponding attributes, including adjacency relationships.\n",
    "    \n",
    "    county_list : list\n",
    "        A list of counties included in the filtered dataset.\n",
    "    \"\"\"\n",
    "\n",
    "    # Ensure the input is a GeoDataFrame\n",
    "    if not isinstance(dataframe, gpd.GeoDataFrame):\n",
    "        raise ValueError(\"Input dataframe must be a GeoDataFrame with a valid 'geometry' column.\")\n",
    "\n",
    "    # Filter the dataframe based on the variable and threshold\n",
    "    if variable_name and threshold:\n",
    "        filtered_df = dataframe[(dataframe[variable_name] >= threshold[0]) & (dataframe[variable_name] <= threshold[1])]\n",
    "    else:\n",
    "        filtered_df = dataframe.copy()\n",
    "\n",
    "    # Perform spatial join to find adjacent counties\n",
    "    adjacent_counties = gpd.sjoin(filtered_df, filtered_df, predicate='intersects', how='left')\n",
    "\n",
    "    # Exclude self-joins (where a county intersects itself)\n",
    "    adjacent_counties = adjacent_counties.query('sortedID_left != sortedID_right')\n",
    "\n",
    "    # Group by county and list its adjacent counties\n",
    "    adjacent_counties = adjacent_counties.groupby('sortedID_left')['sortedID_right'].apply(list).reset_index()\n",
    "    adjacent_counties.rename(columns={'sortedID_left': 'county', 'sortedID_right': 'adjacent'}, inplace=True)\n",
    "\n",
    "    # Extract adjacency list and county list\n",
    "    adjacencies_list = adjacent_counties['adjacent'].tolist()\n",
    "    county_list = adjacent_counties['county'].tolist()\n",
    "\n",
    "    # Merge adjacency info with original dataset\n",
    "    merged_df = pd.merge(adjacent_counties, dataframe, left_on='county', right_on='sortedID', how='left')\n",
    "\n",
    "    # Convert to GeoDataFrame to retain spatial properties\n",
    "    merged_df = gpd.GeoDataFrame(merged_df, geometry='geometry')\n",
    "\n",
    "    # Define the Coordinate Reference System (CRS)\n",
    "    merged_df.crs = \"EPSG:4326\"\n",
    "\n",
    "    return adjacencies_list, merged_df, county_list\n"
   ]
  },
  {
   "cell_type": "code",
   "execution_count": 17,
   "metadata": {},
   "outputs": [],
   "source": [
    "# sortedID has been used as the unique identifier for counties hereonwards"
   ]
  },
  {
   "cell_type": "code",
   "execution_count": 18,
   "metadata": {},
   "outputs": [],
   "source": [
    "adjacencies_list, adjacent_counties_df, county_list = generate_adjacent_counties(gdf)"
   ]
  },
  {
   "cell_type": "code",
   "execution_count": 19,
   "metadata": {},
   "outputs": [
    {
     "data": {
      "text/html": [
       "<div>\n",
       "<style scoped>\n",
       "    .dataframe tbody tr th:only-of-type {\n",
       "        vertical-align: middle;\n",
       "    }\n",
       "\n",
       "    .dataframe tbody tr th {\n",
       "        vertical-align: top;\n",
       "    }\n",
       "\n",
       "    .dataframe thead th {\n",
       "        text-align: right;\n",
       "    }\n",
       "</style>\n",
       "<table border=\"1\" class=\"dataframe\">\n",
       "  <thead>\n",
       "    <tr style=\"text-align: right;\">\n",
       "      <th></th>\n",
       "      <th>county</th>\n",
       "      <th>adjacent</th>\n",
       "      <th>FIPS</th>\n",
       "      <th>Value</th>\n",
       "      <th>geometry</th>\n",
       "      <th>sortedID</th>\n",
       "    </tr>\n",
       "  </thead>\n",
       "  <tbody>\n",
       "    <tr>\n",
       "      <th>0</th>\n",
       "      <td>0</td>\n",
       "      <td>[5, 4, 1]</td>\n",
       "      <td>P</td>\n",
       "      <td>16</td>\n",
       "      <td>POLYGON ((3.00000 3.00000, 4.00000 3.00000, 4....</td>\n",
       "      <td>0</td>\n",
       "    </tr>\n",
       "    <tr>\n",
       "      <th>1</th>\n",
       "      <td>1</td>\n",
       "      <td>[6, 2, 5, 4, 0]</td>\n",
       "      <td>O</td>\n",
       "      <td>15</td>\n",
       "      <td>POLYGON ((2.00000 3.00000, 3.00000 3.00000, 3....</td>\n",
       "      <td>1</td>\n",
       "    </tr>\n",
       "    <tr>\n",
       "      <th>2</th>\n",
       "      <td>2</td>\n",
       "      <td>[7, 6, 3, 5, 1]</td>\n",
       "      <td>N</td>\n",
       "      <td>14</td>\n",
       "      <td>POLYGON ((1.00000 3.00000, 2.00000 3.00000, 2....</td>\n",
       "      <td>2</td>\n",
       "    </tr>\n",
       "    <tr>\n",
       "      <th>3</th>\n",
       "      <td>3</td>\n",
       "      <td>[7, 6, 2]</td>\n",
       "      <td>M</td>\n",
       "      <td>13</td>\n",
       "      <td>POLYGON ((0.00000 3.00000, 1.00000 3.00000, 1....</td>\n",
       "      <td>3</td>\n",
       "    </tr>\n",
       "    <tr>\n",
       "      <th>4</th>\n",
       "      <td>4</td>\n",
       "      <td>[8, 9, 5, 0, 1]</td>\n",
       "      <td>L</td>\n",
       "      <td>12</td>\n",
       "      <td>POLYGON ((3.00000 2.00000, 4.00000 2.00000, 4....</td>\n",
       "      <td>4</td>\n",
       "    </tr>\n",
       "    <tr>\n",
       "      <th>5</th>\n",
       "      <td>5</td>\n",
       "      <td>[10, 6, 2, 8, 9, 4, 0, 1]</td>\n",
       "      <td>K</td>\n",
       "      <td>11</td>\n",
       "      <td>POLYGON ((2.00000 2.00000, 3.00000 2.00000, 3....</td>\n",
       "      <td>5</td>\n",
       "    </tr>\n",
       "    <tr>\n",
       "      <th>6</th>\n",
       "      <td>6</td>\n",
       "      <td>[11, 10, 7, 3, 2, 9, 5, 1]</td>\n",
       "      <td>J</td>\n",
       "      <td>10</td>\n",
       "      <td>POLYGON ((1.00000 2.00000, 2.00000 2.00000, 2....</td>\n",
       "      <td>6</td>\n",
       "    </tr>\n",
       "    <tr>\n",
       "      <th>7</th>\n",
       "      <td>7</td>\n",
       "      <td>[11, 10, 6, 3, 2]</td>\n",
       "      <td>I</td>\n",
       "      <td>9</td>\n",
       "      <td>POLYGON ((0.00000 2.00000, 1.00000 2.00000, 1....</td>\n",
       "      <td>7</td>\n",
       "    </tr>\n",
       "    <tr>\n",
       "      <th>8</th>\n",
       "      <td>8</td>\n",
       "      <td>[12, 13, 9, 5, 4]</td>\n",
       "      <td>H</td>\n",
       "      <td>8</td>\n",
       "      <td>POLYGON ((3.00000 1.00000, 4.00000 1.00000, 4....</td>\n",
       "      <td>8</td>\n",
       "    </tr>\n",
       "    <tr>\n",
       "      <th>9</th>\n",
       "      <td>9</td>\n",
       "      <td>[14, 10, 6, 12, 13, 8, 5, 4]</td>\n",
       "      <td>G</td>\n",
       "      <td>7</td>\n",
       "      <td>POLYGON ((2.00000 1.00000, 3.00000 1.00000, 3....</td>\n",
       "      <td>9</td>\n",
       "    </tr>\n",
       "    <tr>\n",
       "      <th>10</th>\n",
       "      <td>10</td>\n",
       "      <td>[15, 14, 11, 7, 6, 13, 9, 5]</td>\n",
       "      <td>F</td>\n",
       "      <td>6</td>\n",
       "      <td>POLYGON ((1.00000 1.00000, 2.00000 1.00000, 2....</td>\n",
       "      <td>10</td>\n",
       "    </tr>\n",
       "    <tr>\n",
       "      <th>11</th>\n",
       "      <td>11</td>\n",
       "      <td>[15, 14, 10, 7, 6]</td>\n",
       "      <td>E</td>\n",
       "      <td>5</td>\n",
       "      <td>POLYGON ((0.00000 1.00000, 1.00000 1.00000, 1....</td>\n",
       "      <td>11</td>\n",
       "    </tr>\n",
       "    <tr>\n",
       "      <th>12</th>\n",
       "      <td>12</td>\n",
       "      <td>[13, 8, 9]</td>\n",
       "      <td>D</td>\n",
       "      <td>4</td>\n",
       "      <td>POLYGON ((3.00000 0.00000, 4.00000 0.00000, 4....</td>\n",
       "      <td>12</td>\n",
       "    </tr>\n",
       "    <tr>\n",
       "      <th>13</th>\n",
       "      <td>13</td>\n",
       "      <td>[14, 10, 12, 8, 9]</td>\n",
       "      <td>C</td>\n",
       "      <td>3</td>\n",
       "      <td>POLYGON ((2.00000 0.00000, 3.00000 0.00000, 3....</td>\n",
       "      <td>13</td>\n",
       "    </tr>\n",
       "    <tr>\n",
       "      <th>14</th>\n",
       "      <td>14</td>\n",
       "      <td>[15, 11, 10, 13, 9]</td>\n",
       "      <td>B</td>\n",
       "      <td>2</td>\n",
       "      <td>POLYGON ((1.00000 0.00000, 2.00000 0.00000, 2....</td>\n",
       "      <td>14</td>\n",
       "    </tr>\n",
       "    <tr>\n",
       "      <th>15</th>\n",
       "      <td>15</td>\n",
       "      <td>[14, 11, 10]</td>\n",
       "      <td>A</td>\n",
       "      <td>1</td>\n",
       "      <td>POLYGON ((0.00000 0.00000, 1.00000 0.00000, 1....</td>\n",
       "      <td>15</td>\n",
       "    </tr>\n",
       "  </tbody>\n",
       "</table>\n",
       "</div>"
      ],
      "text/plain": [
       "    county                      adjacent FIPS  Value  \\\n",
       "0        0                     [5, 4, 1]    P     16   \n",
       "1        1               [6, 2, 5, 4, 0]    O     15   \n",
       "2        2               [7, 6, 3, 5, 1]    N     14   \n",
       "3        3                     [7, 6, 2]    M     13   \n",
       "4        4               [8, 9, 5, 0, 1]    L     12   \n",
       "5        5     [10, 6, 2, 8, 9, 4, 0, 1]    K     11   \n",
       "6        6    [11, 10, 7, 3, 2, 9, 5, 1]    J     10   \n",
       "7        7             [11, 10, 6, 3, 2]    I      9   \n",
       "8        8             [12, 13, 9, 5, 4]    H      8   \n",
       "9        9  [14, 10, 6, 12, 13, 8, 5, 4]    G      7   \n",
       "10      10  [15, 14, 11, 7, 6, 13, 9, 5]    F      6   \n",
       "11      11            [15, 14, 10, 7, 6]    E      5   \n",
       "12      12                    [13, 8, 9]    D      4   \n",
       "13      13            [14, 10, 12, 8, 9]    C      3   \n",
       "14      14           [15, 11, 10, 13, 9]    B      2   \n",
       "15      15                  [14, 11, 10]    A      1   \n",
       "\n",
       "                                             geometry  sortedID  \n",
       "0   POLYGON ((3.00000 3.00000, 4.00000 3.00000, 4....         0  \n",
       "1   POLYGON ((2.00000 3.00000, 3.00000 3.00000, 3....         1  \n",
       "2   POLYGON ((1.00000 3.00000, 2.00000 3.00000, 2....         2  \n",
       "3   POLYGON ((0.00000 3.00000, 1.00000 3.00000, 1....         3  \n",
       "4   POLYGON ((3.00000 2.00000, 4.00000 2.00000, 4....         4  \n",
       "5   POLYGON ((2.00000 2.00000, 3.00000 2.00000, 3....         5  \n",
       "6   POLYGON ((1.00000 2.00000, 2.00000 2.00000, 2....         6  \n",
       "7   POLYGON ((0.00000 2.00000, 1.00000 2.00000, 1....         7  \n",
       "8   POLYGON ((3.00000 1.00000, 4.00000 1.00000, 4....         8  \n",
       "9   POLYGON ((2.00000 1.00000, 3.00000 1.00000, 3....         9  \n",
       "10  POLYGON ((1.00000 1.00000, 2.00000 1.00000, 2....        10  \n",
       "11  POLYGON ((0.00000 1.00000, 1.00000 1.00000, 1....        11  \n",
       "12  POLYGON ((3.00000 0.00000, 4.00000 0.00000, 4....        12  \n",
       "13  POLYGON ((2.00000 0.00000, 3.00000 0.00000, 3....        13  \n",
       "14  POLYGON ((1.00000 0.00000, 2.00000 0.00000, 2....        14  \n",
       "15  POLYGON ((0.00000 0.00000, 1.00000 0.00000, 1....        15  "
      ]
     },
     "execution_count": 19,
     "metadata": {},
     "output_type": "execute_result"
    }
   ],
   "source": [
    "adjacent_counties_df"
   ]
  },
  {
   "cell_type": "code",
   "execution_count": 20,
   "metadata": {},
   "outputs": [
    {
     "data": {
      "text/plain": [
       "[[5, 4, 1],\n",
       " [6, 2, 5, 4, 0],\n",
       " [7, 6, 3, 5, 1],\n",
       " [7, 6, 2],\n",
       " [8, 9, 5, 0, 1],\n",
       " [10, 6, 2, 8, 9, 4, 0, 1],\n",
       " [11, 10, 7, 3, 2, 9, 5, 1],\n",
       " [11, 10, 6, 3, 2],\n",
       " [12, 13, 9, 5, 4],\n",
       " [14, 10, 6, 12, 13, 8, 5, 4],\n",
       " [15, 14, 11, 7, 6, 13, 9, 5],\n",
       " [15, 14, 10, 7, 6],\n",
       " [13, 8, 9],\n",
       " [14, 10, 12, 8, 9],\n",
       " [15, 11, 10, 13, 9],\n",
       " [14, 11, 10]]"
      ]
     },
     "execution_count": 20,
     "metadata": {},
     "output_type": "execute_result"
    }
   ],
   "source": [
    "adjacencies_list"
   ]
  },
  {
   "cell_type": "code",
   "execution_count": 21,
   "metadata": {},
   "outputs": [
    {
     "data": {
      "text/plain": [
       "[0, 1, 2, 3, 4, 5, 6, 7, 8, 9, 10, 11, 12, 13, 14, 15]"
      ]
     },
     "execution_count": 21,
     "metadata": {},
     "output_type": "execute_result"
    }
   ],
   "source": [
    "county_list"
   ]
  },
  {
   "cell_type": "code",
   "execution_count": 22,
   "metadata": {},
   "outputs": [],
   "source": [
    "# create a dictionary with county names and their adjacent counties\n",
    "adjacent_counties_dict = dict(zip(adjacent_counties_df['county'], adjacent_counties_df['adjacent']))"
   ]
  },
  {
   "cell_type": "code",
   "execution_count": 23,
   "metadata": {},
   "outputs": [
    {
     "data": {
      "text/plain": [
       "{0: [5, 4, 1],\n",
       " 1: [6, 2, 5, 4, 0],\n",
       " 2: [7, 6, 3, 5, 1],\n",
       " 3: [7, 6, 2],\n",
       " 4: [8, 9, 5, 0, 1],\n",
       " 5: [10, 6, 2, 8, 9, 4, 0, 1],\n",
       " 6: [11, 10, 7, 3, 2, 9, 5, 1],\n",
       " 7: [11, 10, 6, 3, 2],\n",
       " 8: [12, 13, 9, 5, 4],\n",
       " 9: [14, 10, 6, 12, 13, 8, 5, 4],\n",
       " 10: [15, 14, 11, 7, 6, 13, 9, 5],\n",
       " 11: [15, 14, 10, 7, 6],\n",
       " 12: [13, 8, 9],\n",
       " 13: [14, 10, 12, 8, 9],\n",
       " 14: [15, 11, 10, 13, 9],\n",
       " 15: [14, 11, 10]}"
      ]
     },
     "execution_count": 23,
     "metadata": {},
     "output_type": "execute_result"
    }
   ],
   "source": [
    "adjacent_counties_dict"
   ]
  },
  {
   "cell_type": "markdown",
   "metadata": {},
   "source": [
    "Make the simplicial complex"
   ]
  },
  {
   "cell_type": "code",
   "execution_count": 24,
   "metadata": {},
   "outputs": [],
   "source": [
    "def form_simplicial_complex(adjacent_county_list, county_list):\n",
    "    \"\"\"Form a simplicial complex based on adjacent counties.\"\"\"\n",
    "    max_dimension = 3\n",
    "    V = invr.incremental_vr([], adjacent_county_list, max_dimension, county_list)\n",
    "    return V"
   ]
  },
  {
   "cell_type": "code",
   "execution_count": 25,
   "metadata": {},
   "outputs": [],
   "source": [
    "simplices = form_simplicial_complex(adjacent_counties_dict, county_list)"
   ]
  },
  {
   "cell_type": "code",
   "execution_count": 26,
   "metadata": {},
   "outputs": [
    {
     "data": {
      "text/plain": [
       "[[0],\n",
       " [1],\n",
       " [0, 1],\n",
       " [2],\n",
       " [1, 2],\n",
       " [3],\n",
       " [2, 3],\n",
       " [4],\n",
       " [0, 4],\n",
       " [1, 4],\n",
       " [0, 1, 4],\n",
       " [5],\n",
       " [0, 5],\n",
       " [1, 5],\n",
       " [0, 1, 5],\n",
       " [2, 5],\n",
       " [1, 2, 5],\n",
       " [4, 5],\n",
       " [0, 4, 5],\n",
       " [1, 4, 5],\n",
       " [6],\n",
       " [1, 6],\n",
       " [2, 6],\n",
       " [1, 2, 6],\n",
       " [3, 6],\n",
       " [2, 3, 6],\n",
       " [5, 6],\n",
       " [1, 5, 6],\n",
       " [2, 5, 6],\n",
       " [7],\n",
       " [2, 7],\n",
       " [3, 7],\n",
       " [2, 3, 7],\n",
       " [6, 7],\n",
       " [2, 6, 7],\n",
       " [3, 6, 7],\n",
       " [8],\n",
       " [4, 8],\n",
       " [5, 8],\n",
       " [4, 5, 8],\n",
       " [9],\n",
       " [4, 9],\n",
       " [5, 9],\n",
       " [4, 5, 9],\n",
       " [6, 9],\n",
       " [5, 6, 9],\n",
       " [8, 9],\n",
       " [4, 8, 9],\n",
       " [5, 8, 9],\n",
       " [10],\n",
       " [5, 10],\n",
       " [6, 10],\n",
       " [5, 6, 10],\n",
       " [7, 10],\n",
       " [6, 7, 10],\n",
       " [9, 10],\n",
       " [5, 9, 10],\n",
       " [6, 9, 10],\n",
       " [11],\n",
       " [6, 11],\n",
       " [7, 11],\n",
       " [6, 7, 11],\n",
       " [10, 11],\n",
       " [6, 10, 11],\n",
       " [7, 10, 11],\n",
       " [12],\n",
       " [8, 12],\n",
       " [9, 12],\n",
       " [8, 9, 12],\n",
       " [13],\n",
       " [8, 13],\n",
       " [9, 13],\n",
       " [8, 9, 13],\n",
       " [10, 13],\n",
       " [9, 10, 13],\n",
       " [12, 13],\n",
       " [8, 12, 13],\n",
       " [9, 12, 13],\n",
       " [14],\n",
       " [9, 14],\n",
       " [10, 14],\n",
       " [9, 10, 14],\n",
       " [11, 14],\n",
       " [10, 11, 14],\n",
       " [13, 14],\n",
       " [9, 13, 14],\n",
       " [10, 13, 14],\n",
       " [15],\n",
       " [10, 15],\n",
       " [11, 15],\n",
       " [10, 11, 15],\n",
       " [14, 15],\n",
       " [10, 14, 15],\n",
       " [11, 14, 15]]"
      ]
     },
     "execution_count": 26,
     "metadata": {},
     "output_type": "execute_result"
    }
   ],
   "source": [
    "simplices"
   ]
  },
  {
   "cell_type": "markdown",
   "metadata": {},
   "source": [
    "Let's plot this"
   ]
  },
  {
   "cell_type": "code",
   "execution_count": 27,
   "metadata": {},
   "outputs": [],
   "source": [
    "def fig2img(fig):\n",
    "     #convert matplot fig to image and return it\n",
    "\n",
    "     buf = io.BytesIO()\n",
    "     fig.savefig(buf)\n",
    "     buf.seek(0)\n",
    "     img = Image.open(buf)\n",
    "     return img"
   ]
  },
  {
   "cell_type": "code",
   "execution_count": 28,
   "metadata": {},
   "outputs": [],
   "source": [
    "def plot_simplicial_complex(dataframe, simplices,variable, list_gif=[]):\n",
    "    # Extract city centroids\n",
    "    city_coordinates = {row['sortedID']: np.array((row['geometry'].centroid.x, row['geometry'].centroid.y)) for _, row in dataframe.iterrows()}\n",
    "\n",
    "    # Create a figure and axis\n",
    "    fig, ax = plt.subplots(figsize=(10, 10))\n",
    "    ax.set_axis_off() \n",
    "\n",
    "    # Plot the \"dataframe\" DataFrame\n",
    "    dataframe.plot(ax=ax, edgecolor='black', linewidth=0.3, color=\"white\")\n",
    "\n",
    "    # Plot the centroid of the large square with values\n",
    "    for _, row in dataframe.iterrows():\n",
    "        centroid = row['geometry'].centroid\n",
    "        text_to_display = f\"{row[variable]:.3f}\"\n",
    "        plt.text(centroid.x, centroid.y, text_to_display, fontsize=10, ha='center', color=\"black\")\n",
    "\n",
    "    # Plot edges and triangles from simplices\n",
    "    for edge_or_triangle in simplices:\n",
    "        if len(edge_or_triangle) == 2:\n",
    "            # Plot an edge\n",
    "            ax.plot(*zip(*[city_coordinates[vertex] for vertex in edge_or_triangle]), color='red', linewidth=2)\n",
    "            img = fig2img(fig)\n",
    "            list_gif.append(img)\n",
    "        elif len(edge_or_triangle) == 3:\n",
    "            # Plot a triangle\n",
    "            ax.add_patch(plt.Polygon([city_coordinates[vertex] for vertex in edge_or_triangle], color='green', alpha=0.2))\n",
    "            img = fig2img(fig)\n",
    "            list_gif.append(img)\n",
    "\n",
    "        #can change above code block\n",
    "        plt.close(fig)\n",
    "\n",
    "    return list_gif"
   ]
  },
  {
   "cell_type": "code",
   "execution_count": 29,
   "metadata": {},
   "outputs": [],
   "source": [
    "list_gif = []"
   ]
  },
  {
   "cell_type": "code",
   "execution_count": 30,
   "metadata": {},
   "outputs": [],
   "source": [
    "list_gif = plot_simplicial_complex(gdf, simplices, 'Value',list_gif)"
   ]
  },
  {
   "cell_type": "code",
   "execution_count": 31,
   "metadata": {},
   "outputs": [],
   "source": [
    "list_gif[0].save('test_2.gif', save_all=True,append_images=list_gif[1:],optimize=False,duration=200,loop=0) "
   ]
  },
  {
   "cell_type": "code",
   "execution_count": null,
   "metadata": {},
   "outputs": [],
   "source": []
  },
  {
   "cell_type": "code",
   "execution_count": null,
   "metadata": {},
   "outputs": [],
   "source": []
  },
  {
   "cell_type": "code",
   "execution_count": null,
   "metadata": {},
   "outputs": [],
   "source": []
  }
 ],
 "metadata": {
  "kernelspec": {
   "display_name": "TDA",
   "language": "python",
   "name": "python3"
  },
  "language_info": {
   "codemirror_mode": {
    "name": "ipython",
    "version": 3
   },
   "file_extension": ".py",
   "mimetype": "text/x-python",
   "name": "python",
   "nbconvert_exporter": "python",
   "pygments_lexer": "ipython3",
   "version": "3.11.4"
  }
 },
 "nbformat": 4,
 "nbformat_minor": 2
}
