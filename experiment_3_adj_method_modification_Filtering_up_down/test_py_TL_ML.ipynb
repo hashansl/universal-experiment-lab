{
 "cells": [
  {
   "cell_type": "code",
   "execution_count": 22,
   "metadata": {},
   "outputs": [],
   "source": [
    "# import libraries\n",
    "import pandas as pd\n",
    "import geopandas as gpd\n",
    "import numpy as np\n",
    "import matplotlib.pyplot as plt\n",
    "import shapely.geometry as geom"
   ]
  },
  {
   "cell_type": "code",
   "execution_count": 23,
   "metadata": {},
   "outputs": [],
   "source": [
    "# dataframe"
   ]
  },
  {
   "cell_type": "code",
   "execution_count": 24,
   "metadata": {},
   "outputs": [],
   "source": [
    "# Create a DataFrame with box names and values\n",
    "box_names = [chr(65 + i) for i in range(16)]\n",
    "index = list(range(0, 16))\n",
    "values = list(range(1, 17))"
   ]
  },
  {
   "cell_type": "code",
   "execution_count": 25,
   "metadata": {},
   "outputs": [],
   "source": [
    "df = pd.DataFrame({'FIPS': box_names,'Index': index, 'Value': values})\n",
    "\n",
    "# Sorting the DataFrame based on the 'rate' column :::: Values are needed to be sorted in ascending order\n",
    "df.sort_values(by='Value', inplace=True)\n",
    "\n",
    "# Adding a new column 'new_ID' with ID values starting from zero\n",
    "df['sortedID'] = range(len(df))\n",
    "\n",
    "# Function to calculate square coordinates for a given name\n",
    "def calculate_square_coordinates(row):\n",
    "    value = row['Index']\n",
    "    # Assuming each smaller square has a side length of 1 unit\n",
    "    x = value % 4\n",
    "    y = value // 4\n",
    "    # Return square coordinates as a Shapely polygon\n",
    "    return geom.Polygon([(x, y), (x+1, y), (x+1, y+1), (x, y+1)])\n",
    "\n",
    "# Calculate square coordinates for each row and create a geometry column\n",
    "df['geometry'] = df.apply(calculate_square_coordinates, axis=1)\n",
    "\n",
    "# Convert the DataFrame to a GeoDataFrame\n",
    "gdf = gpd.GeoDataFrame(df, geometry='geometry')\n",
    "\n",
    "# Set the CRS to a simple Cartesian coordinate system\n",
    "gdf.crs = \"EPSG:3395\"  # This is a commonly used projected CRS\n",
    "\n",
    "gdf = gdf[['FIPS','Value', 'geometry']]  "
   ]
  },
  {
   "cell_type": "code",
   "execution_count": 26,
   "metadata": {},
   "outputs": [],
   "source": [
    "from adjacency_simplex import AdjacencySimplex  # Import the class"
   ]
  },
  {
   "cell_type": "code",
   "execution_count": 27,
   "metadata": {},
   "outputs": [],
   "source": [
    "# Initialize the AdjacencySimplex class\n",
    "adj_simplex = AdjacencySimplex(gdf, 'Value', threshold = [5,17], filter_method = 'up')\n",
    "\n",
    "# Filter the GeoDataFrame\n",
    "filtered_df,gdf_id = adj_simplex.filter_sort_gdf()\n",
    "\n",
    "# Calculate the adjacent countries\n",
    "adj_simplex.calculate_adjacent_countries()\n",
    "\n",
    "# Form the simplicial complex\n",
    "simplices = adj_simplex.form_simplicial_complex()"
   ]
  },
  {
   "cell_type": "code",
   "execution_count": 28,
   "metadata": {},
   "outputs": [
    {
     "data": {
      "text/plain": [
       "(16, 3)"
      ]
     },
     "execution_count": 28,
     "metadata": {},
     "output_type": "execute_result"
    }
   ],
   "source": [
    "gdf.shape"
   ]
  },
  {
   "cell_type": "code",
   "execution_count": 29,
   "metadata": {},
   "outputs": [
    {
     "data": {
      "text/html": [
       "<div>\n",
       "<style scoped>\n",
       "    .dataframe tbody tr th:only-of-type {\n",
       "        vertical-align: middle;\n",
       "    }\n",
       "\n",
       "    .dataframe tbody tr th {\n",
       "        vertical-align: top;\n",
       "    }\n",
       "\n",
       "    .dataframe thead th {\n",
       "        text-align: right;\n",
       "    }\n",
       "</style>\n",
       "<table border=\"1\" class=\"dataframe\">\n",
       "  <thead>\n",
       "    <tr style=\"text-align: right;\">\n",
       "      <th></th>\n",
       "      <th>FIPS</th>\n",
       "      <th>Value</th>\n",
       "      <th>geometry</th>\n",
       "      <th>sortedID</th>\n",
       "    </tr>\n",
       "  </thead>\n",
       "  <tbody>\n",
       "    <tr>\n",
       "      <th>4</th>\n",
       "      <td>E</td>\n",
       "      <td>5</td>\n",
       "      <td>POLYGON ((0 1, 1 1, 1 2, 0 2, 0 1))</td>\n",
       "      <td>4</td>\n",
       "    </tr>\n",
       "    <tr>\n",
       "      <th>5</th>\n",
       "      <td>F</td>\n",
       "      <td>6</td>\n",
       "      <td>POLYGON ((1 1, 2 1, 2 2, 1 2, 1 1))</td>\n",
       "      <td>5</td>\n",
       "    </tr>\n",
       "    <tr>\n",
       "      <th>6</th>\n",
       "      <td>G</td>\n",
       "      <td>7</td>\n",
       "      <td>POLYGON ((2 1, 3 1, 3 2, 2 2, 2 1))</td>\n",
       "      <td>6</td>\n",
       "    </tr>\n",
       "    <tr>\n",
       "      <th>7</th>\n",
       "      <td>H</td>\n",
       "      <td>8</td>\n",
       "      <td>POLYGON ((3 1, 4 1, 4 2, 3 2, 3 1))</td>\n",
       "      <td>7</td>\n",
       "    </tr>\n",
       "    <tr>\n",
       "      <th>8</th>\n",
       "      <td>I</td>\n",
       "      <td>9</td>\n",
       "      <td>POLYGON ((0 2, 1 2, 1 3, 0 3, 0 2))</td>\n",
       "      <td>8</td>\n",
       "    </tr>\n",
       "  </tbody>\n",
       "</table>\n",
       "</div>"
      ],
      "text/plain": [
       "  FIPS  Value                             geometry  sortedID\n",
       "4    E      5  POLYGON ((0 1, 1 1, 1 2, 0 2, 0 1))         4\n",
       "5    F      6  POLYGON ((1 1, 2 1, 2 2, 1 2, 1 1))         5\n",
       "6    G      7  POLYGON ((2 1, 3 1, 3 2, 2 2, 2 1))         6\n",
       "7    H      8  POLYGON ((3 1, 4 1, 4 2, 3 2, 3 1))         7\n",
       "8    I      9  POLYGON ((0 2, 1 2, 1 3, 0 3, 0 2))         8"
      ]
     },
     "execution_count": 29,
     "metadata": {},
     "output_type": "execute_result"
    }
   ],
   "source": [
    "filtered_df.head()"
   ]
  },
  {
   "cell_type": "code",
   "execution_count": 30,
   "metadata": {},
   "outputs": [
    {
     "data": {
      "text/plain": [
       "[[4],\n",
       " [5],\n",
       " [4, 5],\n",
       " [6],\n",
       " [5, 6],\n",
       " [7],\n",
       " [6, 7],\n",
       " [8],\n",
       " [4, 8],\n",
       " [5, 8],\n",
       " [4, 5, 8],\n",
       " [9],\n",
       " [4, 9],\n",
       " [5, 9],\n",
       " [4, 5, 9],\n",
       " [6, 9],\n",
       " [5, 6, 9],\n",
       " [8, 9],\n",
       " [4, 8, 9],\n",
       " [5, 8, 9],\n",
       " [10],\n",
       " [5, 10],\n",
       " [6, 10],\n",
       " [5, 6, 10],\n",
       " [7, 10],\n",
       " [6, 7, 10],\n",
       " [9, 10],\n",
       " [5, 9, 10],\n",
       " [6, 9, 10],\n",
       " [11],\n",
       " [6, 11],\n",
       " [7, 11],\n",
       " [6, 7, 11],\n",
       " [10, 11],\n",
       " [6, 10, 11],\n",
       " [7, 10, 11],\n",
       " [12],\n",
       " [8, 12],\n",
       " [9, 12],\n",
       " [8, 9, 12],\n",
       " [13],\n",
       " [8, 13],\n",
       " [9, 13],\n",
       " [8, 9, 13],\n",
       " [10, 13],\n",
       " [9, 10, 13],\n",
       " [12, 13],\n",
       " [8, 12, 13],\n",
       " [9, 12, 13],\n",
       " [14],\n",
       " [9, 14],\n",
       " [10, 14],\n",
       " [9, 10, 14],\n",
       " [11, 14],\n",
       " [10, 11, 14],\n",
       " [13, 14],\n",
       " [9, 13, 14],\n",
       " [10, 13, 14],\n",
       " [15],\n",
       " [10, 15],\n",
       " [11, 15],\n",
       " [10, 11, 15],\n",
       " [14, 15],\n",
       " [10, 14, 15],\n",
       " [11, 14, 15]]"
      ]
     },
     "execution_count": 30,
     "metadata": {},
     "output_type": "execute_result"
    }
   ],
   "source": [
    "simplices"
   ]
  },
  {
   "cell_type": "code",
   "execution_count": 14,
   "metadata": {},
   "outputs": [],
   "source": []
  },
  {
   "cell_type": "markdown",
   "metadata": {},
   "source": [
    "TDA Summary calaculation code is given below. "
   ]
  },
  {
   "cell_type": "code",
   "execution_count": 31,
   "metadata": {},
   "outputs": [],
   "source": [
    "import gudhi\n",
    "import numpy as np"
   ]
  },
  {
   "cell_type": "code",
   "execution_count": 32,
   "metadata": {},
   "outputs": [],
   "source": [
    "variable_name = 'Value'"
   ]
  },
  {
   "cell_type": "code",
   "execution_count": 33,
   "metadata": {},
   "outputs": [],
   "source": [
    "\n",
    "st = gudhi.SimplexTree()\n",
    "st.set_dimension(2)\n",
    "\n",
    "for simplex in simplices:\n",
    "    if len(simplex) == 1:\n",
    "        st.insert([simplex[0]], filtration=0.0)\n",
    "\n",
    "for simplex in simplices:\n",
    "    if len(simplex) == 2:\n",
    "        last_simplex = simplex[-1]\n",
    "        filtration_value = filtered_df.loc[filtered_df['sortedID'] == last_simplex, variable_name].values[0]\n",
    "        st.insert(simplex, filtration=filtration_value)\n",
    "\n",
    "for simplex in simplices:\n",
    "    if len(simplex) == 3:\n",
    "        last_simplex = simplex[-1]\n",
    "        filtration_value = filtered_df.loc[filtered_df['sortedID'] == last_simplex, variable_name].values[0]\n",
    "        st.insert(simplex, filtration=filtration_value)"
   ]
  },
  {
   "cell_type": "code",
   "execution_count": 34,
   "metadata": {},
   "outputs": [],
   "source": [
    "st.compute_persistence()\n",
    "persistence = st.persistence()"
   ]
  },
  {
   "cell_type": "code",
   "execution_count": 35,
   "metadata": {},
   "outputs": [],
   "source": [
    "# intervals_dim1 = st.persistence_intervals_in_dimension(1)\n",
    "intervals_dim0 = st.persistence_intervals_in_dimension(0)"
   ]
  },
  {
   "cell_type": "code",
   "execution_count": 36,
   "metadata": {},
   "outputs": [
    {
     "data": {
      "text/plain": [
       "array([[ 0.,  6.],\n",
       "       [ 0.,  7.],\n",
       "       [ 0.,  8.],\n",
       "       [ 0.,  9.],\n",
       "       [ 0., 10.],\n",
       "       [ 0., 11.],\n",
       "       [ 0., 12.],\n",
       "       [ 0., 13.],\n",
       "       [ 0., 14.],\n",
       "       [ 0., 15.],\n",
       "       [ 0., 16.],\n",
       "       [ 0., inf]])"
      ]
     },
     "execution_count": 36,
     "metadata": {},
     "output_type": "execute_result"
    }
   ],
   "source": [
    "intervals_dim0"
   ]
  },
  {
   "cell_type": "code",
   "execution_count": 37,
   "metadata": {},
   "outputs": [
    {
     "name": "stdout",
     "output_type": "stream",
     "text": [
      "max value: 16\n"
     ]
    }
   ],
   "source": [
    "# get the max value of the filtered_df to replace inf\n",
    "max_value = filtered_df[variable_name].max()\n",
    "print(f'max value: {max_value}')\n",
    "\n"
   ]
  },
  {
   "cell_type": "code",
   "execution_count": 38,
   "metadata": {},
   "outputs": [],
   "source": [
    "# replace inf with a large number   #this needs to be fixed : previously used 16\n",
    "intervals_dim0[:, 1][np.isinf(intervals_dim0[:, 1])] = max_value"
   ]
  },
  {
   "cell_type": "code",
   "execution_count": 39,
   "metadata": {},
   "outputs": [
    {
     "data": {
      "text/plain": [
       "array([[ 0.,  6.],\n",
       "       [ 0.,  7.],\n",
       "       [ 0.,  8.],\n",
       "       [ 0.,  9.],\n",
       "       [ 0., 10.],\n",
       "       [ 0., 11.],\n",
       "       [ 0., 12.],\n",
       "       [ 0., 13.],\n",
       "       [ 0., 14.],\n",
       "       [ 0., 15.],\n",
       "       [ 0., 16.],\n",
       "       [ 0., 16.]])"
      ]
     },
     "execution_count": 39,
     "metadata": {},
     "output_type": "execute_result"
    }
   ],
   "source": [
    "intervals_dim0"
   ]
  },
  {
   "cell_type": "code",
   "execution_count": 40,
   "metadata": {},
   "outputs": [
    {
     "name": "stdout",
     "output_type": "stream",
     "text": [
      "Number of H0 data points: 12\n"
     ]
    }
   ],
   "source": [
    "# calculate topological summaries for dimension 1\n",
    "H0_data_points = len(intervals_dim0)\n",
    "\n",
    "print(f'Number of H0 data points: {H0_data_points}')"
   ]
  },
  {
   "cell_type": "code",
   "execution_count": 43,
   "metadata": {},
   "outputs": [
    {
     "name": "stdout",
     "output_type": "stream",
     "text": [
      "Total length of H0 intervals: 137.0\n"
     ]
    }
   ],
   "source": [
    "TL = 0\n",
    "for interval in intervals_dim0:\n",
    "        TL += interval[1] - interval[0]\n",
    "\n",
    "print(f'Total length of H0 intervals: {TL}')"
   ]
  },
  {
   "cell_type": "code",
   "execution_count": 44,
   "metadata": {},
   "outputs": [
    {
     "name": "stdout",
     "output_type": "stream",
     "text": [
      "Total mean length of H0 intervals: 68.5\n"
     ]
    }
   ],
   "source": [
    "TML = 0\n",
    "for interval in intervals_dim0:\n",
    "    TML += (interval[1] + interval[0])/2\n",
    "\n",
    "print(f'Total mean length of H0 intervals: {TML}')"
   ]
  },
  {
   "cell_type": "code",
   "execution_count": null,
   "metadata": {},
   "outputs": [],
   "source": [
    "AL = TL/len(intervals_dim0)\n",
    "AML = TML/len(intervals_dim0)"
   ]
  },
  {
   "cell_type": "code",
   "execution_count": 46,
   "metadata": {},
   "outputs": [
    {
     "data": {
      "text/plain": [
       "68.5"
      ]
     },
     "execution_count": 46,
     "metadata": {},
     "output_type": "execute_result"
    }
   ],
   "source": [
    "TL/2"
   ]
  },
  {
   "cell_type": "code",
   "execution_count": null,
   "metadata": {},
   "outputs": [],
   "source": []
  },
  {
   "cell_type": "code",
   "execution_count": null,
   "metadata": {},
   "outputs": [],
   "source": []
  }
 ],
 "metadata": {
  "kernelspec": {
   "display_name": "pymc_env",
   "language": "python",
   "name": "python3"
  },
  "language_info": {
   "codemirror_mode": {
    "name": "ipython",
    "version": 3
   },
   "file_extension": ".py",
   "mimetype": "text/x-python",
   "name": "python",
   "nbconvert_exporter": "python",
   "pygments_lexer": "ipython3",
   "version": "3.12.8"
  }
 },
 "nbformat": 4,
 "nbformat_minor": 2
}
