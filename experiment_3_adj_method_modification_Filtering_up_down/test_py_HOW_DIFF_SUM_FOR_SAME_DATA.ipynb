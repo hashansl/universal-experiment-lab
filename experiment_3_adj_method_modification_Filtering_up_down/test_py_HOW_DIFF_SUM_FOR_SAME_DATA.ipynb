{
 "cells": [
  {
   "cell_type": "code",
   "execution_count": 1,
   "metadata": {},
   "outputs": [],
   "source": [
    "# import libraries\n",
    "import pandas as pd\n",
    "import geopandas as gpd\n",
    "import numpy as np\n",
    "import matplotlib.pyplot as plt\n",
    "import shapely.geometry as geom"
   ]
  },
  {
   "cell_type": "code",
   "execution_count": 2,
   "metadata": {},
   "outputs": [],
   "source": [
    "# dataframe"
   ]
  },
  {
   "cell_type": "code",
   "execution_count": 3,
   "metadata": {},
   "outputs": [],
   "source": [
    "# Create a DataFrame with box names and values\n",
    "box_names = [chr(65 + i) for i in range(16)]\n",
    "index = list(range(0, 16))\n",
    "values = list(range(1, 17))"
   ]
  },
  {
   "cell_type": "code",
   "execution_count": 4,
   "metadata": {},
   "outputs": [],
   "source": [
    "df = pd.DataFrame({'FIPS': box_names,'Index': index, 'Value': values})\n",
    "\n",
    "# Sorting the DataFrame based on the 'rate' column :::: Values are needed to be sorted in ascending order\n",
    "df.sort_values(by='Value', inplace=True)\n",
    "\n",
    "# Adding a new column 'new_ID' with ID values starting from zero\n",
    "df['sortedID'] = range(len(df))\n",
    "\n",
    "# Function to calculate square coordinates for a given name\n",
    "def calculate_square_coordinates(row):\n",
    "    value = row['Index']\n",
    "    # Assuming each smaller square has a side length of 1 unit\n",
    "    x = value % 4\n",
    "    y = value // 4\n",
    "    # Return square coordinates as a Shapely polygon\n",
    "    return geom.Polygon([(x, y), (x+1, y), (x+1, y+1), (x, y+1)])\n",
    "\n",
    "# Calculate square coordinates for each row and create a geometry column\n",
    "df['geometry'] = df.apply(calculate_square_coordinates, axis=1)"
   ]
  },
  {
   "cell_type": "code",
   "execution_count": 5,
   "metadata": {},
   "outputs": [
    {
     "data": {
      "text/html": [
       "<div>\n",
       "<style scoped>\n",
       "    .dataframe tbody tr th:only-of-type {\n",
       "        vertical-align: middle;\n",
       "    }\n",
       "\n",
       "    .dataframe tbody tr th {\n",
       "        vertical-align: top;\n",
       "    }\n",
       "\n",
       "    .dataframe thead th {\n",
       "        text-align: right;\n",
       "    }\n",
       "</style>\n",
       "<table border=\"1\" class=\"dataframe\">\n",
       "  <thead>\n",
       "    <tr style=\"text-align: right;\">\n",
       "      <th></th>\n",
       "      <th>FIPS</th>\n",
       "      <th>Index</th>\n",
       "      <th>Value</th>\n",
       "      <th>sortedID</th>\n",
       "      <th>geometry</th>\n",
       "    </tr>\n",
       "  </thead>\n",
       "  <tbody>\n",
       "    <tr>\n",
       "      <th>0</th>\n",
       "      <td>A</td>\n",
       "      <td>0</td>\n",
       "      <td>1</td>\n",
       "      <td>0</td>\n",
       "      <td>POLYGON ((0 0, 1 0, 1 1, 0 1, 0 0))</td>\n",
       "    </tr>\n",
       "    <tr>\n",
       "      <th>1</th>\n",
       "      <td>B</td>\n",
       "      <td>1</td>\n",
       "      <td>2</td>\n",
       "      <td>1</td>\n",
       "      <td>POLYGON ((1 0, 2 0, 2 1, 1 1, 1 0))</td>\n",
       "    </tr>\n",
       "    <tr>\n",
       "      <th>2</th>\n",
       "      <td>C</td>\n",
       "      <td>2</td>\n",
       "      <td>3</td>\n",
       "      <td>2</td>\n",
       "      <td>POLYGON ((2 0, 3 0, 3 1, 2 1, 2 0))</td>\n",
       "    </tr>\n",
       "    <tr>\n",
       "      <th>3</th>\n",
       "      <td>D</td>\n",
       "      <td>3</td>\n",
       "      <td>4</td>\n",
       "      <td>3</td>\n",
       "      <td>POLYGON ((3 0, 4 0, 4 1, 3 1, 3 0))</td>\n",
       "    </tr>\n",
       "    <tr>\n",
       "      <th>4</th>\n",
       "      <td>E</td>\n",
       "      <td>4</td>\n",
       "      <td>5</td>\n",
       "      <td>4</td>\n",
       "      <td>POLYGON ((0 1, 1 1, 1 2, 0 2, 0 1))</td>\n",
       "    </tr>\n",
       "    <tr>\n",
       "      <th>5</th>\n",
       "      <td>F</td>\n",
       "      <td>5</td>\n",
       "      <td>6</td>\n",
       "      <td>5</td>\n",
       "      <td>POLYGON ((1 1, 2 1, 2 2, 1 2, 1 1))</td>\n",
       "    </tr>\n",
       "    <tr>\n",
       "      <th>6</th>\n",
       "      <td>G</td>\n",
       "      <td>6</td>\n",
       "      <td>7</td>\n",
       "      <td>6</td>\n",
       "      <td>POLYGON ((2 1, 3 1, 3 2, 2 2, 2 1))</td>\n",
       "    </tr>\n",
       "    <tr>\n",
       "      <th>7</th>\n",
       "      <td>H</td>\n",
       "      <td>7</td>\n",
       "      <td>8</td>\n",
       "      <td>7</td>\n",
       "      <td>POLYGON ((3 1, 4 1, 4 2, 3 2, 3 1))</td>\n",
       "    </tr>\n",
       "    <tr>\n",
       "      <th>8</th>\n",
       "      <td>I</td>\n",
       "      <td>8</td>\n",
       "      <td>9</td>\n",
       "      <td>8</td>\n",
       "      <td>POLYGON ((0 2, 1 2, 1 3, 0 3, 0 2))</td>\n",
       "    </tr>\n",
       "    <tr>\n",
       "      <th>9</th>\n",
       "      <td>J</td>\n",
       "      <td>9</td>\n",
       "      <td>10</td>\n",
       "      <td>9</td>\n",
       "      <td>POLYGON ((1 2, 2 2, 2 3, 1 3, 1 2))</td>\n",
       "    </tr>\n",
       "    <tr>\n",
       "      <th>10</th>\n",
       "      <td>K</td>\n",
       "      <td>10</td>\n",
       "      <td>11</td>\n",
       "      <td>10</td>\n",
       "      <td>POLYGON ((2 2, 3 2, 3 3, 2 3, 2 2))</td>\n",
       "    </tr>\n",
       "    <tr>\n",
       "      <th>11</th>\n",
       "      <td>L</td>\n",
       "      <td>11</td>\n",
       "      <td>12</td>\n",
       "      <td>11</td>\n",
       "      <td>POLYGON ((3 2, 4 2, 4 3, 3 3, 3 2))</td>\n",
       "    </tr>\n",
       "    <tr>\n",
       "      <th>12</th>\n",
       "      <td>M</td>\n",
       "      <td>12</td>\n",
       "      <td>13</td>\n",
       "      <td>12</td>\n",
       "      <td>POLYGON ((0 3, 1 3, 1 4, 0 4, 0 3))</td>\n",
       "    </tr>\n",
       "    <tr>\n",
       "      <th>13</th>\n",
       "      <td>N</td>\n",
       "      <td>13</td>\n",
       "      <td>14</td>\n",
       "      <td>13</td>\n",
       "      <td>POLYGON ((1 3, 2 3, 2 4, 1 4, 1 3))</td>\n",
       "    </tr>\n",
       "    <tr>\n",
       "      <th>14</th>\n",
       "      <td>O</td>\n",
       "      <td>14</td>\n",
       "      <td>15</td>\n",
       "      <td>14</td>\n",
       "      <td>POLYGON ((2 3, 3 3, 3 4, 2 4, 2 3))</td>\n",
       "    </tr>\n",
       "    <tr>\n",
       "      <th>15</th>\n",
       "      <td>P</td>\n",
       "      <td>15</td>\n",
       "      <td>16</td>\n",
       "      <td>15</td>\n",
       "      <td>POLYGON ((3 3, 4 3, 4 4, 3 4, 3 3))</td>\n",
       "    </tr>\n",
       "  </tbody>\n",
       "</table>\n",
       "</div>"
      ],
      "text/plain": [
       "   FIPS  Index  Value  sortedID                             geometry\n",
       "0     A      0      1         0  POLYGON ((0 0, 1 0, 1 1, 0 1, 0 0))\n",
       "1     B      1      2         1  POLYGON ((1 0, 2 0, 2 1, 1 1, 1 0))\n",
       "2     C      2      3         2  POLYGON ((2 0, 3 0, 3 1, 2 1, 2 0))\n",
       "3     D      3      4         3  POLYGON ((3 0, 4 0, 4 1, 3 1, 3 0))\n",
       "4     E      4      5         4  POLYGON ((0 1, 1 1, 1 2, 0 2, 0 1))\n",
       "5     F      5      6         5  POLYGON ((1 1, 2 1, 2 2, 1 2, 1 1))\n",
       "6     G      6      7         6  POLYGON ((2 1, 3 1, 3 2, 2 2, 2 1))\n",
       "7     H      7      8         7  POLYGON ((3 1, 4 1, 4 2, 3 2, 3 1))\n",
       "8     I      8      9         8  POLYGON ((0 2, 1 2, 1 3, 0 3, 0 2))\n",
       "9     J      9     10         9  POLYGON ((1 2, 2 2, 2 3, 1 3, 1 2))\n",
       "10    K     10     11        10  POLYGON ((2 2, 3 2, 3 3, 2 3, 2 2))\n",
       "11    L     11     12        11  POLYGON ((3 2, 4 2, 4 3, 3 3, 3 2))\n",
       "12    M     12     13        12  POLYGON ((0 3, 1 3, 1 4, 0 4, 0 3))\n",
       "13    N     13     14        13  POLYGON ((1 3, 2 3, 2 4, 1 4, 1 3))\n",
       "14    O     14     15        14  POLYGON ((2 3, 3 3, 3 4, 2 4, 2 3))\n",
       "15    P     15     16        15  POLYGON ((3 3, 4 3, 4 4, 3 4, 3 3))"
      ]
     },
     "execution_count": 5,
     "metadata": {},
     "output_type": "execute_result"
    }
   ],
   "source": [
    "df"
   ]
  },
  {
   "cell_type": "code",
   "execution_count": 6,
   "metadata": {},
   "outputs": [
    {
     "data": {
      "text/plain": [
       "[2, 7, 9, 10, 14, 5, 3, 15, 11, 8, 16, 12, 4, 1, 6, 13]"
      ]
     },
     "execution_count": 6,
     "metadata": {},
     "output_type": "execute_result"
    }
   ],
   "source": [
    "# shuffling the values\n",
    "np.random.seed(0)\n",
    "np.random.shuffle(values)\n",
    "values"
   ]
  },
  {
   "cell_type": "code",
   "execution_count": 7,
   "metadata": {},
   "outputs": [],
   "source": [
    "# Adding shuffled values to the DataFrame\n",
    "df['Value2'] = values"
   ]
  },
  {
   "cell_type": "code",
   "execution_count": 8,
   "metadata": {},
   "outputs": [],
   "source": [
    "# shuffling the values\n",
    "np.random.seed(0)\n",
    "np.random.shuffle(values)\n",
    "values\n",
    "\n",
    "# Adding shuffled values to the DataFrame\n",
    "df['Value3'] = values"
   ]
  },
  {
   "cell_type": "code",
   "execution_count": 9,
   "metadata": {},
   "outputs": [
    {
     "data": {
      "text/plain": [
       "[7, 3, 11, 8, 1, 14, 9, 6, 16, 15, 13, 12, 10, 2, 5, 4]"
      ]
     },
     "execution_count": 9,
     "metadata": {},
     "output_type": "execute_result"
    }
   ],
   "source": [
    "values"
   ]
  },
  {
   "cell_type": "code",
   "execution_count": 10,
   "metadata": {},
   "outputs": [],
   "source": [
    "# Convert the DataFrame to a GeoDataFrame\n",
    "gdf = gpd.GeoDataFrame(df, geometry='geometry')\n",
    "\n",
    "# Set the CRS to a simple Cartesian coordinate system\n",
    "gdf.crs = \"EPSG:3395\"  # This is a commonly used projected CRS\n",
    "\n",
    "gdf = gdf[['FIPS','Value','Value2','Value3', 'geometry']]  "
   ]
  },
  {
   "cell_type": "code",
   "execution_count": 11,
   "metadata": {},
   "outputs": [],
   "source": [
    "from adjacency_simplex import AdjacencySimplex  # Import the class"
   ]
  },
  {
   "cell_type": "code",
   "execution_count": 12,
   "metadata": {},
   "outputs": [],
   "source": [
    "# Initialize the AdjacencySimplex class\n",
    "adj_simplex = AdjacencySimplex(gdf, 'Value3', threshold = None, filter_method = 'down')\n",
    "\n",
    "# Filter the GeoDataFrame\n",
    "filtered_df,gdf_id = adj_simplex.filter_sort_gdf()\n",
    "\n",
    "# Calculate the adjacent countries\n",
    "adj_simplex.calculate_adjacent_countries()\n",
    "\n",
    "# Form the simplicial complex\n",
    "simplices = adj_simplex.form_simplicial_complex()"
   ]
  },
  {
   "cell_type": "code",
   "execution_count": 13,
   "metadata": {},
   "outputs": [
    {
     "data": {
      "text/plain": [
       "(16, 5)"
      ]
     },
     "execution_count": 13,
     "metadata": {},
     "output_type": "execute_result"
    }
   ],
   "source": [
    "gdf.shape"
   ]
  },
  {
   "cell_type": "code",
   "execution_count": 14,
   "metadata": {},
   "outputs": [
    {
     "data": {
      "text/html": [
       "<div>\n",
       "<style scoped>\n",
       "    .dataframe tbody tr th:only-of-type {\n",
       "        vertical-align: middle;\n",
       "    }\n",
       "\n",
       "    .dataframe tbody tr th {\n",
       "        vertical-align: top;\n",
       "    }\n",
       "\n",
       "    .dataframe thead th {\n",
       "        text-align: right;\n",
       "    }\n",
       "</style>\n",
       "<table border=\"1\" class=\"dataframe\">\n",
       "  <thead>\n",
       "    <tr style=\"text-align: right;\">\n",
       "      <th></th>\n",
       "      <th>FIPS</th>\n",
       "      <th>Value</th>\n",
       "      <th>Value2</th>\n",
       "      <th>Value3</th>\n",
       "      <th>geometry</th>\n",
       "      <th>sortedID</th>\n",
       "    </tr>\n",
       "  </thead>\n",
       "  <tbody>\n",
       "    <tr>\n",
       "      <th>8</th>\n",
       "      <td>I</td>\n",
       "      <td>9</td>\n",
       "      <td>11</td>\n",
       "      <td>16</td>\n",
       "      <td>POLYGON ((0 2, 1 2, 1 3, 0 3, 0 2))</td>\n",
       "      <td>0</td>\n",
       "    </tr>\n",
       "    <tr>\n",
       "      <th>9</th>\n",
       "      <td>J</td>\n",
       "      <td>10</td>\n",
       "      <td>8</td>\n",
       "      <td>15</td>\n",
       "      <td>POLYGON ((1 2, 2 2, 2 3, 1 3, 1 2))</td>\n",
       "      <td>1</td>\n",
       "    </tr>\n",
       "    <tr>\n",
       "      <th>5</th>\n",
       "      <td>F</td>\n",
       "      <td>6</td>\n",
       "      <td>5</td>\n",
       "      <td>14</td>\n",
       "      <td>POLYGON ((1 1, 2 1, 2 2, 1 2, 1 1))</td>\n",
       "      <td>2</td>\n",
       "    </tr>\n",
       "    <tr>\n",
       "      <th>10</th>\n",
       "      <td>K</td>\n",
       "      <td>11</td>\n",
       "      <td>16</td>\n",
       "      <td>13</td>\n",
       "      <td>POLYGON ((2 2, 3 2, 3 3, 2 3, 2 2))</td>\n",
       "      <td>3</td>\n",
       "    </tr>\n",
       "    <tr>\n",
       "      <th>11</th>\n",
       "      <td>L</td>\n",
       "      <td>12</td>\n",
       "      <td>12</td>\n",
       "      <td>12</td>\n",
       "      <td>POLYGON ((3 2, 4 2, 4 3, 3 3, 3 2))</td>\n",
       "      <td>4</td>\n",
       "    </tr>\n",
       "  </tbody>\n",
       "</table>\n",
       "</div>"
      ],
      "text/plain": [
       "   FIPS  Value  Value2  Value3                             geometry  sortedID\n",
       "8     I      9      11      16  POLYGON ((0 2, 1 2, 1 3, 0 3, 0 2))         0\n",
       "9     J     10       8      15  POLYGON ((1 2, 2 2, 2 3, 1 3, 1 2))         1\n",
       "5     F      6       5      14  POLYGON ((1 1, 2 1, 2 2, 1 2, 1 1))         2\n",
       "10    K     11      16      13  POLYGON ((2 2, 3 2, 3 3, 2 3, 2 2))         3\n",
       "11    L     12      12      12  POLYGON ((3 2, 4 2, 4 3, 3 3, 3 2))         4"
      ]
     },
     "execution_count": 14,
     "metadata": {},
     "output_type": "execute_result"
    }
   ],
   "source": [
    "filtered_df.head()"
   ]
  },
  {
   "cell_type": "code",
   "execution_count": 15,
   "metadata": {},
   "outputs": [
    {
     "data": {
      "text/plain": [
       "[[0],\n",
       " [1],\n",
       " [0, 1],\n",
       " [2],\n",
       " [0, 2],\n",
       " [1, 2],\n",
       " [0, 1, 2],\n",
       " [3],\n",
       " [1, 3],\n",
       " [2, 3],\n",
       " [1, 2, 3],\n",
       " [4],\n",
       " [3, 4],\n",
       " [5],\n",
       " [2, 5],\n",
       " [6],\n",
       " [0, 6],\n",
       " [1, 6],\n",
       " [0, 1, 6],\n",
       " [7],\n",
       " [1, 7],\n",
       " [2, 7],\n",
       " [1, 2, 7],\n",
       " [3, 7],\n",
       " [1, 3, 7],\n",
       " [2, 3, 7],\n",
       " [4, 7],\n",
       " [3, 4, 7],\n",
       " [5, 7],\n",
       " [2, 5, 7],\n",
       " [8],\n",
       " [5, 8],\n",
       " [7, 8],\n",
       " [5, 7, 8],\n",
       " [9],\n",
       " [2, 9],\n",
       " [10],\n",
       " [3, 10],\n",
       " [4, 10],\n",
       " [3, 4, 10],\n",
       " [5, 10],\n",
       " [7, 10],\n",
       " [3, 7, 10],\n",
       " [4, 7, 10],\n",
       " [5, 7, 10],\n",
       " [8, 10],\n",
       " [5, 8, 10],\n",
       " [7, 8, 10],\n",
       " [11],\n",
       " [1, 11],\n",
       " [3, 11],\n",
       " [1, 3, 11],\n",
       " [4, 11],\n",
       " [3, 4, 11],\n",
       " [12],\n",
       " [3, 12],\n",
       " [4, 12],\n",
       " [3, 4, 12],\n",
       " [11, 12],\n",
       " [3, 11, 12],\n",
       " [4, 11, 12],\n",
       " [13],\n",
       " [2, 13],\n",
       " [5, 13],\n",
       " [2, 5, 13],\n",
       " [7, 13],\n",
       " [2, 7, 13],\n",
       " [5, 7, 13],\n",
       " [9, 13],\n",
       " [2, 9, 13],\n",
       " [14],\n",
       " [0, 14],\n",
       " [1, 14],\n",
       " [0, 1, 14],\n",
       " [3, 14],\n",
       " [1, 3, 14],\n",
       " [6, 14],\n",
       " [0, 6, 14],\n",
       " [1, 6, 14],\n",
       " [11, 14],\n",
       " [1, 11, 14],\n",
       " [3, 11, 14],\n",
       " [15],\n",
       " [0, 15],\n",
       " [1, 15],\n",
       " [0, 1, 15],\n",
       " [2, 15],\n",
       " [0, 2, 15],\n",
       " [1, 2, 15],\n",
       " [9, 15],\n",
       " [2, 9, 15],\n",
       " [13, 15],\n",
       " [9, 13, 15],\n",
       " [2, 13, 15]]"
      ]
     },
     "execution_count": 15,
     "metadata": {},
     "output_type": "execute_result"
    }
   ],
   "source": [
    "simplices"
   ]
  },
  {
   "cell_type": "code",
   "execution_count": 35,
   "metadata": {},
   "outputs": [
    {
     "data": {
      "text/html": [
       "<div>\n",
       "<style scoped>\n",
       "    .dataframe tbody tr th:only-of-type {\n",
       "        vertical-align: middle;\n",
       "    }\n",
       "\n",
       "    .dataframe tbody tr th {\n",
       "        vertical-align: top;\n",
       "    }\n",
       "\n",
       "    .dataframe thead th {\n",
       "        text-align: right;\n",
       "    }\n",
       "</style>\n",
       "<table border=\"1\" class=\"dataframe\">\n",
       "  <thead>\n",
       "    <tr style=\"text-align: right;\">\n",
       "      <th></th>\n",
       "      <th>FIPS</th>\n",
       "      <th>Value</th>\n",
       "      <th>Value2</th>\n",
       "      <th>Value3</th>\n",
       "      <th>geometry</th>\n",
       "      <th>sortedID</th>\n",
       "    </tr>\n",
       "  </thead>\n",
       "  <tbody>\n",
       "    <tr>\n",
       "      <th>8</th>\n",
       "      <td>I</td>\n",
       "      <td>9</td>\n",
       "      <td>11</td>\n",
       "      <td>16</td>\n",
       "      <td>POLYGON ((0 2, 1 2, 1 3, 0 3, 0 2))</td>\n",
       "      <td>0</td>\n",
       "    </tr>\n",
       "    <tr>\n",
       "      <th>9</th>\n",
       "      <td>J</td>\n",
       "      <td>10</td>\n",
       "      <td>8</td>\n",
       "      <td>15</td>\n",
       "      <td>POLYGON ((1 2, 2 2, 2 3, 1 3, 1 2))</td>\n",
       "      <td>1</td>\n",
       "    </tr>\n",
       "    <tr>\n",
       "      <th>5</th>\n",
       "      <td>F</td>\n",
       "      <td>6</td>\n",
       "      <td>5</td>\n",
       "      <td>14</td>\n",
       "      <td>POLYGON ((1 1, 2 1, 2 2, 1 2, 1 1))</td>\n",
       "      <td>2</td>\n",
       "    </tr>\n",
       "    <tr>\n",
       "      <th>10</th>\n",
       "      <td>K</td>\n",
       "      <td>11</td>\n",
       "      <td>16</td>\n",
       "      <td>13</td>\n",
       "      <td>POLYGON ((2 2, 3 2, 3 3, 2 3, 2 2))</td>\n",
       "      <td>3</td>\n",
       "    </tr>\n",
       "    <tr>\n",
       "      <th>11</th>\n",
       "      <td>L</td>\n",
       "      <td>12</td>\n",
       "      <td>12</td>\n",
       "      <td>12</td>\n",
       "      <td>POLYGON ((3 2, 4 2, 4 3, 3 3, 3 2))</td>\n",
       "      <td>4</td>\n",
       "    </tr>\n",
       "    <tr>\n",
       "      <th>2</th>\n",
       "      <td>C</td>\n",
       "      <td>3</td>\n",
       "      <td>9</td>\n",
       "      <td>11</td>\n",
       "      <td>POLYGON ((2 0, 3 0, 3 1, 2 1, 2 0))</td>\n",
       "      <td>5</td>\n",
       "    </tr>\n",
       "    <tr>\n",
       "      <th>12</th>\n",
       "      <td>M</td>\n",
       "      <td>13</td>\n",
       "      <td>4</td>\n",
       "      <td>10</td>\n",
       "      <td>POLYGON ((0 3, 1 3, 1 4, 0 4, 0 3))</td>\n",
       "      <td>6</td>\n",
       "    </tr>\n",
       "    <tr>\n",
       "      <th>6</th>\n",
       "      <td>G</td>\n",
       "      <td>7</td>\n",
       "      <td>3</td>\n",
       "      <td>9</td>\n",
       "      <td>POLYGON ((2 1, 3 1, 3 2, 2 2, 2 1))</td>\n",
       "      <td>7</td>\n",
       "    </tr>\n",
       "    <tr>\n",
       "      <th>3</th>\n",
       "      <td>D</td>\n",
       "      <td>4</td>\n",
       "      <td>10</td>\n",
       "      <td>8</td>\n",
       "      <td>POLYGON ((3 0, 4 0, 4 1, 3 1, 3 0))</td>\n",
       "      <td>8</td>\n",
       "    </tr>\n",
       "    <tr>\n",
       "      <th>0</th>\n",
       "      <td>A</td>\n",
       "      <td>1</td>\n",
       "      <td>2</td>\n",
       "      <td>7</td>\n",
       "      <td>POLYGON ((0 0, 1 0, 1 1, 0 1, 0 0))</td>\n",
       "      <td>9</td>\n",
       "    </tr>\n",
       "    <tr>\n",
       "      <th>7</th>\n",
       "      <td>H</td>\n",
       "      <td>8</td>\n",
       "      <td>15</td>\n",
       "      <td>6</td>\n",
       "      <td>POLYGON ((3 1, 4 1, 4 2, 3 2, 3 1))</td>\n",
       "      <td>10</td>\n",
       "    </tr>\n",
       "    <tr>\n",
       "      <th>14</th>\n",
       "      <td>O</td>\n",
       "      <td>15</td>\n",
       "      <td>6</td>\n",
       "      <td>5</td>\n",
       "      <td>POLYGON ((2 3, 3 3, 3 4, 2 4, 2 3))</td>\n",
       "      <td>11</td>\n",
       "    </tr>\n",
       "    <tr>\n",
       "      <th>15</th>\n",
       "      <td>P</td>\n",
       "      <td>16</td>\n",
       "      <td>13</td>\n",
       "      <td>4</td>\n",
       "      <td>POLYGON ((3 3, 4 3, 4 4, 3 4, 3 3))</td>\n",
       "      <td>12</td>\n",
       "    </tr>\n",
       "    <tr>\n",
       "      <th>1</th>\n",
       "      <td>B</td>\n",
       "      <td>2</td>\n",
       "      <td>7</td>\n",
       "      <td>3</td>\n",
       "      <td>POLYGON ((1 0, 2 0, 2 1, 1 1, 1 0))</td>\n",
       "      <td>13</td>\n",
       "    </tr>\n",
       "    <tr>\n",
       "      <th>13</th>\n",
       "      <td>N</td>\n",
       "      <td>14</td>\n",
       "      <td>1</td>\n",
       "      <td>2</td>\n",
       "      <td>POLYGON ((1 3, 2 3, 2 4, 1 4, 1 3))</td>\n",
       "      <td>14</td>\n",
       "    </tr>\n",
       "    <tr>\n",
       "      <th>4</th>\n",
       "      <td>E</td>\n",
       "      <td>5</td>\n",
       "      <td>14</td>\n",
       "      <td>1</td>\n",
       "      <td>POLYGON ((0 1, 1 1, 1 2, 0 2, 0 1))</td>\n",
       "      <td>15</td>\n",
       "    </tr>\n",
       "  </tbody>\n",
       "</table>\n",
       "</div>"
      ],
      "text/plain": [
       "   FIPS  Value  Value2  Value3                             geometry  sortedID\n",
       "8     I      9      11      16  POLYGON ((0 2, 1 2, 1 3, 0 3, 0 2))         0\n",
       "9     J     10       8      15  POLYGON ((1 2, 2 2, 2 3, 1 3, 1 2))         1\n",
       "5     F      6       5      14  POLYGON ((1 1, 2 1, 2 2, 1 2, 1 1))         2\n",
       "10    K     11      16      13  POLYGON ((2 2, 3 2, 3 3, 2 3, 2 2))         3\n",
       "11    L     12      12      12  POLYGON ((3 2, 4 2, 4 3, 3 3, 3 2))         4\n",
       "2     C      3       9      11  POLYGON ((2 0, 3 0, 3 1, 2 1, 2 0))         5\n",
       "12    M     13       4      10  POLYGON ((0 3, 1 3, 1 4, 0 4, 0 3))         6\n",
       "6     G      7       3       9  POLYGON ((2 1, 3 1, 3 2, 2 2, 2 1))         7\n",
       "3     D      4      10       8  POLYGON ((3 0, 4 0, 4 1, 3 1, 3 0))         8\n",
       "0     A      1       2       7  POLYGON ((0 0, 1 0, 1 1, 0 1, 0 0))         9\n",
       "7     H      8      15       6  POLYGON ((3 1, 4 1, 4 2, 3 2, 3 1))        10\n",
       "14    O     15       6       5  POLYGON ((2 3, 3 3, 3 4, 2 4, 2 3))        11\n",
       "15    P     16      13       4  POLYGON ((3 3, 4 3, 4 4, 3 4, 3 3))        12\n",
       "1     B      2       7       3  POLYGON ((1 0, 2 0, 2 1, 1 1, 1 0))        13\n",
       "13    N     14       1       2  POLYGON ((1 3, 2 3, 2 4, 1 4, 1 3))        14\n",
       "4     E      5      14       1  POLYGON ((0 1, 1 1, 1 2, 0 2, 0 1))        15"
      ]
     },
     "execution_count": 35,
     "metadata": {},
     "output_type": "execute_result"
    }
   ],
   "source": [
    "filtered_df"
   ]
  },
  {
   "cell_type": "markdown",
   "metadata": {},
   "source": [
    "Plotting"
   ]
  },
  {
   "cell_type": "code",
   "execution_count": 16,
   "metadata": {},
   "outputs": [],
   "source": [
    "from plot_utills import plot_simplicial_complex_gif  # Import the function"
   ]
  },
  {
   "cell_type": "code",
   "execution_count": 17,
   "metadata": {},
   "outputs": [],
   "source": [
    "import io\n",
    "from PIL import Image\n",
    "import matplotlib.pyplot as plt\n",
    "import numpy as np"
   ]
  },
  {
   "cell_type": "code",
   "execution_count": 18,
   "metadata": {},
   "outputs": [],
   "source": [
    "list_gif = plot_simplicial_complex_gif(dataframe=gdf_id, simplices=simplices, variable='Value3')\n",
    "list_gif[0].save('test_Value3.gif', save_all=True,append_images=list_gif[1:],optimize=False,duration=200,loop=0) "
   ]
  },
  {
   "cell_type": "code",
   "execution_count": null,
   "metadata": {},
   "outputs": [],
   "source": []
  },
  {
   "cell_type": "code",
   "execution_count": null,
   "metadata": {},
   "outputs": [],
   "source": []
  },
  {
   "cell_type": "markdown",
   "metadata": {},
   "source": [
    "TDA Summary calaculation code is given below. "
   ]
  },
  {
   "cell_type": "code",
   "execution_count": 19,
   "metadata": {},
   "outputs": [],
   "source": [
    "import gudhi\n",
    "import numpy as np"
   ]
  },
  {
   "cell_type": "code",
   "execution_count": 20,
   "metadata": {},
   "outputs": [],
   "source": [
    "variable_name = 'Value3'"
   ]
  },
  {
   "cell_type": "code",
   "execution_count": null,
   "metadata": {},
   "outputs": [],
   "source": [
    "st = gudhi.SimplexTree()\n",
    "st.set_dimension(2)"
   ]
  },
  {
   "cell_type": "code",
   "execution_count": null,
   "metadata": {},
   "outputs": [],
   "source": [
    "for simplex in simplices:\n",
    "    if len(simplex) == 1:\n",
    "        st.insert([simplex[0]], filtration=0.0)"
   ]
  },
  {
   "cell_type": "code",
   "execution_count": 38,
   "metadata": {},
   "outputs": [
    {
     "name": "stdout",
     "output_type": "stream",
     "text": [
      "[0, 1]\n",
      "1\n",
      "first value:  - 16\n",
      "15\n",
      "[0, 2]\n",
      "2\n",
      "first value:  - 16\n",
      "14\n",
      "[1, 2]\n",
      "2\n",
      "first value:  - 15\n",
      "14\n",
      "[1, 3]\n",
      "3\n",
      "first value:  - 15\n",
      "13\n",
      "[2, 3]\n",
      "3\n",
      "first value:  - 14\n",
      "13\n",
      "[3, 4]\n",
      "4\n",
      "first value:  - 13\n",
      "12\n",
      "[2, 5]\n",
      "5\n",
      "first value:  - 14\n",
      "11\n",
      "[0, 6]\n",
      "6\n",
      "first value:  - 16\n",
      "10\n",
      "[1, 6]\n",
      "6\n",
      "first value:  - 15\n",
      "10\n",
      "[1, 7]\n",
      "7\n",
      "first value:  - 15\n",
      "9\n",
      "[2, 7]\n",
      "7\n",
      "first value:  - 14\n",
      "9\n",
      "[3, 7]\n",
      "7\n",
      "first value:  - 13\n",
      "9\n",
      "[4, 7]\n",
      "7\n",
      "first value:  - 12\n",
      "9\n",
      "[5, 7]\n",
      "7\n",
      "first value:  - 11\n",
      "9\n",
      "[5, 8]\n",
      "8\n",
      "first value:  - 11\n",
      "8\n",
      "[7, 8]\n",
      "8\n",
      "first value:  - 9\n",
      "8\n",
      "[2, 9]\n",
      "9\n",
      "first value:  - 14\n",
      "7\n",
      "[3, 10]\n",
      "10\n",
      "first value:  - 13\n",
      "6\n",
      "[4, 10]\n",
      "10\n",
      "first value:  - 12\n",
      "6\n",
      "[5, 10]\n",
      "10\n",
      "first value:  - 11\n",
      "6\n",
      "[7, 10]\n",
      "10\n",
      "first value:  - 9\n",
      "6\n",
      "[8, 10]\n",
      "10\n",
      "first value:  - 8\n",
      "6\n",
      "[1, 11]\n",
      "11\n",
      "first value:  - 15\n",
      "5\n",
      "[3, 11]\n",
      "11\n",
      "first value:  - 13\n",
      "5\n",
      "[4, 11]\n",
      "11\n",
      "first value:  - 12\n",
      "5\n",
      "[3, 12]\n",
      "12\n",
      "first value:  - 13\n",
      "4\n",
      "[4, 12]\n",
      "12\n",
      "first value:  - 12\n",
      "4\n",
      "[11, 12]\n",
      "12\n",
      "first value:  - 5\n",
      "4\n",
      "[2, 13]\n",
      "13\n",
      "first value:  - 14\n",
      "3\n",
      "[5, 13]\n",
      "13\n",
      "first value:  - 11\n",
      "3\n",
      "[7, 13]\n",
      "13\n",
      "first value:  - 9\n",
      "3\n",
      "[9, 13]\n",
      "13\n",
      "first value:  - 7\n",
      "3\n",
      "[0, 14]\n",
      "14\n",
      "first value:  - 16\n",
      "2\n",
      "[1, 14]\n",
      "14\n",
      "first value:  - 15\n",
      "2\n",
      "[3, 14]\n",
      "14\n",
      "first value:  - 13\n",
      "2\n",
      "[6, 14]\n",
      "14\n",
      "first value:  - 10\n",
      "2\n",
      "[11, 14]\n",
      "14\n",
      "first value:  - 5\n",
      "2\n",
      "[0, 15]\n",
      "15\n",
      "first value:  - 16\n",
      "1\n",
      "[1, 15]\n",
      "15\n",
      "first value:  - 15\n",
      "1\n",
      "[2, 15]\n",
      "15\n",
      "first value:  - 14\n",
      "1\n",
      "[9, 15]\n",
      "15\n",
      "first value:  - 7\n",
      "1\n",
      "[13, 15]\n",
      "15\n",
      "first value:  - 3\n",
      "1\n"
     ]
    }
   ],
   "source": [
    "for simplex in simplices:\n",
    "    if len(simplex) == 2:\n",
    "        print(simplex)\n",
    "        last_simplex = simplex[-1]\n",
    "        first_simplex = simplex[0]\n",
    "        print(last_simplex)\n",
    "        filtration_value = filtered_df.loc[filtered_df['sortedID'] == last_simplex, variable_name].values[0]\n",
    "\n",
    "        FIRST_VALUE = filtered_df.loc[filtered_df['sortedID'] == first_simplex, variable_name].values[0]\n",
    "        print(f'first value:  - {FIRST_VALUE}')\n",
    "\n",
    "        print(filtration_value)\n",
    "\n",
    "        st.insert(simplex, filtration=filtration_value)\n",
    "\n",
    "        # break\n"
   ]
  },
  {
   "cell_type": "code",
   "execution_count": null,
   "metadata": {},
   "outputs": [],
   "source": [
    "for simplex in simplices:\n",
    "    if len(simplex) == 3:\n",
    "        last_simplex = simplex[-1]\n",
    "        filtration_value = filtered_df.loc[filtered_df['sortedID'] == last_simplex, variable_name].values[0]\n",
    "        st.insert(simplex, filtration=filtration_value)"
   ]
  },
  {
   "cell_type": "code",
   "execution_count": 21,
   "metadata": {},
   "outputs": [],
   "source": [
    "\n",
    "\n",
    "\n",
    "\n",
    "\n"
   ]
  },
  {
   "cell_type": "code",
   "execution_count": 22,
   "metadata": {},
   "outputs": [],
   "source": [
    "st.compute_persistence()\n",
    "persistence = st.persistence()"
   ]
  },
  {
   "cell_type": "code",
   "execution_count": 23,
   "metadata": {},
   "outputs": [],
   "source": [
    "# intervals_dim1 = st.persistence_intervals_in_dimension(1)\n",
    "intervals_dim0 = st.persistence_intervals_in_dimension(0)"
   ]
  },
  {
   "cell_type": "code",
   "execution_count": 24,
   "metadata": {},
   "outputs": [
    {
     "data": {
      "text/plain": [
       "array([[ 0.,  1.],\n",
       "       [ 0.,  1.],\n",
       "       [ 0.,  1.],\n",
       "       [ 0.,  1.],\n",
       "       [ 0.,  1.],\n",
       "       [ 0.,  2.],\n",
       "       [ 0.,  2.],\n",
       "       [ 0.,  2.],\n",
       "       [ 0.,  2.],\n",
       "       [ 0.,  3.],\n",
       "       [ 0.,  3.],\n",
       "       [ 0.,  4.],\n",
       "       [ 0.,  4.],\n",
       "       [ 0.,  6.],\n",
       "       [ 0.,  6.],\n",
       "       [ 0., inf]])"
      ]
     },
     "execution_count": 24,
     "metadata": {},
     "output_type": "execute_result"
    }
   ],
   "source": [
    "intervals_dim0"
   ]
  },
  {
   "cell_type": "code",
   "execution_count": 25,
   "metadata": {},
   "outputs": [
    {
     "name": "stdout",
     "output_type": "stream",
     "text": [
      "max value: 16\n"
     ]
    }
   ],
   "source": [
    "# get the max value of the filtered_df to replace inf\n",
    "max_value = filtered_df[variable_name].max()\n",
    "print(f'max value: {max_value}')\n",
    "\n"
   ]
  },
  {
   "cell_type": "code",
   "execution_count": 26,
   "metadata": {},
   "outputs": [],
   "source": [
    "# replace inf with a large number   #this needs to be fixed : previously used 16\n",
    "intervals_dim0[:, 1][np.isinf(intervals_dim0[:, 1])] = max_value"
   ]
  },
  {
   "cell_type": "code",
   "execution_count": 27,
   "metadata": {},
   "outputs": [
    {
     "data": {
      "text/plain": [
       "array([[ 0.,  1.],\n",
       "       [ 0.,  1.],\n",
       "       [ 0.,  1.],\n",
       "       [ 0.,  1.],\n",
       "       [ 0.,  1.],\n",
       "       [ 0.,  2.],\n",
       "       [ 0.,  2.],\n",
       "       [ 0.,  2.],\n",
       "       [ 0.,  2.],\n",
       "       [ 0.,  3.],\n",
       "       [ 0.,  3.],\n",
       "       [ 0.,  4.],\n",
       "       [ 0.,  4.],\n",
       "       [ 0.,  6.],\n",
       "       [ 0.,  6.],\n",
       "       [ 0., 16.]])"
      ]
     },
     "execution_count": 27,
     "metadata": {},
     "output_type": "execute_result"
    }
   ],
   "source": [
    "intervals_dim0"
   ]
  },
  {
   "cell_type": "code",
   "execution_count": 28,
   "metadata": {},
   "outputs": [
    {
     "name": "stdout",
     "output_type": "stream",
     "text": [
      "Number of H0 data points: 16\n"
     ]
    }
   ],
   "source": [
    "# calculate topological summaries for dimension 1\n",
    "H0_data_points = len(intervals_dim0)\n",
    "\n",
    "print(f'Number of H0 data points: {H0_data_points}')"
   ]
  },
  {
   "cell_type": "code",
   "execution_count": 29,
   "metadata": {},
   "outputs": [
    {
     "name": "stdout",
     "output_type": "stream",
     "text": [
      "Total length of H0 intervals: 55.0\n"
     ]
    }
   ],
   "source": [
    "TL = 0\n",
    "for interval in intervals_dim0:\n",
    "        TL += interval[1] - interval[0]\n",
    "\n",
    "print(f'Total length of H0 intervals: {TL}')"
   ]
  },
  {
   "cell_type": "code",
   "execution_count": 30,
   "metadata": {},
   "outputs": [
    {
     "name": "stdout",
     "output_type": "stream",
     "text": [
      "Total mean length of H0 intervals: 27.5\n"
     ]
    }
   ],
   "source": [
    "TML = 0\n",
    "for interval in intervals_dim0:\n",
    "    TML += (interval[1] + interval[0])/2\n",
    "\n",
    "print(f'Total mean length of H0 intervals: {TML}')"
   ]
  },
  {
   "cell_type": "code",
   "execution_count": 31,
   "metadata": {},
   "outputs": [],
   "source": [
    "AL = TL/len(intervals_dim0)\n",
    "AML = TML/len(intervals_dim0)"
   ]
  },
  {
   "cell_type": "code",
   "execution_count": 32,
   "metadata": {},
   "outputs": [
    {
     "data": {
      "text/plain": [
       "27.5"
      ]
     },
     "execution_count": 32,
     "metadata": {},
     "output_type": "execute_result"
    }
   ],
   "source": [
    "TL/2"
   ]
  },
  {
   "cell_type": "code",
   "execution_count": 33,
   "metadata": {},
   "outputs": [],
   "source": [
    "# TL: 151.0 for Value\n",
    "# TL: 159.0 for Value2\n",
    "# TL: 165.0 for Value3\n"
   ]
  },
  {
   "cell_type": "code",
   "execution_count": null,
   "metadata": {},
   "outputs": [],
   "source": []
  },
  {
   "cell_type": "code",
   "execution_count": null,
   "metadata": {},
   "outputs": [],
   "source": []
  }
 ],
 "metadata": {
  "kernelspec": {
   "display_name": "pymc_env",
   "language": "python",
   "name": "python3"
  },
  "language_info": {
   "codemirror_mode": {
    "name": "ipython",
    "version": 3
   },
   "file_extension": ".py",
   "mimetype": "text/x-python",
   "name": "python",
   "nbconvert_exporter": "python",
   "pygments_lexer": "ipython3",
   "version": "3.12.8"
  }
 },
 "nbformat": 4,
 "nbformat_minor": 2
}
