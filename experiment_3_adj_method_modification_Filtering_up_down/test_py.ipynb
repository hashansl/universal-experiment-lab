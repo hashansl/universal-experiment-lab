{
 "cells": [
  {
   "cell_type": "code",
   "execution_count": 1,
   "metadata": {},
   "outputs": [
    {
     "name": "stderr",
     "output_type": "stream",
     "text": [
      "/Users/h6x/anaconda3/envs/TDA/lib/python3.11/site-packages/pandas/core/arrays/masked.py:60: UserWarning: Pandas requires version '1.3.6' or newer of 'bottleneck' (version '1.3.5' currently installed).\n",
      "  from pandas.core import (\n"
     ]
    }
   ],
   "source": [
    "# import libraries\n",
    "import pandas as pd\n",
    "import geopandas as gpd\n",
    "import numpy as np\n",
    "import matplotlib.pyplot as plt\n",
    "import shapely.geometry as geom"
   ]
  },
  {
   "cell_type": "code",
   "execution_count": 2,
   "metadata": {},
   "outputs": [],
   "source": [
    "# dataframe"
   ]
  },
  {
   "cell_type": "code",
   "execution_count": 3,
   "metadata": {},
   "outputs": [],
   "source": [
    "# Create a DataFrame with box names and values\n",
    "box_names = [chr(65 + i) for i in range(16)]\n",
    "index = list(range(0, 16))\n",
    "values = list(range(1, 17))"
   ]
  },
  {
   "cell_type": "code",
   "execution_count": 4,
   "metadata": {},
   "outputs": [],
   "source": [
    "df = pd.DataFrame({'FIPS': box_names,'Index': index, 'Value': values})\n",
    "\n",
    "# Sorting the DataFrame based on the 'rate' column :::: Values are needed to be sorted in ascending order\n",
    "df.sort_values(by='Value', inplace=True)\n",
    "\n",
    "# Adding a new column 'new_ID' with ID values starting from zero\n",
    "df['sortedID'] = range(len(df))\n",
    "\n",
    "# Function to calculate square coordinates for a given name\n",
    "def calculate_square_coordinates(row):\n",
    "    value = row['Index']\n",
    "    # Assuming each smaller square has a side length of 1 unit\n",
    "    x = value % 4\n",
    "    y = value // 4\n",
    "    # Return square coordinates as a Shapely polygon\n",
    "    return geom.Polygon([(x, y), (x+1, y), (x+1, y+1), (x, y+1)])\n",
    "\n",
    "# Calculate square coordinates for each row and create a geometry column\n",
    "df['geometry'] = df.apply(calculate_square_coordinates, axis=1)\n",
    "\n",
    "# Convert the DataFrame to a GeoDataFrame\n",
    "gdf = gpd.GeoDataFrame(df, geometry='geometry')\n",
    "\n",
    "# Set the CRS to a simple Cartesian coordinate system\n",
    "gdf.crs = \"EPSG:3395\"  # This is a commonly used projected CRS\n",
    "\n",
    "gdf = gdf[['FIPS','Value', 'geometry']]  "
   ]
  },
  {
   "cell_type": "code",
   "execution_count": 5,
   "metadata": {},
   "outputs": [],
   "source": [
    "from adjacency_simplex import AdjacencySimplex  # Import the class"
   ]
  },
  {
   "cell_type": "code",
   "execution_count": 6,
   "metadata": {},
   "outputs": [],
   "source": [
    "# Initialize the AdjacencySimplex class\n",
    "adj_simplex = AdjacencySimplex(gdf, 'Value', threshold = None, filter_method = 'down')\n",
    "\n",
    "# Filter the GeoDataFrame\n",
    "filtered_df,gdf_id = adj_simplex.filter_sort_gdf()\n",
    "\n",
    "# Calculate the adjacent countries\n",
    "adj_simplex.calculate_adjacent_countries()\n",
    "\n",
    "# Form the simplicial complex\n",
    "simplex = adj_simplex.form_simplicial_complex()"
   ]
  },
  {
   "cell_type": "code",
   "execution_count": 7,
   "metadata": {},
   "outputs": [],
   "source": [
    "from plot_utills import plot_simplicial_complex_gif  # Import the function"
   ]
  },
  {
   "cell_type": "code",
   "execution_count": 8,
   "metadata": {},
   "outputs": [],
   "source": [
    "import io\n",
    "from PIL import Image\n",
    "import matplotlib.pyplot as plt\n",
    "import numpy as np"
   ]
  },
  {
   "cell_type": "code",
   "execution_count": 9,
   "metadata": {},
   "outputs": [
    {
     "data": {
      "text/html": [
       "<div>\n",
       "<style scoped>\n",
       "    .dataframe tbody tr th:only-of-type {\n",
       "        vertical-align: middle;\n",
       "    }\n",
       "\n",
       "    .dataframe tbody tr th {\n",
       "        vertical-align: top;\n",
       "    }\n",
       "\n",
       "    .dataframe thead th {\n",
       "        text-align: right;\n",
       "    }\n",
       "</style>\n",
       "<table border=\"1\" class=\"dataframe\">\n",
       "  <thead>\n",
       "    <tr style=\"text-align: right;\">\n",
       "      <th></th>\n",
       "      <th>FIPS</th>\n",
       "      <th>Value</th>\n",
       "      <th>geometry</th>\n",
       "    </tr>\n",
       "  </thead>\n",
       "  <tbody>\n",
       "    <tr>\n",
       "      <th>0</th>\n",
       "      <td>A</td>\n",
       "      <td>1</td>\n",
       "      <td>POLYGON ((0.000 0.000, 1.000 0.000, 1.000 1.00...</td>\n",
       "    </tr>\n",
       "    <tr>\n",
       "      <th>1</th>\n",
       "      <td>B</td>\n",
       "      <td>2</td>\n",
       "      <td>POLYGON ((1.000 0.000, 2.000 0.000, 2.000 1.00...</td>\n",
       "    </tr>\n",
       "    <tr>\n",
       "      <th>2</th>\n",
       "      <td>C</td>\n",
       "      <td>3</td>\n",
       "      <td>POLYGON ((2.000 0.000, 3.000 0.000, 3.000 1.00...</td>\n",
       "    </tr>\n",
       "    <tr>\n",
       "      <th>3</th>\n",
       "      <td>D</td>\n",
       "      <td>4</td>\n",
       "      <td>POLYGON ((3.000 0.000, 4.000 0.000, 4.000 1.00...</td>\n",
       "    </tr>\n",
       "    <tr>\n",
       "      <th>4</th>\n",
       "      <td>E</td>\n",
       "      <td>5</td>\n",
       "      <td>POLYGON ((0.000 1.000, 1.000 1.000, 1.000 2.00...</td>\n",
       "    </tr>\n",
       "  </tbody>\n",
       "</table>\n",
       "</div>"
      ],
      "text/plain": [
       "  FIPS  Value                                           geometry\n",
       "0    A      1  POLYGON ((0.000 0.000, 1.000 0.000, 1.000 1.00...\n",
       "1    B      2  POLYGON ((1.000 0.000, 2.000 0.000, 2.000 1.00...\n",
       "2    C      3  POLYGON ((2.000 0.000, 3.000 0.000, 3.000 1.00...\n",
       "3    D      4  POLYGON ((3.000 0.000, 4.000 0.000, 4.000 1.00...\n",
       "4    E      5  POLYGON ((0.000 1.000, 1.000 1.000, 1.000 2.00..."
      ]
     },
     "execution_count": 9,
     "metadata": {},
     "output_type": "execute_result"
    }
   ],
   "source": [
    "gdf.head()"
   ]
  },
  {
   "cell_type": "code",
   "execution_count": 10,
   "metadata": {},
   "outputs": [
    {
     "data": {
      "text/html": [
       "<div>\n",
       "<style scoped>\n",
       "    .dataframe tbody tr th:only-of-type {\n",
       "        vertical-align: middle;\n",
       "    }\n",
       "\n",
       "    .dataframe tbody tr th {\n",
       "        vertical-align: top;\n",
       "    }\n",
       "\n",
       "    .dataframe thead th {\n",
       "        text-align: right;\n",
       "    }\n",
       "</style>\n",
       "<table border=\"1\" class=\"dataframe\">\n",
       "  <thead>\n",
       "    <tr style=\"text-align: right;\">\n",
       "      <th></th>\n",
       "      <th>FIPS</th>\n",
       "      <th>Value</th>\n",
       "      <th>geometry</th>\n",
       "      <th>sortedID</th>\n",
       "    </tr>\n",
       "  </thead>\n",
       "  <tbody>\n",
       "    <tr>\n",
       "      <th>15</th>\n",
       "      <td>P</td>\n",
       "      <td>16</td>\n",
       "      <td>POLYGON ((3.00000 3.00000, 4.00000 3.00000, 4....</td>\n",
       "      <td>0</td>\n",
       "    </tr>\n",
       "    <tr>\n",
       "      <th>14</th>\n",
       "      <td>O</td>\n",
       "      <td>15</td>\n",
       "      <td>POLYGON ((2.00000 3.00000, 3.00000 3.00000, 3....</td>\n",
       "      <td>1</td>\n",
       "    </tr>\n",
       "    <tr>\n",
       "      <th>13</th>\n",
       "      <td>N</td>\n",
       "      <td>14</td>\n",
       "      <td>POLYGON ((1.00000 3.00000, 2.00000 3.00000, 2....</td>\n",
       "      <td>2</td>\n",
       "    </tr>\n",
       "    <tr>\n",
       "      <th>12</th>\n",
       "      <td>M</td>\n",
       "      <td>13</td>\n",
       "      <td>POLYGON ((0.00000 3.00000, 1.00000 3.00000, 1....</td>\n",
       "      <td>3</td>\n",
       "    </tr>\n",
       "    <tr>\n",
       "      <th>11</th>\n",
       "      <td>L</td>\n",
       "      <td>12</td>\n",
       "      <td>POLYGON ((3.00000 2.00000, 4.00000 2.00000, 4....</td>\n",
       "      <td>4</td>\n",
       "    </tr>\n",
       "  </tbody>\n",
       "</table>\n",
       "</div>"
      ],
      "text/plain": [
       "   FIPS  Value                                           geometry  sortedID\n",
       "15    P     16  POLYGON ((3.00000 3.00000, 4.00000 3.00000, 4....         0\n",
       "14    O     15  POLYGON ((2.00000 3.00000, 3.00000 3.00000, 3....         1\n",
       "13    N     14  POLYGON ((1.00000 3.00000, 2.00000 3.00000, 2....         2\n",
       "12    M     13  POLYGON ((0.00000 3.00000, 1.00000 3.00000, 1....         3\n",
       "11    L     12  POLYGON ((3.00000 2.00000, 4.00000 2.00000, 4....         4"
      ]
     },
     "execution_count": 10,
     "metadata": {},
     "output_type": "execute_result"
    }
   ],
   "source": [
    "filtered_df.head()"
   ]
  },
  {
   "cell_type": "code",
   "execution_count": 11,
   "metadata": {},
   "outputs": [],
   "source": [
    "# Initialize list_gif to store images\n",
    "# list_gif = []\n",
    "\n",
    "# Call the function\n",
    "list_gif = plot_simplicial_complex_gif(dataframe=gdf_id, simplices=simplex, variable='Value')"
   ]
  },
  {
   "cell_type": "code",
   "execution_count": 12,
   "metadata": {},
   "outputs": [],
   "source": [
    "list_gif[0].save('test_0.gif', save_all=True,append_images=list_gif[1:],optimize=False,duration=200,loop=0) "
   ]
  },
  {
   "cell_type": "code",
   "execution_count": 13,
   "metadata": {},
   "outputs": [],
   "source": [
    "from calculate_tda_summaries import compute_persistence"
   ]
  },
  {
   "cell_type": "code",
   "execution_count": 14,
   "metadata": {},
   "outputs": [],
   "source": [
    "total_h0_points, tl, al, tml, aml = compute_persistence(simplex,filtered_df, 'Value')"
   ]
  },
  {
   "cell_type": "markdown",
   "metadata": {},
   "source": [
    "## Down"
   ]
  },
  {
   "cell_type": "code",
   "execution_count": 15,
   "metadata": {},
   "outputs": [
    {
     "name": "stdout",
     "output_type": "stream",
     "text": [
      "Total number of H0 points: 16\n",
      "Total  lifespan: 91.0\n",
      "Average lifespan: 5.6875\n",
      "Total mid lifespan: 45.5\n",
      "Average mid lifespan: 2.84375\n"
     ]
    }
   ],
   "source": [
    "print('Total number of H0 points:', total_h0_points)\n",
    "print('Total  lifespan:', tl)\n",
    "print('Average lifespan:', al)\n",
    "print('Total mid lifespan:', tml)\n",
    "print('Average mid lifespan:', aml)"
   ]
  },
  {
   "cell_type": "markdown",
   "metadata": {},
   "source": [
    "## Up"
   ]
  },
  {
   "cell_type": "code",
   "execution_count": 16,
   "metadata": {},
   "outputs": [
    {
     "name": "stdout",
     "output_type": "stream",
     "text": [
      "Total number of H0 points: 16\n",
      "Total  lifespan: 151.0\n",
      "Average lifespan: 9.4375\n",
      "Total mid lifespan: 75.5\n",
      "Average mid lifespan: 4.71875\n"
     ]
    }
   ],
   "source": [
    "print('Total number of H0 points:', total_h0_points)\n",
    "print('Total  lifespan:', tl)\n",
    "print('Average lifespan:', al)\n",
    "print('Total mid lifespan:', tml)\n",
    "print('Average mid lifespan:', aml)"
   ]
  },
  {
   "cell_type": "code",
   "execution_count": null,
   "metadata": {},
   "outputs": [],
   "source": []
  }
 ],
 "metadata": {
  "kernelspec": {
   "display_name": "TDA",
   "language": "python",
   "name": "python3"
  },
  "language_info": {
   "codemirror_mode": {
    "name": "ipython",
    "version": 3
   },
   "file_extension": ".py",
   "mimetype": "text/x-python",
   "name": "python",
   "nbconvert_exporter": "python",
   "pygments_lexer": "ipython3",
   "version": "3.11.4"
  }
 },
 "nbformat": 4,
 "nbformat_minor": 2
}
