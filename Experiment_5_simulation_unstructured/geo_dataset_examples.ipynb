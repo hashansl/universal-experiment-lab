{
 "cells": [
  {
   "cell_type": "markdown",
   "metadata": {},
   "source": [
    "#### Experiment filtering up and down methods"
   ]
  },
  {
   "cell_type": "markdown",
   "metadata": {},
   "source": [
    "Might have to experiment with invr file "
   ]
  },
  {
   "cell_type": "markdown",
   "metadata": {},
   "source": [
    "First create a custom dataframe to experiment"
   ]
  },
  {
   "cell_type": "code",
   "execution_count": 1,
   "metadata": {},
   "outputs": [
    {
     "name": "stderr",
     "output_type": "stream",
     "text": [
      "/Users/h6x/anaconda3/envs/TDA/lib/python3.11/site-packages/pandas/core/arrays/masked.py:60: UserWarning: Pandas requires version '1.3.6' or newer of 'bottleneck' (version '1.3.5' currently installed).\n",
      "  from pandas.core import (\n"
     ]
    }
   ],
   "source": [
    "# import libraries\n",
    "import pandas as pd\n",
    "import geopandas as gpd\n",
    "import numpy as np\n",
    "import matplotlib.pyplot as plt\n",
    "import shapely.geometry as geom"
   ]
  },
  {
   "cell_type": "code",
   "execution_count": 3,
   "metadata": {},
   "outputs": [],
   "source": [
    "# Create a DataFrame with box names and values\n",
    "# box_names = [chr(65 + i) for i in range(16)]\n",
    "index = list(range(0, 49))\n",
    "values = list(range(1, 50))"
   ]
  },
  {
   "cell_type": "code",
   "execution_count": 4,
   "metadata": {},
   "outputs": [],
   "source": [
    "df = pd.DataFrame({'Index': index, 'Value': values})"
   ]
  },
  {
   "cell_type": "code",
   "execution_count": 5,
   "metadata": {},
   "outputs": [
    {
     "data": {
      "text/html": [
       "<div>\n",
       "<style scoped>\n",
       "    .dataframe tbody tr th:only-of-type {\n",
       "        vertical-align: middle;\n",
       "    }\n",
       "\n",
       "    .dataframe tbody tr th {\n",
       "        vertical-align: top;\n",
       "    }\n",
       "\n",
       "    .dataframe thead th {\n",
       "        text-align: right;\n",
       "    }\n",
       "</style>\n",
       "<table border=\"1\" class=\"dataframe\">\n",
       "  <thead>\n",
       "    <tr style=\"text-align: right;\">\n",
       "      <th></th>\n",
       "      <th>Index</th>\n",
       "      <th>Value</th>\n",
       "    </tr>\n",
       "  </thead>\n",
       "  <tbody>\n",
       "    <tr>\n",
       "      <th>0</th>\n",
       "      <td>0</td>\n",
       "      <td>1</td>\n",
       "    </tr>\n",
       "    <tr>\n",
       "      <th>1</th>\n",
       "      <td>1</td>\n",
       "      <td>2</td>\n",
       "    </tr>\n",
       "    <tr>\n",
       "      <th>2</th>\n",
       "      <td>2</td>\n",
       "      <td>3</td>\n",
       "    </tr>\n",
       "    <tr>\n",
       "      <th>3</th>\n",
       "      <td>3</td>\n",
       "      <td>4</td>\n",
       "    </tr>\n",
       "    <tr>\n",
       "      <th>4</th>\n",
       "      <td>4</td>\n",
       "      <td>5</td>\n",
       "    </tr>\n",
       "  </tbody>\n",
       "</table>\n",
       "</div>"
      ],
      "text/plain": [
       "   Index  Value\n",
       "0      0      1\n",
       "1      1      2\n",
       "2      2      3\n",
       "3      3      4\n",
       "4      4      5"
      ]
     },
     "execution_count": 5,
     "metadata": {},
     "output_type": "execute_result"
    }
   ],
   "source": [
    "df.head()"
   ]
  },
  {
   "cell_type": "code",
   "execution_count": 6,
   "metadata": {},
   "outputs": [],
   "source": [
    "# Sorting the DataFrame based on the 'rate' column :::: Values are needed to be sorted in ascending order\n",
    "df.sort_values(by='Value', inplace=True)\n",
    "\n",
    "# Adding a new column 'new_ID' with ID values starting from zero\n",
    "df['sortedID'] = range(len(df))"
   ]
  },
  {
   "cell_type": "code",
   "execution_count": 7,
   "metadata": {},
   "outputs": [
    {
     "data": {
      "text/html": [
       "<div>\n",
       "<style scoped>\n",
       "    .dataframe tbody tr th:only-of-type {\n",
       "        vertical-align: middle;\n",
       "    }\n",
       "\n",
       "    .dataframe tbody tr th {\n",
       "        vertical-align: top;\n",
       "    }\n",
       "\n",
       "    .dataframe thead th {\n",
       "        text-align: right;\n",
       "    }\n",
       "</style>\n",
       "<table border=\"1\" class=\"dataframe\">\n",
       "  <thead>\n",
       "    <tr style=\"text-align: right;\">\n",
       "      <th></th>\n",
       "      <th>Index</th>\n",
       "      <th>Value</th>\n",
       "      <th>sortedID</th>\n",
       "    </tr>\n",
       "  </thead>\n",
       "  <tbody>\n",
       "    <tr>\n",
       "      <th>0</th>\n",
       "      <td>0</td>\n",
       "      <td>1</td>\n",
       "      <td>0</td>\n",
       "    </tr>\n",
       "    <tr>\n",
       "      <th>1</th>\n",
       "      <td>1</td>\n",
       "      <td>2</td>\n",
       "      <td>1</td>\n",
       "    </tr>\n",
       "    <tr>\n",
       "      <th>2</th>\n",
       "      <td>2</td>\n",
       "      <td>3</td>\n",
       "      <td>2</td>\n",
       "    </tr>\n",
       "    <tr>\n",
       "      <th>3</th>\n",
       "      <td>3</td>\n",
       "      <td>4</td>\n",
       "      <td>3</td>\n",
       "    </tr>\n",
       "    <tr>\n",
       "      <th>4</th>\n",
       "      <td>4</td>\n",
       "      <td>5</td>\n",
       "      <td>4</td>\n",
       "    </tr>\n",
       "  </tbody>\n",
       "</table>\n",
       "</div>"
      ],
      "text/plain": [
       "   Index  Value  sortedID\n",
       "0      0      1         0\n",
       "1      1      2         1\n",
       "2      2      3         2\n",
       "3      3      4         3\n",
       "4      4      5         4"
      ]
     },
     "execution_count": 7,
     "metadata": {},
     "output_type": "execute_result"
    }
   ],
   "source": [
    "df.head()"
   ]
  },
  {
   "cell_type": "code",
   "execution_count": 9,
   "metadata": {},
   "outputs": [],
   "source": [
    "# Function to calculate square coordinates for a given name\n",
    "def calculate_square_coordinates(row):\n",
    "    value = row['Index']\n",
    "    # Assuming each smaller square has a side length of 1 unit\n",
    "    x = value % 7\n",
    "    y = value // 7\n",
    "    # Return square coordinates as a Shapely polygon\n",
    "    return geom.Polygon([(x, y), (x+1, y), (x+1, y+1), (x, y+1)])"
   ]
  },
  {
   "cell_type": "code",
   "execution_count": 10,
   "metadata": {},
   "outputs": [],
   "source": [
    "# Calculate square coordinates for each row and create a geometry column\n",
    "df['geometry'] = df.apply(calculate_square_coordinates, axis=1)"
   ]
  },
  {
   "cell_type": "code",
   "execution_count": 11,
   "metadata": {},
   "outputs": [],
   "source": [
    "# Convert the DataFrame to a GeoDataFrame\n",
    "gdf = gpd.GeoDataFrame(df, geometry='geometry')\n",
    "\n",
    "# Set the CRS to a simple Cartesian coordinate system\n",
    "gdf.crs = \"EPSG:3395\"  # This is a commonly used projected CRS"
   ]
  },
  {
   "cell_type": "code",
   "execution_count": 12,
   "metadata": {},
   "outputs": [
    {
     "data": {
      "image/png": "[encoded data removed]",
      "text/plain": [
       "<Figure size 500x500 with 2 Axes>"
      ]
     },
     "metadata": {},
     "output_type": "display_data"
    }
   ],
   "source": [
    "# plot the geodataframe\n",
    "\n",
    "fig, ax = plt.subplots(figsize=(5, 5))\n",
    "gdf.plot(ax=ax, column='Value', cmap='viridis', legend=True)\n",
    "for x, y, label in zip(gdf.geometry.centroid.x, gdf.geometry.centroid.y, gdf['Value']):\n",
    "    ax.text(x, y, label, fontsize=8, ha='center')\n",
    "plt.axis('off')\n",
    "plt.show()"
   ]
  },
  {
   "cell_type": "code",
   "execution_count": null,
   "metadata": {},
   "outputs": [],
   "source": []
  },
  {
   "cell_type": "code",
   "execution_count": null,
   "metadata": {},
   "outputs": [],
   "source": []
  },
  {
   "cell_type": "code",
   "execution_count": 13,
   "metadata": {},
   "outputs": [],
   "source": [
    "import numpy as np\n",
    "import pandas as pd\n",
    "import geopandas as gpd\n",
    "from scipy.ndimage import gaussian_filter\n",
    "\n",
    "# Define grid size\n",
    "grid_size = (7, 7)  # Each region is a 7x7 grid\n",
    "mean, std_dev = 0.5, 0.125  # Normal distribution parameters\n",
    "\n",
    "# Generate random values from N(0.5, 0.125)\n",
    "random_values = np.random.normal(mean, std_dev, grid_size)\n",
    "\n",
    "# Apply Gaussian smoothing for spatial autocorrelation\n",
    "smoothed_values = gaussian_filter(random_values, sigma=1.5)  # sigma controls smoothness\n",
    "\n",
    "# Create DataFrame with spatially structured values\n",
    "rows, cols = np.meshgrid(range(grid_size[0]), range(grid_size[1]), indexing='ij')\n",
    "data = {\n",
    "    \"row\": rows.ravel(),\n",
    "    \"col\": cols.ravel(),\n",
    "    \"Value\": smoothed_values.ravel()\n",
    "}\n",
    "\n",
    "df = pd.DataFrame(data)\n",
    "\n",
    "# Assign a spatial index (you can also use a unique ID if needed)\n",
    "df[\"Index\"] = df.index"
   ]
  },
  {
   "cell_type": "code",
   "execution_count": 14,
   "metadata": {},
   "outputs": [],
   "source": [
    "# Convert to a GeoDataFrame (assuming square regions)\n",
    "df[\"geometry\"] = gpd.points_from_xy(df[\"col\"], df[\"row\"])  # Simple point representation\n",
    "gdf = gpd.GeoDataFrame(df, geometry=\"geometry\")"
   ]
  },
  {
   "cell_type": "code",
   "execution_count": 15,
   "metadata": {},
   "outputs": [
    {
     "data": {
      "text/plain": [
       "<Axes: >"
      ]
     },
     "execution_count": 15,
     "metadata": {},
     "output_type": "execute_result"
    },
    {
     "data": {
      "image/png": "[encoded data removed]",
      "text/plain": [
       "<Figure size 640x480 with 2 Axes>"
      ]
     },
     "metadata": {},
     "output_type": "display_data"
    }
   ],
   "source": [
    "gdf.plot(column=\"Value\", cmap=\"viridis\", legend=True)"
   ]
  },
  {
   "cell_type": "code",
   "execution_count": 35,
   "metadata": {},
   "outputs": [],
   "source": [
    "import numpy as np\n",
    "import pandas as pd\n",
    "import geopandas as gpd\n",
    "from shapely import geometry as geom\n",
    "from scipy.ndimage import gaussian_filter\n",
    "\n",
    "# Set random seed for reproducibility\n",
    "np.random.seed(42)\n",
    "\n",
    "# Function to calculate square coordinates for a given index\n",
    "def calculate_square_coordinates(row):\n",
    "    value = row['Index']\n",
    "    x = value % 7\n",
    "    y = value // 7\n",
    "    return geom.Polygon([(x, y), (x+1, y), (x+1, y+1), (x, y+1)])\n",
    "\n",
    "# Generate a DataFrame with 49 squares (7x7 grid)\n",
    "num_squares = 7 * 7\n",
    "df = pd.DataFrame({'Index': np.arange(num_squares)})\n",
    "\n",
    "# Generate spatially correlated normal values\n",
    "grid_size = (7, 7)\n",
    "mean, std_dev = 0.5, 0.125\n",
    "random_values = np.random.normal(mean, std_dev, grid_size)\n",
    "smoothed_values = gaussian_filter(random_values, sigma=1.5)  # Spatial correlation\n",
    "\n",
    "# Assign values to the DataFrame\n",
    "df['Value'] = smoothed_values.ravel()\n",
    "\n",
    "# Convert to GeoDataFrame with square geometries\n",
    "df['geometry'] = df.apply(calculate_square_coordinates, axis=1)\n",
    "gdf = gpd.GeoDataFrame(df, geometry='geometry')"
   ]
  },
  {
   "cell_type": "code",
   "execution_count": 36,
   "metadata": {},
   "outputs": [
    {
     "data": {
      "text/plain": [
       "<Axes: >"
      ]
     },
     "execution_count": 36,
     "metadata": {},
     "output_type": "execute_result"
    },
    {
     "data": {
      "image/png": "[encoded data removed]",
      "text/plain": [
       "<Figure size 640x480 with 2 Axes>"
      ]
     },
     "metadata": {},
     "output_type": "display_data"
    }
   ],
   "source": [
    "gdf.plot(column='Value', cmap='viridis', legend=True)"
   ]
  },
  {
   "cell_type": "code",
   "execution_count": 38,
   "metadata": {},
   "outputs": [
    {
     "data": {
      "text/plain": [
       "<Axes: ylabel='Frequency'>"
      ]
     },
     "execution_count": 38,
     "metadata": {},
     "output_type": "execute_result"
    },
    {
     "data": {
      "image/png": "[encoded data removed]",
      "text/plain": [
       "<Figure size 640x480 with 1 Axes>"
      ]
     },
     "metadata": {},
     "output_type": "display_data"
    }
   ],
   "source": [
    "gdf['Value'].plot.hist(bins=15, color='skyblue', edgecolor='black')"
   ]
  },
  {
   "cell_type": "code",
   "execution_count": 20,
   "metadata": {},
   "outputs": [
    {
     "data": {
      "text/html": [
       "<div>\n",
       "<style scoped>\n",
       "    .dataframe tbody tr th:only-of-type {\n",
       "        vertical-align: middle;\n",
       "    }\n",
       "\n",
       "    .dataframe tbody tr th {\n",
       "        vertical-align: top;\n",
       "    }\n",
       "\n",
       "    .dataframe thead th {\n",
       "        text-align: right;\n",
       "    }\n",
       "</style>\n",
       "<table border=\"1\" class=\"dataframe\">\n",
       "  <thead>\n",
       "    <tr style=\"text-align: right;\">\n",
       "      <th></th>\n",
       "      <th>Index</th>\n",
       "      <th>Value</th>\n",
       "      <th>geometry</th>\n",
       "    </tr>\n",
       "  </thead>\n",
       "  <tbody>\n",
       "    <tr>\n",
       "      <th>0</th>\n",
       "      <td>0</td>\n",
       "      <td>0.585700</td>\n",
       "      <td>POLYGON ((0.00000 0.00000, 1.00000 0.00000, 1....</td>\n",
       "    </tr>\n",
       "    <tr>\n",
       "      <th>1</th>\n",
       "      <td>1</td>\n",
       "      <td>0.560998</td>\n",
       "      <td>POLYGON ((1.00000 0.00000, 2.00000 0.00000, 2....</td>\n",
       "    </tr>\n",
       "    <tr>\n",
       "      <th>2</th>\n",
       "      <td>2</td>\n",
       "      <td>0.539825</td>\n",
       "      <td>POLYGON ((2.00000 0.00000, 3.00000 0.00000, 3....</td>\n",
       "    </tr>\n",
       "    <tr>\n",
       "      <th>3</th>\n",
       "      <td>3</td>\n",
       "      <td>0.529924</td>\n",
       "      <td>POLYGON ((3.00000 0.00000, 4.00000 0.00000, 4....</td>\n",
       "    </tr>\n",
       "    <tr>\n",
       "      <th>4</th>\n",
       "      <td>4</td>\n",
       "      <td>0.511589</td>\n",
       "      <td>POLYGON ((4.00000 0.00000, 5.00000 0.00000, 5....</td>\n",
       "    </tr>\n",
       "  </tbody>\n",
       "</table>\n",
       "</div>"
      ],
      "text/plain": [
       "   Index     Value                                           geometry\n",
       "0      0  0.585700  POLYGON ((0.00000 0.00000, 1.00000 0.00000, 1....\n",
       "1      1  0.560998  POLYGON ((1.00000 0.00000, 2.00000 0.00000, 2....\n",
       "2      2  0.539825  POLYGON ((2.00000 0.00000, 3.00000 0.00000, 3....\n",
       "3      3  0.529924  POLYGON ((3.00000 0.00000, 4.00000 0.00000, 4....\n",
       "4      4  0.511589  POLYGON ((4.00000 0.00000, 5.00000 0.00000, 5...."
      ]
     },
     "execution_count": 20,
     "metadata": {},
     "output_type": "execute_result"
    }
   ],
   "source": [
    "gdf.head()"
   ]
  },
  {
   "cell_type": "code",
   "execution_count": 25,
   "metadata": {},
   "outputs": [],
   "source": [
    "import numpy as np\n",
    "import pandas as pd\n",
    "import geopandas as gpd\n",
    "from shapely import geometry as geom\n",
    "from scipy.ndimage import gaussian_filter\n",
    "\n",
    "# Function to calculate square coordinates\n",
    "def calculate_square_coordinates(row):\n",
    "    value = row['Index']\n",
    "    x = value % 7\n",
    "    y = value // 7\n",
    "    return geom.Polygon([(x, y), (x+1, y), (x+1, y+1), (x, y+1)])\n",
    "\n",
    "# Generate a DataFrame with 49 squares (7x7 grid)\n",
    "num_squares = 7 * 7\n",
    "df = pd.DataFrame({'Index': np.arange(num_squares)})\n",
    "\n",
    "# Generate positively correlated normal values\n",
    "grid_size = (7, 7)\n",
    "mean, std_dev = 0.5, 0.125\n",
    "random_values = np.random.normal(mean, std_dev, grid_size)\n",
    "smoothed_values = gaussian_filter(random_values, sigma=1.5)  # Spatial correlation\n",
    "\n",
    "# Generate a negatively correlated field by flipping alternate regions\n",
    "negatively_correlated_values = -1 * smoothed_values + (2 * mean)  # Flip values around mean\n",
    "\n",
    "# Assign values to the DataFrame\n",
    "df['Value'] = negatively_correlated_values.ravel()\n",
    "\n",
    "# Convert to GeoDataFrame with square geometries\n",
    "df['geometry'] = df.apply(calculate_square_coordinates, axis=1)\n",
    "gdf = gpd.GeoDataFrame(df, geometry='geometry')"
   ]
  },
  {
   "cell_type": "code",
   "execution_count": 26,
   "metadata": {},
   "outputs": [
    {
     "data": {
      "text/plain": [
       "<Axes: >"
      ]
     },
     "execution_count": 26,
     "metadata": {},
     "output_type": "execute_result"
    },
    {
     "data": {
      "image/png": "[encoded data removed]",
      "text/plain": [
       "<Figure size 640x480 with 2 Axes>"
      ]
     },
     "metadata": {},
     "output_type": "display_data"
    }
   ],
   "source": [
    "gdf.plot(column='Value', cmap='viridis', legend=True)"
   ]
  },
  {
   "cell_type": "code",
   "execution_count": 39,
   "metadata": {},
   "outputs": [],
   "source": [
    "import numpy as np\n",
    "import pandas as pd\n",
    "import geopandas as gpd\n",
    "from shapely import geometry as geom\n",
    "from scipy.ndimage import gaussian_filter\n",
    "\n",
    "# Set random seed for reproducibility\n",
    "np.random.seed(42)\n",
    "\n",
    "# Function to calculate square coordinates for a given index\n",
    "def calculate_square_coordinates(row):\n",
    "    value = row['Index']\n",
    "    x = value % 7\n",
    "    y = value // 7\n",
    "    return geom.Polygon([(x, y), (x+1, y), (x+1, y+1), (x, y+1)])\n",
    "\n",
    "# Generate a DataFrame with 49 squares (7x7 grid)\n",
    "num_squares = 7 * 7\n",
    "df = pd.DataFrame({'Index': np.arange(num_squares)})\n",
    "\n",
    "# Generate spatially correlated Inverse Gamma values\n",
    "grid_size = (7, 7)\n",
    "alpha, beta = 3, 0.25  # Inverse Gamma parameters\n",
    "\n",
    "# Sample from Inverse Gamma\n",
    "random_values = 1 / np.random.gamma(shape=alpha, scale=1/beta, size=grid_size)\n",
    "\n",
    "# Apply Gaussian smoothing for spatial correlation\n",
    "smoothed_values = gaussian_filter(random_values, sigma=1.5)  \n",
    "\n",
    "# Assign values to the DataFrame\n",
    "df['Value'] = smoothed_values.ravel()\n",
    "\n",
    "# Convert to GeoDataFrame with square geometries\n",
    "df['geometry'] = df.apply(calculate_square_coordinates, axis=1)\n",
    "gdf = gpd.GeoDataFrame(df, geometry='geometry')\n"
   ]
  },
  {
   "cell_type": "code",
   "execution_count": 40,
   "metadata": {},
   "outputs": [
    {
     "data": {
      "text/plain": [
       "<Axes: >"
      ]
     },
     "execution_count": 40,
     "metadata": {},
     "output_type": "execute_result"
    },
    {
     "data": {
      "image/png": "[encoded data removed]",
      "text/plain": [
       "<Figure size 640x480 with 2 Axes>"
      ]
     },
     "metadata": {},
     "output_type": "display_data"
    }
   ],
   "source": [
    "gdf.plot(column='Value', cmap='viridis', legend=True)"
   ]
  },
  {
   "cell_type": "code",
   "execution_count": 41,
   "metadata": {},
   "outputs": [
    {
     "data": {
      "text/plain": [
       "<Axes: ylabel='Frequency'>"
      ]
     },
     "execution_count": 41,
     "metadata": {},
     "output_type": "execute_result"
    },
    {
     "data": {
      "image/png": "[encoded data removed]",
      "text/plain": [
       "<Figure size 640x480 with 1 Axes>"
      ]
     },
     "metadata": {},
     "output_type": "display_data"
    }
   ],
   "source": [
    "gdf['Value'].plot.hist(bins=15, color='skyblue', edgecolor='black')"
   ]
  },
  {
   "cell_type": "code",
   "execution_count": null,
   "metadata": {},
   "outputs": [],
   "source": []
  },
  {
   "cell_type": "code",
   "execution_count": null,
   "metadata": {},
   "outputs": [],
   "source": []
  },
  {
   "cell_type": "code",
   "execution_count": null,
   "metadata": {},
   "outputs": [],
   "source": []
  },
  {
   "cell_type": "code",
   "execution_count": null,
   "metadata": {},
   "outputs": [],
   "source": []
  }
 ],
 "metadata": {
  "kernelspec": {
   "display_name": "pymc_env",
   "language": "python",
   "name": "python3"
  },
  "language_info": {
   "codemirror_mode": {
    "name": "ipython",
    "version": 3
   },
   "file_extension": ".py",
   "mimetype": "text/x-python",
   "name": "python",
   "nbconvert_exporter": "python",
   "pygments_lexer": "ipython3",
   "version": "3.12.8"
  }
 },
 "nbformat": 4,
 "nbformat_minor": 2
}
