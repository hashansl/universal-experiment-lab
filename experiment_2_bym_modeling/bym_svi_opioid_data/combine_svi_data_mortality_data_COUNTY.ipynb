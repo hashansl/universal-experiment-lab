{
 "cells": [
  {
   "cell_type": "markdown",
   "metadata": {},
   "source": [
    "#### SVI+Mortality data"
   ]
  },
  {
   "cell_type": "code",
   "execution_count": 1,
   "metadata": {},
   "outputs": [],
   "source": [
    "import pandas as pd\n",
    "import geopandas as gpd"
   ]
  },
  {
   "cell_type": "code",
   "execution_count": 2,
   "metadata": {},
   "outputs": [],
   "source": [
    "mortality = pd.read_excel('/home/h6x/git_projects/ornl-svi-data-processing/raw_data/HepVu_County_Opioid_Indicators_05DEC22.xlsx')\n",
    "svi = gpd.read_file('/home/h6x/git_projects/ornl-svi-data-processing/raw_data/svi/2018/SVI2018_US_county.gdb')"
   ]
  },
  {
   "cell_type": "code",
   "execution_count": 3,
   "metadata": {},
   "outputs": [],
   "source": [
    "def preprocess_overdose_data(overdose_df):\n",
    "    \"\"\"Preprocess overdose data.\"\"\"\n",
    "    overdose_df['GEO ID'] = overdose_df['GEO ID'].astype(str)\n",
    "    overdose_df['GEO ID'] = overdose_df['GEO ID'].apply(lambda x: x.zfill(5))\n",
    "    return overdose_df"
   ]
  },
  {
   "cell_type": "code",
   "execution_count": 4,
   "metadata": {},
   "outputs": [],
   "source": [
    "def preprocess_svi_data(us_svi, raw_variables):\n",
    "    \"\"\"Preprocess SVI data by removing invalid values and normalizing.\"\"\"\n",
    "    for variable in raw_variables:\n",
    "        us_svi = us_svi[us_svi[variable] != -999.00]\n",
    "\n",
    "    # for var in raw_variables:\n",
    "    #     max_val = us_svi[var].max()\n",
    "    #     min_val = us_svi[var].min()\n",
    "    #     us_svi[var] = (us_svi[var] - min_val) / (max_val - min_val)\n",
    "    \n",
    "    return us_svi"
   ]
  },
  {
   "cell_type": "code",
   "execution_count": 5,
   "metadata": {},
   "outputs": [],
   "source": [
    "raw_variables = [\n",
    "        'EP_POV', 'EP_UNEMP', 'EP_PCI', 'EP_NOHSDP', 'EP_UNINSUR', 'EP_AGE65',\n",
    "        'EP_AGE17', 'EP_DISABL', 'EP_SNGPNT', 'EP_LIMENG', 'EP_MINRTY', 'EP_MUNIT',\n",
    "        'EP_MOBILE', 'EP_CROWD', 'EP_NOVEH', 'EP_GROUPQ'\n",
    "    ]"
   ]
  },
  {
   "cell_type": "code",
   "execution_count": 6,
   "metadata": {},
   "outputs": [],
   "source": [
    "mortality = preprocess_overdose_data(mortality)\n",
    "svi = preprocess_svi_data(svi, raw_variables)"
   ]
  },
  {
   "cell_type": "code",
   "execution_count": 7,
   "metadata": {},
   "outputs": [],
   "source": [
    "# filter out the columns we need\n",
    "mortality = mortality[['GEO ID', 'Narcotic Overdose Mortality Rate 2018']]"
   ]
  },
  {
   "cell_type": "code",
   "execution_count": 8,
   "metadata": {},
   "outputs": [
    {
     "data": {
      "text/html": [
       "<div>\n",
       "<style scoped>\n",
       "    .dataframe tbody tr th:only-of-type {\n",
       "        vertical-align: middle;\n",
       "    }\n",
       "\n",
       "    .dataframe tbody tr th {\n",
       "        vertical-align: top;\n",
       "    }\n",
       "\n",
       "    .dataframe thead th {\n",
       "        text-align: right;\n",
       "    }\n",
       "</style>\n",
       "<table border=\"1\" class=\"dataframe\">\n",
       "  <thead>\n",
       "    <tr style=\"text-align: right;\">\n",
       "      <th></th>\n",
       "      <th>ST</th>\n",
       "      <th>STATE</th>\n",
       "      <th>ST_ABBR</th>\n",
       "      <th>COUNTY</th>\n",
       "      <th>FIPS</th>\n",
       "      <th>LOCATION</th>\n",
       "      <th>AREA_SQMI</th>\n",
       "      <th>E_TOTPOP</th>\n",
       "      <th>M_TOTPOP</th>\n",
       "      <th>E_HU</th>\n",
       "      <th>...</th>\n",
       "      <th>F_THEME4</th>\n",
       "      <th>F_TOTAL</th>\n",
       "      <th>E_UNINSUR</th>\n",
       "      <th>M_UNINSUR</th>\n",
       "      <th>EP_UNINSUR</th>\n",
       "      <th>MP_UNINSUR</th>\n",
       "      <th>E_DAYPOP</th>\n",
       "      <th>Shape_Length</th>\n",
       "      <th>Shape_Area</th>\n",
       "      <th>geometry</th>\n",
       "    </tr>\n",
       "  </thead>\n",
       "  <tbody>\n",
       "    <tr>\n",
       "      <th>1</th>\n",
       "      <td>01</td>\n",
       "      <td>ALABAMA</td>\n",
       "      <td>AL</td>\n",
       "      <td>Autauga</td>\n",
       "      <td>01001</td>\n",
       "      <td>Autauga County, Alabama</td>\n",
       "      <td>594.443459</td>\n",
       "      <td>55200</td>\n",
       "      <td>0</td>\n",
       "      <td>23315</td>\n",
       "      <td>...</td>\n",
       "      <td>0</td>\n",
       "      <td>0</td>\n",
       "      <td>3875</td>\n",
       "      <td>508</td>\n",
       "      <td>7.1</td>\n",
       "      <td>0.9</td>\n",
       "      <td>37301</td>\n",
       "      <td>2.052740</td>\n",
       "      <td>0.150256</td>\n",
       "      <td>MULTIPOLYGON (((-86.92120 32.65754, -86.92035 ...</td>\n",
       "    </tr>\n",
       "    <tr>\n",
       "      <th>2</th>\n",
       "      <td>01</td>\n",
       "      <td>ALABAMA</td>\n",
       "      <td>AL</td>\n",
       "      <td>Blount</td>\n",
       "      <td>01009</td>\n",
       "      <td>Blount County, Alabama</td>\n",
       "      <td>644.830460</td>\n",
       "      <td>57645</td>\n",
       "      <td>0</td>\n",
       "      <td>24222</td>\n",
       "      <td>...</td>\n",
       "      <td>0</td>\n",
       "      <td>0</td>\n",
       "      <td>6303</td>\n",
       "      <td>732</td>\n",
       "      <td>11.0</td>\n",
       "      <td>1.3</td>\n",
       "      <td>40036</td>\n",
       "      <td>2.392326</td>\n",
       "      <td>0.164403</td>\n",
       "      <td>MULTIPOLYGON (((-86.96336 33.85822, -86.95967 ...</td>\n",
       "    </tr>\n",
       "  </tbody>\n",
       "</table>\n",
       "<p>2 rows × 126 columns</p>\n",
       "</div>"
      ],
      "text/plain": [
       "   ST    STATE ST_ABBR   COUNTY   FIPS                 LOCATION   AREA_SQMI  \\\n",
       "1  01  ALABAMA      AL  Autauga  01001  Autauga County, Alabama  594.443459   \n",
       "2  01  ALABAMA      AL   Blount  01009   Blount County, Alabama  644.830460   \n",
       "\n",
       "   E_TOTPOP  M_TOTPOP   E_HU  ...  F_THEME4  F_TOTAL  E_UNINSUR  M_UNINSUR  \\\n",
       "1     55200         0  23315  ...         0        0       3875        508   \n",
       "2     57645         0  24222  ...         0        0       6303        732   \n",
       "\n",
       "   EP_UNINSUR  MP_UNINSUR  E_DAYPOP  Shape_Length  Shape_Area  \\\n",
       "1         7.1         0.9     37301      2.052740    0.150256   \n",
       "2        11.0         1.3     40036      2.392326    0.164403   \n",
       "\n",
       "                                            geometry  \n",
       "1  MULTIPOLYGON (((-86.92120 32.65754, -86.92035 ...  \n",
       "2  MULTIPOLYGON (((-86.96336 33.85822, -86.95967 ...  \n",
       "\n",
       "[2 rows x 126 columns]"
      ]
     },
     "execution_count": 8,
     "metadata": {},
     "output_type": "execute_result"
    }
   ],
   "source": [
    "svi.head(2)"
   ]
  },
  {
   "cell_type": "code",
   "execution_count": 9,
   "metadata": {},
   "outputs": [
    {
     "data": {
      "text/html": [
       "<div>\n",
       "<style scoped>\n",
       "    .dataframe tbody tr th:only-of-type {\n",
       "        vertical-align: middle;\n",
       "    }\n",
       "\n",
       "    .dataframe tbody tr th {\n",
       "        vertical-align: top;\n",
       "    }\n",
       "\n",
       "    .dataframe thead th {\n",
       "        text-align: right;\n",
       "    }\n",
       "</style>\n",
       "<table border=\"1\" class=\"dataframe\">\n",
       "  <thead>\n",
       "    <tr style=\"text-align: right;\">\n",
       "      <th></th>\n",
       "      <th>GEO ID</th>\n",
       "      <th>Narcotic Overdose Mortality Rate 2018</th>\n",
       "    </tr>\n",
       "  </thead>\n",
       "  <tbody>\n",
       "    <tr>\n",
       "      <th>0</th>\n",
       "      <td>01001</td>\n",
       "      <td>10.9</td>\n",
       "    </tr>\n",
       "    <tr>\n",
       "      <th>1</th>\n",
       "      <td>01003</td>\n",
       "      <td>14.9</td>\n",
       "    </tr>\n",
       "  </tbody>\n",
       "</table>\n",
       "</div>"
      ],
      "text/plain": [
       "  GEO ID  Narcotic Overdose Mortality Rate 2018\n",
       "0  01001                                   10.9\n",
       "1  01003                                   14.9"
      ]
     },
     "execution_count": 9,
     "metadata": {},
     "output_type": "execute_result"
    }
   ],
   "source": [
    "mortality.head(2)"
   ]
  },
  {
   "cell_type": "code",
   "execution_count": 10,
   "metadata": {},
   "outputs": [],
   "source": [
    "df = pd.merge(svi, mortality,left_on='FIPS', right_on='GEO ID', how='left')"
   ]
  },
  {
   "cell_type": "code",
   "execution_count": 11,
   "metadata": {},
   "outputs": [
    {
     "data": {
      "text/plain": [
       "(3141, 128)"
      ]
     },
     "execution_count": 11,
     "metadata": {},
     "output_type": "execute_result"
    }
   ],
   "source": [
    "df.shape"
   ]
  },
  {
   "cell_type": "code",
   "execution_count": 12,
   "metadata": {},
   "outputs": [
    {
     "data": {
      "text/html": [
       "<div>\n",
       "<style scoped>\n",
       "    .dataframe tbody tr th:only-of-type {\n",
       "        vertical-align: middle;\n",
       "    }\n",
       "\n",
       "    .dataframe tbody tr th {\n",
       "        vertical-align: top;\n",
       "    }\n",
       "\n",
       "    .dataframe thead th {\n",
       "        text-align: right;\n",
       "    }\n",
       "</style>\n",
       "<table border=\"1\" class=\"dataframe\">\n",
       "  <thead>\n",
       "    <tr style=\"text-align: right;\">\n",
       "      <th></th>\n",
       "      <th>ST</th>\n",
       "      <th>STATE</th>\n",
       "      <th>ST_ABBR</th>\n",
       "      <th>COUNTY</th>\n",
       "      <th>FIPS</th>\n",
       "      <th>LOCATION</th>\n",
       "      <th>AREA_SQMI</th>\n",
       "      <th>E_TOTPOP</th>\n",
       "      <th>M_TOTPOP</th>\n",
       "      <th>E_HU</th>\n",
       "      <th>...</th>\n",
       "      <th>E_UNINSUR</th>\n",
       "      <th>M_UNINSUR</th>\n",
       "      <th>EP_UNINSUR</th>\n",
       "      <th>MP_UNINSUR</th>\n",
       "      <th>E_DAYPOP</th>\n",
       "      <th>Shape_Length</th>\n",
       "      <th>Shape_Area</th>\n",
       "      <th>geometry</th>\n",
       "      <th>GEO ID</th>\n",
       "      <th>Narcotic Overdose Mortality Rate 2018</th>\n",
       "    </tr>\n",
       "  </thead>\n",
       "  <tbody>\n",
       "    <tr>\n",
       "      <th>0</th>\n",
       "      <td>01</td>\n",
       "      <td>ALABAMA</td>\n",
       "      <td>AL</td>\n",
       "      <td>Autauga</td>\n",
       "      <td>01001</td>\n",
       "      <td>Autauga County, Alabama</td>\n",
       "      <td>594.443459</td>\n",
       "      <td>55200</td>\n",
       "      <td>0</td>\n",
       "      <td>23315</td>\n",
       "      <td>...</td>\n",
       "      <td>3875</td>\n",
       "      <td>508</td>\n",
       "      <td>7.1</td>\n",
       "      <td>0.9</td>\n",
       "      <td>37301</td>\n",
       "      <td>2.052740</td>\n",
       "      <td>0.150256</td>\n",
       "      <td>MULTIPOLYGON (((-86.92120 32.65754, -86.92035 ...</td>\n",
       "      <td>01001</td>\n",
       "      <td>10.9</td>\n",
       "    </tr>\n",
       "    <tr>\n",
       "      <th>1</th>\n",
       "      <td>01</td>\n",
       "      <td>ALABAMA</td>\n",
       "      <td>AL</td>\n",
       "      <td>Blount</td>\n",
       "      <td>01009</td>\n",
       "      <td>Blount County, Alabama</td>\n",
       "      <td>644.830460</td>\n",
       "      <td>57645</td>\n",
       "      <td>0</td>\n",
       "      <td>24222</td>\n",
       "      <td>...</td>\n",
       "      <td>6303</td>\n",
       "      <td>732</td>\n",
       "      <td>11.0</td>\n",
       "      <td>1.3</td>\n",
       "      <td>40036</td>\n",
       "      <td>2.392326</td>\n",
       "      <td>0.164403</td>\n",
       "      <td>MULTIPOLYGON (((-86.96336 33.85822, -86.95967 ...</td>\n",
       "      <td>01009</td>\n",
       "      <td>19.9</td>\n",
       "    </tr>\n",
       "    <tr>\n",
       "      <th>2</th>\n",
       "      <td>01</td>\n",
       "      <td>ALABAMA</td>\n",
       "      <td>AL</td>\n",
       "      <td>Butler</td>\n",
       "      <td>01013</td>\n",
       "      <td>Butler County, Alabama</td>\n",
       "      <td>776.838201</td>\n",
       "      <td>20025</td>\n",
       "      <td>0</td>\n",
       "      <td>10026</td>\n",
       "      <td>...</td>\n",
       "      <td>2005</td>\n",
       "      <td>340</td>\n",
       "      <td>10.2</td>\n",
       "      <td>1.7</td>\n",
       "      <td>17280</td>\n",
       "      <td>1.818327</td>\n",
       "      <td>0.191747</td>\n",
       "      <td>MULTIPOLYGON (((-86.90894 31.96167, -86.87498 ...</td>\n",
       "      <td>01013</td>\n",
       "      <td>8.8</td>\n",
       "    </tr>\n",
       "  </tbody>\n",
       "</table>\n",
       "<p>3 rows × 128 columns</p>\n",
       "</div>"
      ],
      "text/plain": [
       "   ST    STATE ST_ABBR   COUNTY   FIPS                 LOCATION   AREA_SQMI  \\\n",
       "0  01  ALABAMA      AL  Autauga  01001  Autauga County, Alabama  594.443459   \n",
       "1  01  ALABAMA      AL   Blount  01009   Blount County, Alabama  644.830460   \n",
       "2  01  ALABAMA      AL   Butler  01013   Butler County, Alabama  776.838201   \n",
       "\n",
       "   E_TOTPOP  M_TOTPOP   E_HU  ...  E_UNINSUR  M_UNINSUR  EP_UNINSUR  \\\n",
       "0     55200         0  23315  ...       3875        508         7.1   \n",
       "1     57645         0  24222  ...       6303        732        11.0   \n",
       "2     20025         0  10026  ...       2005        340        10.2   \n",
       "\n",
       "   MP_UNINSUR  E_DAYPOP  Shape_Length  Shape_Area  \\\n",
       "0         0.9     37301      2.052740    0.150256   \n",
       "1         1.3     40036      2.392326    0.164403   \n",
       "2         1.7     17280      1.818327    0.191747   \n",
       "\n",
       "                                            geometry  GEO ID  \\\n",
       "0  MULTIPOLYGON (((-86.92120 32.65754, -86.92035 ...   01001   \n",
       "1  MULTIPOLYGON (((-86.96336 33.85822, -86.95967 ...   01009   \n",
       "2  MULTIPOLYGON (((-86.90894 31.96167, -86.87498 ...   01013   \n",
       "\n",
       "   Narcotic Overdose Mortality Rate 2018  \n",
       "0                                   10.9  \n",
       "1                                   19.9  \n",
       "2                                    8.8  \n",
       "\n",
       "[3 rows x 128 columns]"
      ]
     },
     "execution_count": 12,
     "metadata": {},
     "output_type": "execute_result"
    }
   ],
   "source": [
    "df.head(3)"
   ]
  },
  {
   "cell_type": "code",
   "execution_count": 13,
   "metadata": {},
   "outputs": [],
   "source": [
    "all_selected_columns = raw_variables + ['Narcotic Overdose Mortality Rate 2018', 'geometry','ST', 'FIPS','ST_ABBR','E_TOTPOP']"
   ]
  },
  {
   "cell_type": "code",
   "execution_count": 14,
   "metadata": {},
   "outputs": [],
   "source": [
    "# filter out the columns we need\n",
    "df = df[all_selected_columns]"
   ]
  },
  {
   "cell_type": "code",
   "execution_count": 15,
   "metadata": {},
   "outputs": [],
   "source": [
    "# rename col \"Narcotic Overdose Mortality Rate 2018\" to NOD\n",
    "df = df.rename(columns={\"Narcotic Overdose Mortality Rate 2018\": \"NOD\"})"
   ]
  },
  {
   "cell_type": "code",
   "execution_count": 16,
   "metadata": {},
   "outputs": [
    {
     "data": {
      "text/html": [
       "<div>\n",
       "<style scoped>\n",
       "    .dataframe tbody tr th:only-of-type {\n",
       "        vertical-align: middle;\n",
       "    }\n",
       "\n",
       "    .dataframe tbody tr th {\n",
       "        vertical-align: top;\n",
       "    }\n",
       "\n",
       "    .dataframe thead th {\n",
       "        text-align: right;\n",
       "    }\n",
       "</style>\n",
       "<table border=\"1\" class=\"dataframe\">\n",
       "  <thead>\n",
       "    <tr style=\"text-align: right;\">\n",
       "      <th></th>\n",
       "      <th>EP_POV</th>\n",
       "      <th>EP_UNEMP</th>\n",
       "      <th>EP_PCI</th>\n",
       "      <th>EP_NOHSDP</th>\n",
       "      <th>EP_UNINSUR</th>\n",
       "      <th>EP_AGE65</th>\n",
       "      <th>EP_AGE17</th>\n",
       "      <th>EP_DISABL</th>\n",
       "      <th>EP_SNGPNT</th>\n",
       "      <th>EP_LIMENG</th>\n",
       "      <th>...</th>\n",
       "      <th>EP_MOBILE</th>\n",
       "      <th>EP_CROWD</th>\n",
       "      <th>EP_NOVEH</th>\n",
       "      <th>EP_GROUPQ</th>\n",
       "      <th>NOD</th>\n",
       "      <th>geometry</th>\n",
       "      <th>ST</th>\n",
       "      <th>FIPS</th>\n",
       "      <th>ST_ABBR</th>\n",
       "      <th>E_TOTPOP</th>\n",
       "    </tr>\n",
       "  </thead>\n",
       "  <tbody>\n",
       "    <tr>\n",
       "      <th>0</th>\n",
       "      <td>15.4</td>\n",
       "      <td>4.2</td>\n",
       "      <td>29372.0</td>\n",
       "      <td>11.3</td>\n",
       "      <td>7.1</td>\n",
       "      <td>14.6</td>\n",
       "      <td>24.2</td>\n",
       "      <td>19.3</td>\n",
       "      <td>7.5</td>\n",
       "      <td>0.8</td>\n",
       "      <td>...</td>\n",
       "      <td>18.4</td>\n",
       "      <td>1.4</td>\n",
       "      <td>5.6</td>\n",
       "      <td>1.0</td>\n",
       "      <td>10.9</td>\n",
       "      <td>MULTIPOLYGON (((-86.92120 32.65754, -86.92035 ...</td>\n",
       "      <td>01</td>\n",
       "      <td>01001</td>\n",
       "      <td>AL</td>\n",
       "      <td>55200</td>\n",
       "    </tr>\n",
       "    <tr>\n",
       "      <th>1</th>\n",
       "      <td>14.4</td>\n",
       "      <td>4.1</td>\n",
       "      <td>22656.0</td>\n",
       "      <td>19.8</td>\n",
       "      <td>11.0</td>\n",
       "      <td>17.8</td>\n",
       "      <td>23.4</td>\n",
       "      <td>14.2</td>\n",
       "      <td>7.0</td>\n",
       "      <td>1.7</td>\n",
       "      <td>...</td>\n",
       "      <td>25.2</td>\n",
       "      <td>1.6</td>\n",
       "      <td>4.2</td>\n",
       "      <td>0.9</td>\n",
       "      <td>19.9</td>\n",
       "      <td>MULTIPOLYGON (((-86.96336 33.85822, -86.95967 ...</td>\n",
       "      <td>01</td>\n",
       "      <td>01009</td>\n",
       "      <td>AL</td>\n",
       "      <td>57645</td>\n",
       "    </tr>\n",
       "    <tr>\n",
       "      <th>2</th>\n",
       "      <td>23.5</td>\n",
       "      <td>6.7</td>\n",
       "      <td>20430.0</td>\n",
       "      <td>15.4</td>\n",
       "      <td>10.2</td>\n",
       "      <td>19.0</td>\n",
       "      <td>22.8</td>\n",
       "      <td>17.7</td>\n",
       "      <td>10.5</td>\n",
       "      <td>0.5</td>\n",
       "      <td>...</td>\n",
       "      <td>26.2</td>\n",
       "      <td>1.8</td>\n",
       "      <td>7.8</td>\n",
       "      <td>1.6</td>\n",
       "      <td>8.8</td>\n",
       "      <td>MULTIPOLYGON (((-86.90894 31.96167, -86.87498 ...</td>\n",
       "      <td>01</td>\n",
       "      <td>01013</td>\n",
       "      <td>AL</td>\n",
       "      <td>20025</td>\n",
       "    </tr>\n",
       "  </tbody>\n",
       "</table>\n",
       "<p>3 rows × 22 columns</p>\n",
       "</div>"
      ],
      "text/plain": [
       "   EP_POV  EP_UNEMP   EP_PCI  EP_NOHSDP  EP_UNINSUR  EP_AGE65  EP_AGE17  \\\n",
       "0    15.4       4.2  29372.0       11.3         7.1      14.6      24.2   \n",
       "1    14.4       4.1  22656.0       19.8        11.0      17.8      23.4   \n",
       "2    23.5       6.7  20430.0       15.4        10.2      19.0      22.8   \n",
       "\n",
       "   EP_DISABL  EP_SNGPNT  EP_LIMENG  ...  EP_MOBILE  EP_CROWD  EP_NOVEH  \\\n",
       "0       19.3        7.5        0.8  ...       18.4       1.4       5.6   \n",
       "1       14.2        7.0        1.7  ...       25.2       1.6       4.2   \n",
       "2       17.7       10.5        0.5  ...       26.2       1.8       7.8   \n",
       "\n",
       "   EP_GROUPQ   NOD                                           geometry  ST  \\\n",
       "0        1.0  10.9  MULTIPOLYGON (((-86.92120 32.65754, -86.92035 ...  01   \n",
       "1        0.9  19.9  MULTIPOLYGON (((-86.96336 33.85822, -86.95967 ...  01   \n",
       "2        1.6   8.8  MULTIPOLYGON (((-86.90894 31.96167, -86.87498 ...  01   \n",
       "\n",
       "    FIPS ST_ABBR E_TOTPOP  \n",
       "0  01001      AL    55200  \n",
       "1  01009      AL    57645  \n",
       "2  01013      AL    20025  \n",
       "\n",
       "[3 rows x 22 columns]"
      ]
     },
     "execution_count": 16,
     "metadata": {},
     "output_type": "execute_result"
    }
   ],
   "source": [
    "df.head(3)"
   ]
  },
  {
   "cell_type": "code",
   "execution_count": 17,
   "metadata": {},
   "outputs": [],
   "source": [
    "gdf = gpd.GeoDataFrame(df, geometry='geometry')"
   ]
  },
  {
   "cell_type": "code",
   "execution_count": 18,
   "metadata": {},
   "outputs": [],
   "source": [
    "output_path = '/home/h6x/git_projects/universal-experiment-lab/experiment_2_bym_modeling/bym_svi_opioid_data/county_svi_county_mortality/svi_mortality_2018.shp'"
   ]
  },
  {
   "cell_type": "code",
   "execution_count": 19,
   "metadata": {},
   "outputs": [],
   "source": [
    "gdf.to_file(output_path, driver='ESRI Shapefile')"
   ]
  },
  {
   "cell_type": "code",
   "execution_count": null,
   "metadata": {},
   "outputs": [],
   "source": []
  },
  {
   "cell_type": "code",
   "execution_count": null,
   "metadata": {},
   "outputs": [],
   "source": []
  },
  {
   "cell_type": "code",
   "execution_count": null,
   "metadata": {},
   "outputs": [],
   "source": []
  },
  {
   "cell_type": "code",
   "execution_count": null,
   "metadata": {},
   "outputs": [],
   "source": []
  }
 ],
 "metadata": {
  "kernelspec": {
   "display_name": "pytorch_env",
   "language": "python",
   "name": "python3"
  },
  "language_info": {
   "codemirror_mode": {
    "name": "ipython",
    "version": 3
   },
   "file_extension": ".py",
   "mimetype": "text/x-python",
   "name": "python",
   "nbconvert_exporter": "python",
   "pygments_lexer": "ipython3",
   "version": "3.12.3"
  }
 },
 "nbformat": 4,
 "nbformat_minor": 2
}
