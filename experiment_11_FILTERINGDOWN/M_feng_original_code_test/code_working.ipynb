{
 "cells": [
  {
   "cell_type": "markdown",
   "metadata": {},
   "source": [
    "### Testing the feng code with test precinct data"
   ]
  },
  {
   "cell_type": "markdown",
   "metadata": {},
   "source": [
    "https://github.com/mhcfeng/precinct"
   ]
  },
  {
   "cell_type": "code",
   "execution_count": 11,
   "metadata": {},
   "outputs": [],
   "source": [
    "import numpy as np\n"
   ]
  },
  {
   "cell_type": "code",
   "execution_count": 1,
   "metadata": {},
   "outputs": [],
   "source": [
    "# lower_neighbors: This function takes a list of adjacencies and a vertex as input and returns a list of neighbors that have a lower index than the given vertex.\n",
    "def lower_neighbors(adjacencies, vertex):\n",
    "    return [v for v in adjacencies[vertex] if v < vertex]"
   ]
  },
  {
   "cell_type": "code",
   "execution_count": 3,
   "metadata": {},
   "outputs": [],
   "source": [
    "def incremental_vr(V, adjacencies, maxDimension):\n",
    "    Vnew = list(V)\n",
    "    for vertex in np.arange(len(adjacencies)):\n",
    "        N = sorted(lower_neighbors(adjacencies, vertex))\n",
    "        add_cofaces(adjacencies, maxDimension, [vertex], N, Vnew)\n",
    "    return Vnew"
   ]
  },
  {
   "cell_type": "code",
   "execution_count": 4,
   "metadata": {},
   "outputs": [],
   "source": [
    "#add_cofaces: This function is a recursive helper function used by incremental_vr to add cofaces to the VR complex. \n",
    "# It checks if a face (a simplex) is not already in the list V, and if it is not, it appends it. \n",
    "# Then, it recursively adds cofaces by extending the face with neighbors from the lower neighbors.\n",
    "\n",
    "def add_cofaces(adjacencies, maxDimension, face, N, V):\n",
    "    if sorted(face) not in V:\n",
    "        V.append(sorted(face))\n",
    "    if len(face) >= maxDimension:\n",
    "        return\n",
    "    else:\n",
    "        for vertex in N:\n",
    "            coface = list(face)\n",
    "            coface.append(vertex)\n",
    "            M = list(set(N) & set(lower_neighbors(adjacencies, vertex)))\n",
    "            add_cofaces(adjacencies, maxDimension, coface, M, V)"
   ]
  },
  {
   "cell_type": "code",
   "execution_count": 5,
   "metadata": {},
   "outputs": [],
   "source": [
    "def replace_face(V):\n",
    "    Vnew = []\n",
    "    for face in V:\n",
    "        if len(face) == 1:\n",
    "            Vnew.append([len(Vnew)])\n",
    "        else:\n",
    "            Vnew_face = []\n",
    "            for vertexIdx in np.arange(len(face)):\n",
    "                subface = list(face)\n",
    "                subface.pop(vertexIdx)\n",
    "                subfaceIdx = V.index(subface)\n",
    "                Vnew_face.append(subfaceIdx)\n",
    "            Vnew.append(sorted(Vnew_face))\n",
    "    return Vnew"
   ]
  },
  {
   "cell_type": "code",
   "execution_count": null,
   "metadata": {},
   "outputs": [],
   "source": []
  },
  {
   "cell_type": "markdown",
   "metadata": {},
   "source": [
    "#### Now let's create the test data"
   ]
  },
  {
   "cell_type": "code",
   "execution_count": 6,
   "metadata": {},
   "outputs": [],
   "source": [
    "precinct_list = [\n",
    "    [0, [1, 2, 3], \"0.75\"],\n",
    "    [1, [0, 2], \"0.5\"],\n",
    "    [2, [0, 1, 3], \"0.9\"],\n",
    "    [3, [0, 2], \"0.6\"]\n",
    "]"
   ]
  },
  {
   "cell_type": "markdown",
   "metadata": {},
   "source": [
    "#### Computing the form_simplicial_complex method step by step"
   ]
  },
  {
   "cell_type": "code",
   "execution_count": 7,
   "metadata": {},
   "outputs": [],
   "source": [
    "adjacencies = list(map(lambda m: m[1], precinct_list))"
   ]
  },
  {
   "cell_type": "markdown",
   "metadata": {},
   "source": [
    "###### map(lambda m: m[1], precinct_list): This part applies the lambda function to each element (m) in precinct_list and extracts the second element (index 1) from each sublist. In this case, it's the list of neighboring precincts"
   ]
  },
  {
   "cell_type": "code",
   "execution_count": 8,
   "metadata": {},
   "outputs": [
    {
     "data": {
      "text/plain": [
       "[[1, 2, 3], [0, 2], [0, 1, 3], [0, 2]]"
      ]
     },
     "execution_count": 8,
     "metadata": {},
     "output_type": "execute_result"
    }
   ],
   "source": [
    "adjacencies"
   ]
  },
  {
   "cell_type": "code",
   "execution_count": 12,
   "metadata": {},
   "outputs": [],
   "source": [
    "preferences = np.asarray(list(map(lambda m: float(m[2]), precinct_list)))"
   ]
  },
  {
   "cell_type": "code",
   "execution_count": 14,
   "metadata": {},
   "outputs": [
    {
     "data": {
      "text/plain": [
       "array([0.75, 0.5 , 0.9 , 0.6 ])"
      ]
     },
     "execution_count": 14,
     "metadata": {},
     "output_type": "execute_result"
    }
   ],
   "source": [
    "preferences"
   ]
  },
  {
   "cell_type": "markdown",
   "metadata": {},
   "source": [
    "### Incremental algorithm"
   ]
  },
  {
   "cell_type": "code",
   "execution_count": 10,
   "metadata": {},
   "outputs": [],
   "source": [
    "V = []"
   ]
  },
  {
   "cell_type": "code",
   "execution_count": 11,
   "metadata": {},
   "outputs": [],
   "source": [
    "V = incremental_vr(V, adjacencies, 3)"
   ]
  },
  {
   "cell_type": "code",
   "execution_count": 12,
   "metadata": {},
   "outputs": [
    {
     "data": {
      "text/plain": [
       "[[0],\n",
       " [1],\n",
       " [0, 1],\n",
       " [2],\n",
       " [0, 2],\n",
       " [1, 2],\n",
       " [0, 1, 2],\n",
       " [3],\n",
       " [0, 3],\n",
       " [2, 3],\n",
       " [0, 2, 3]]"
      ]
     },
     "execution_count": 12,
     "metadata": {},
     "output_type": "execute_result"
    }
   ],
   "source": [
    "V"
   ]
  },
  {
   "cell_type": "code",
   "execution_count": 59,
   "metadata": {},
   "outputs": [
    {
     "data": {
      "text/plain": [
       "[[1, 2, 3], [0, 2], [0, 1, 3], [0, 2]]"
      ]
     },
     "execution_count": 59,
     "metadata": {},
     "output_type": "execute_result"
    }
   ],
   "source": [
    "adjacencies"
   ]
  },
  {
   "cell_type": "code",
   "execution_count": 69,
   "metadata": {},
   "outputs": [
    {
     "data": {
      "text/plain": [
       "[0, 2]"
      ]
     },
     "execution_count": 69,
     "metadata": {},
     "output_type": "execute_result"
    }
   ],
   "source": [
    "vertex = 3\n",
    "[v for v in adjacencies[vertex] if v < vertex]"
   ]
  },
  {
   "cell_type": "code",
   "execution_count": 70,
   "metadata": {},
   "outputs": [],
   "source": [
    "# def incremental_vr(V, adjacencies, maxDimension):\n",
    "#     Vnew = list(V)\n",
    "#     for vertex in np.arange(len(adjacencies)):\n",
    "#         N = sorted(lower_neighbors(adjacencies, vertex))\n",
    "#         add_cofaces(adjacencies, maxDimension, [vertex], N, Vnew)\n",
    "#     return Vnew"
   ]
  },
  {
   "cell_type": "code",
   "execution_count": 71,
   "metadata": {},
   "outputs": [
    {
     "name": "stdout",
     "output_type": "stream",
     "text": [
      "0\n",
      "[]\n",
      "1\n",
      "[0]\n",
      "2\n",
      "[0, 1]\n",
      "3\n",
      "[0, 2]\n"
     ]
    }
   ],
   "source": [
    "Vnew = list(V)\n",
    "\n",
    "for vertex in np.arange(len(adjacencies)):\n",
    "        print(vertex)\n",
    "        N = sorted(lower_neighbors(adjacencies, vertex))\n",
    "        print(N)\n"
   ]
  },
  {
   "cell_type": "code",
   "execution_count": 73,
   "metadata": {},
   "outputs": [],
   "source": [
    "# def incremental_vr(V, adjacencies, maxDimension):\n",
    "#     Vnew = list(V)\n",
    "#     for vertex in np.arange(len(adjacencies)):\n",
    "#         N = sorted(lower_neighbors(adjacencies, vertex))\n",
    "#         add_cofaces(adjacencies, maxDimension, [vertex], N, Vnew)\n",
    "#     return Vnew"
   ]
  },
  {
   "cell_type": "code",
   "execution_count": 72,
   "metadata": {},
   "outputs": [],
   "source": [
    "# def add_cofaces(adjacencies, maxDimension, face, N, V):\n",
    "#     if sorted(face) not in V:\n",
    "#         V.append(sorted(face))\n",
    "#     if len(face) >= maxDimension:\n",
    "#         return\n",
    "#     else:\n",
    "#         for vertex in N:\n",
    "#             coface = list(face)\n",
    "#             coface.append(vertex)\n",
    "#             M = list(set(N) & set(lower_neighbors(adjacencies, vertex)))\n",
    "#             add_cofaces(adjacencies, maxDimension, coface, M, V)"
   ]
  },
  {
   "cell_type": "code",
   "execution_count": 87,
   "metadata": {},
   "outputs": [],
   "source": [
    "#add_cofaces: This function is a recursive helper function used by incremental_vr to add cofaces to the VR complex. \n",
    "# It checks if a face (a simplex) is not already in the list V, and if it is not, it appends it. \n",
    "# Then, it recursively adds cofaces by extending the face with neighbors from the lower neighbors.\n"
   ]
  },
  {
   "cell_type": "code",
   "execution_count": 77,
   "metadata": {},
   "outputs": [
    {
     "data": {
      "text/plain": [
       "[[1, 2, 3], [0, 2], [0, 1, 3], [0, 2]]"
      ]
     },
     "execution_count": 77,
     "metadata": {},
     "output_type": "execute_result"
    }
   ],
   "source": [
    "adjacencies"
   ]
  },
  {
   "cell_type": "code",
   "execution_count": 90,
   "metadata": {},
   "outputs": [],
   "source": [
    "maxDimension = 3"
   ]
  },
  {
   "cell_type": "code",
   "execution_count": 91,
   "metadata": {},
   "outputs": [],
   "source": [
    "V = []"
   ]
  },
  {
   "cell_type": "code",
   "execution_count": 92,
   "metadata": {},
   "outputs": [],
   "source": [
    "Vnew = list(V)"
   ]
  },
  {
   "cell_type": "code",
   "execution_count": 93,
   "metadata": {},
   "outputs": [
    {
     "data": {
      "text/plain": [
       "[]"
      ]
     },
     "execution_count": 93,
     "metadata": {},
     "output_type": "execute_result"
    }
   ],
   "source": [
    "Vnew"
   ]
  },
  {
   "cell_type": "code",
   "execution_count": 94,
   "metadata": {},
   "outputs": [],
   "source": [
    "# ------------ above code only run one time -----------------"
   ]
  },
  {
   "cell_type": "code",
   "execution_count": 102,
   "metadata": {},
   "outputs": [],
   "source": [
    "vertex = 1"
   ]
  },
  {
   "cell_type": "code",
   "execution_count": 103,
   "metadata": {},
   "outputs": [],
   "source": [
    "N = sorted(lower_neighbors(adjacencies, vertex))"
   ]
  },
  {
   "cell_type": "code",
   "execution_count": 104,
   "metadata": {},
   "outputs": [
    {
     "data": {
      "text/plain": [
       "[0]"
      ]
     },
     "execution_count": 104,
     "metadata": {},
     "output_type": "execute_result"
    }
   ],
   "source": [
    "N"
   ]
  },
  {
   "cell_type": "code",
   "execution_count": 105,
   "metadata": {},
   "outputs": [],
   "source": [
    "face = [vertex]"
   ]
  },
  {
   "cell_type": "code",
   "execution_count": 106,
   "metadata": {},
   "outputs": [
    {
     "data": {
      "text/plain": [
       "[1]"
      ]
     },
     "execution_count": 106,
     "metadata": {},
     "output_type": "execute_result"
    }
   ],
   "source": [
    "face"
   ]
  },
  {
   "cell_type": "code",
   "execution_count": 107,
   "metadata": {},
   "outputs": [],
   "source": [
    "if sorted(face) not in V:\n",
    "    V.append(sorted(face))"
   ]
  },
  {
   "cell_type": "code",
   "execution_count": 108,
   "metadata": {},
   "outputs": [
    {
     "data": {
      "text/plain": [
       "[[0], [1]]"
      ]
     },
     "execution_count": 108,
     "metadata": {},
     "output_type": "execute_result"
    }
   ],
   "source": [
    "V"
   ]
  },
  {
   "cell_type": "code",
   "execution_count": 111,
   "metadata": {},
   "outputs": [
    {
     "name": "stdout",
     "output_type": "stream",
     "text": [
      "[]\n"
     ]
    }
   ],
   "source": [
    "if len(face) >= maxDimension:\n",
    "    print(\"return\")\n",
    "else:\n",
    "    for vertex in N:\n",
    "        coface = list(face)\n",
    "        coface.append(vertex)\n",
    "        M = list(set(N) & set(lower_neighbors(adjacencies, vertex)))\n",
    "        print(M)\n",
    "        # add_cofaces(adjacencies, maxDimension, coface, M, V)"
   ]
  },
  {
   "cell_type": "code",
   "execution_count": 110,
   "metadata": {},
   "outputs": [
    {
     "data": {
      "text/plain": [
       "array([0, 1, 2, 3])"
      ]
     },
     "execution_count": 110,
     "metadata": {},
     "output_type": "execute_result"
    }
   ],
   "source": [
    "np.arange(4)"
   ]
  },
  {
   "cell_type": "code",
   "execution_count": 15,
   "metadata": {},
   "outputs": [
    {
     "data": {
      "text/plain": [
       "array([0.75, 0.5 , 0.9 , 0.6 ])"
      ]
     },
     "execution_count": 15,
     "metadata": {},
     "output_type": "execute_result"
    }
   ],
   "source": [
    "preferences"
   ]
  },
  {
   "cell_type": "code",
   "execution_count": 17,
   "metadata": {},
   "outputs": [
    {
     "data": {
      "text/plain": [
       "array([0., 0., 0., 0.])"
      ]
     },
     "execution_count": 17,
     "metadata": {},
     "output_type": "execute_result"
    }
   ],
   "source": [
    "np.floor((1 - np.abs(preferences)))"
   ]
  },
  {
   "cell_type": "code",
   "execution_count": 14,
   "metadata": {},
   "outputs": [],
   "source": [
    "entryTimes = np.floor((1 - np.abs(preferences)) * 100 / 5)"
   ]
  },
  {
   "cell_type": "code",
   "execution_count": 15,
   "metadata": {},
   "outputs": [
    {
     "data": {
      "text/plain": [
       "array([ 5., 10.,  1.,  8.])"
      ]
     },
     "execution_count": 15,
     "metadata": {},
     "output_type": "execute_result"
    }
   ],
   "source": [
    "entryTimes"
   ]
  },
  {
   "cell_type": "code",
   "execution_count": 16,
   "metadata": {},
   "outputs": [],
   "source": [
    "entryTimesSub = [entryTimes[max(simplex) - 1] for simplex in V]"
   ]
  },
  {
   "cell_type": "code",
   "execution_count": 17,
   "metadata": {},
   "outputs": [
    {
     "data": {
      "text/plain": [
       "[8.0, 5.0, 5.0, 10.0, 10.0, 10.0, 10.0, 1.0, 1.0, 1.0, 1.0]"
      ]
     },
     "execution_count": 17,
     "metadata": {},
     "output_type": "execute_result"
    }
   ],
   "source": [
    "entryTimesSub"
   ]
  },
  {
   "cell_type": "code",
   "execution_count": 18,
   "metadata": {},
   "outputs": [],
   "source": [
    "phatFormatV = replace_face(V)"
   ]
  },
  {
   "cell_type": "code",
   "execution_count": 19,
   "metadata": {},
   "outputs": [
    {
     "data": {
      "text/plain": [
       "[[0],\n",
       " [1],\n",
       " [0, 1],\n",
       " [3],\n",
       " [0, 3],\n",
       " [1, 3],\n",
       " [2, 4, 5],\n",
       " [7],\n",
       " [0, 7],\n",
       " [3, 7],\n",
       " [4, 8, 9]]"
      ]
     },
     "execution_count": 19,
     "metadata": {},
     "output_type": "execute_result"
    }
   ],
   "source": [
    "phatFormatV"
   ]
  },
  {
   "cell_type": "code",
   "execution_count": null,
   "metadata": {},
   "outputs": [],
   "source": []
  }
 ],
 "metadata": {
  "kernelspec": {
   "display_name": "TDA",
   "language": "python",
   "name": "python3"
  },
  "language_info": {
   "codemirror_mode": {
    "name": "ipython",
    "version": 3
   },
   "file_extension": ".py",
   "mimetype": "text/x-python",
   "name": "python",
   "nbconvert_exporter": "python",
   "pygments_lexer": "ipython3",
   "version": "3.11.4"
  }
 },
 "nbformat": 4,
 "nbformat_minor": 2
}
