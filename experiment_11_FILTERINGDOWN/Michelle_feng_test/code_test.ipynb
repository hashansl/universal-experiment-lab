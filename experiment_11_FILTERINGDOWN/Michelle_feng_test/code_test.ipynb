{
 "cells": [
  {
   "cell_type": "code",
   "execution_count": 2,
   "metadata": {},
   "outputs": [],
   "source": [
    "import csv\n",
    "import numpy as np\n",
    "import time\n",
    "import geopandas as gdp"
   ]
  },
  {
   "cell_type": "markdown",
   "metadata": {},
   "source": []
  },
  {
   "cell_type": "code",
   "execution_count": 3,
   "metadata": {},
   "outputs": [],
   "source": [
    "# import shapefile to a df\n",
    "df = gdp.read_file('./data/custom_shp/testwithlowandgreater.shp')"
   ]
  },
  {
   "cell_type": "code",
   "execution_count": 5,
   "metadata": {},
   "outputs": [
    {
     "data": {
      "text/html": [
       "<div>\n",
       "<style scoped>\n",
       "    .dataframe tbody tr th:only-of-type {\n",
       "        vertical-align: middle;\n",
       "    }\n",
       "\n",
       "    .dataframe tbody tr th {\n",
       "        vertical-align: top;\n",
       "    }\n",
       "\n",
       "    .dataframe thead th {\n",
       "        text-align: right;\n",
       "    }\n",
       "</style>\n",
       "<table border=\"1\" class=\"dataframe\">\n",
       "  <thead>\n",
       "    <tr style=\"text-align: right;\">\n",
       "      <th></th>\n",
       "      <th>STATE</th>\n",
       "      <th>ST_ABBR</th>\n",
       "      <th>COUNTY</th>\n",
       "      <th>Av_MP_ASIA</th>\n",
       "      <th>Av_E_DAYPO</th>\n",
       "      <th>Av_MP_NOIN</th>\n",
       "      <th>Av_RPL_THE</th>\n",
       "      <th>Hill%</th>\n",
       "      <th>isHill</th>\n",
       "      <th>isHill_1</th>\n",
       "      <th>isHill_2</th>\n",
       "      <th>geometry</th>\n",
       "    </tr>\n",
       "  </thead>\n",
       "  <tbody>\n",
       "    <tr>\n",
       "      <th>0</th>\n",
       "      <td>West Virginia</td>\n",
       "      <td>WV</td>\n",
       "      <td>Jefferson</td>\n",
       "      <td>1.300000</td>\n",
       "      <td>3071.866667</td>\n",
       "      <td>3.693333</td>\n",
       "      <td>0.385180</td>\n",
       "      <td>1.0</td>\n",
       "      <td>255</td>\n",
       "      <td>NaN</td>\n",
       "      <td>NaN</td>\n",
       "      <td>POLYGON ((-78.03541 39.27841, -78.03526 39.278...</td>\n",
       "    </tr>\n",
       "    <tr>\n",
       "      <th>1</th>\n",
       "      <td>Maryland</td>\n",
       "      <td>MD</td>\n",
       "      <td>Calvert</td>\n",
       "      <td>1.844444</td>\n",
       "      <td>3757.833333</td>\n",
       "      <td>0.877778</td>\n",
       "      <td>0.187789</td>\n",
       "      <td>-1.0</td>\n",
       "      <td>0</td>\n",
       "      <td>NaN</td>\n",
       "      <td>NaN</td>\n",
       "      <td>POLYGON ((-76.56813 38.40771, -76.57181 38.408...</td>\n",
       "    </tr>\n",
       "    <tr>\n",
       "      <th>2</th>\n",
       "      <td>Maryland</td>\n",
       "      <td>MD</td>\n",
       "      <td>Prince George's</td>\n",
       "      <td>2.563084</td>\n",
       "      <td>3670.280374</td>\n",
       "      <td>2.721028</td>\n",
       "      <td>0.559070</td>\n",
       "      <td>1.0</td>\n",
       "      <td>255</td>\n",
       "      <td>NaN</td>\n",
       "      <td>NaN</td>\n",
       "      <td>POLYGON ((-77.04202 38.74672, -77.04191 38.750...</td>\n",
       "    </tr>\n",
       "    <tr>\n",
       "      <th>3</th>\n",
       "      <td>Maryland</td>\n",
       "      <td>MD</td>\n",
       "      <td>Charles</td>\n",
       "      <td>2.167647</td>\n",
       "      <td>3611.647059</td>\n",
       "      <td>3.705882</td>\n",
       "      <td>0.286532</td>\n",
       "      <td>-1.0</td>\n",
       "      <td>0</td>\n",
       "      <td>NaN</td>\n",
       "      <td>NaN</td>\n",
       "      <td>POLYGON ((-77.25505 38.56524, -77.25442 38.567...</td>\n",
       "    </tr>\n",
       "    <tr>\n",
       "      <th>4</th>\n",
       "      <td>Maryland</td>\n",
       "      <td>MD</td>\n",
       "      <td>Frederick</td>\n",
       "      <td>2.450769</td>\n",
       "      <td>3817.646154</td>\n",
       "      <td>2.730769</td>\n",
       "      <td>0.268363</td>\n",
       "      <td>-1.0</td>\n",
       "      <td>0</td>\n",
       "      <td>NaN</td>\n",
       "      <td>NaN</td>\n",
       "      <td>POLYGON ((-77.62017 39.48470, -77.61951 39.485...</td>\n",
       "    </tr>\n",
       "  </tbody>\n",
       "</table>\n",
       "</div>"
      ],
      "text/plain": [
       "           STATE ST_ABBR           COUNTY  Av_MP_ASIA   Av_E_DAYPO  \\\n",
       "0  West Virginia      WV        Jefferson    1.300000  3071.866667   \n",
       "1       Maryland      MD          Calvert    1.844444  3757.833333   \n",
       "2       Maryland      MD  Prince George's    2.563084  3670.280374   \n",
       "3       Maryland      MD          Charles    2.167647  3611.647059   \n",
       "4       Maryland      MD        Frederick    2.450769  3817.646154   \n",
       "\n",
       "   Av_MP_NOIN  Av_RPL_THE  Hill%  isHill  isHill_1  isHill_2  \\\n",
       "0    3.693333    0.385180    1.0     255       NaN       NaN   \n",
       "1    0.877778    0.187789   -1.0       0       NaN       NaN   \n",
       "2    2.721028    0.559070    1.0     255       NaN       NaN   \n",
       "3    3.705882    0.286532   -1.0       0       NaN       NaN   \n",
       "4    2.730769    0.268363   -1.0       0       NaN       NaN   \n",
       "\n",
       "                                            geometry  \n",
       "0  POLYGON ((-78.03541 39.27841, -78.03526 39.278...  \n",
       "1  POLYGON ((-76.56813 38.40771, -76.57181 38.408...  \n",
       "2  POLYGON ((-77.04202 38.74672, -77.04191 38.750...  \n",
       "3  POLYGON ((-77.25505 38.56524, -77.25442 38.567...  \n",
       "4  POLYGON ((-77.62017 39.48470, -77.61951 39.485...  "
      ]
     },
     "execution_count": 5,
     "metadata": {},
     "output_type": "execute_result"
    }
   ],
   "source": [
    "df.head()"
   ]
  },
  {
   "cell_type": "code",
   "execution_count": 11,
   "metadata": {},
   "outputs": [
    {
     "data": {
      "text/plain": [
       "25"
      ]
     },
     "execution_count": 11,
     "metadata": {},
     "output_type": "execute_result"
    }
   ],
   "source": [
    "len(df)"
   ]
  },
  {
   "cell_type": "code",
   "execution_count": 6,
   "metadata": {},
   "outputs": [],
   "source": [
    "def split_precincts(county_csv, split_key, header=True):\n",
    "    hillary_list = []\n",
    "    trump_list = []\n",
    "    with open(county_csv) as file:\n",
    "        csv_reader = csv.reader(file)\n",
    "        if header:\n",
    "            next(csv_reader)\n",
    "\n",
    "        for line in csv_reader:\n",
    "            if float(line[split_key]) > 0:\n",
    "                hillary_list.append(line)\n",
    "            elif float(line[split_key]) < 0:\n",
    "                trump_list.append(line)\n",
    "\n",
    "    hillary_list.sort(key=lambda x: float(x[split_key]), reverse=True)\n",
    "    trump_list.sort(key=lambda x: float(x[split_key]))\n",
    "    return hillary_list, trump_list"
   ]
  },
  {
   "cell_type": "code",
   "execution_count": null,
   "metadata": {},
   "outputs": [],
   "source": [
    "split_precincts(df)"
   ]
  },
  {
   "cell_type": "code",
   "execution_count": 23,
   "metadata": {},
   "outputs": [],
   "source": [
    "# modified split precincts function"
   ]
  },
  {
   "cell_type": "code",
   "execution_count": 42,
   "metadata": {},
   "outputs": [],
   "source": [
    "import pandas as pd\n",
    "\n",
    "def split_precincts(df, split_key):\n",
    "    hillary_list = []\n",
    "    trump_list = []\n",
    "\n",
    "    for index, row in df.iterrows():\n",
    "        if float(row[split_key]) > 0:\n",
    "            hillary_list.append(row)\n",
    "        elif float(row[split_key]) < 0:\n",
    "            trump_list.append(row)\n",
    "\n",
    "    hillary_list.sort(key=lambda x: float(x[split_key]), reverse=True)\n",
    "    trump_list.sort(key=lambda x: float(x[split_key]))\n",
    "\n",
    "    return pd.DataFrame(hillary_list), pd.DataFrame(trump_list), hillary_list, trump_list"
   ]
  },
  {
   "cell_type": "code",
   "execution_count": 43,
   "metadata": {},
   "outputs": [],
   "source": [
    "h_l,t_l,h_df, t_df = split_precincts(df, 'Hill%')"
   ]
  },
  {
   "cell_type": "code",
   "execution_count": 18,
   "metadata": {},
   "outputs": [
    {
     "data": {
      "text/plain": [
       "12"
      ]
     },
     "execution_count": 18,
     "metadata": {},
     "output_type": "execute_result"
    }
   ],
   "source": [
    "len(h_df)"
   ]
  },
  {
   "cell_type": "code",
   "execution_count": 38,
   "metadata": {},
   "outputs": [
    {
     "data": {
      "text/plain": [
       "Int64Index([0, 2, 5, 8, 9, 12, 13, 14, 19, 21, 22, 24], dtype='int64')"
      ]
     },
     "execution_count": 38,
     "metadata": {},
     "output_type": "execute_result"
    }
   ],
   "source": [
    "h_l['COUNTY'].index"
   ]
  },
  {
   "cell_type": "code",
   "execution_count": 39,
   "metadata": {},
   "outputs": [],
   "source": [
    "county_list = h_l['COUNTY'].index.tolist()\n"
   ]
  },
  {
   "cell_type": "code",
   "execution_count": 40,
   "metadata": {},
   "outputs": [
    {
     "data": {
      "text/plain": [
       "[0, 2, 5, 8, 9, 12, 13, 14, 19, 21, 22, 24]"
      ]
     },
     "execution_count": 40,
     "metadata": {},
     "output_type": "execute_result"
    }
   ],
   "source": [
    "county_list"
   ]
  },
  {
   "cell_type": "code",
   "execution_count": 19,
   "metadata": {},
   "outputs": [
    {
     "data": {
      "text/plain": [
       "13"
      ]
     },
     "execution_count": 19,
     "metadata": {},
     "output_type": "execute_result"
    }
   ],
   "source": [
    "len(t_df)"
   ]
  },
  {
   "cell_type": "code",
   "execution_count": 22,
   "metadata": {},
   "outputs": [
    {
     "data": {
      "text/plain": [
       "pandas.core.frame.DataFrame"
      ]
     },
     "execution_count": 22,
     "metadata": {},
     "output_type": "execute_result"
    }
   ],
   "source": [
    "type(h_l)"
   ]
  },
  {
   "cell_type": "code",
   "execution_count": 25,
   "metadata": {},
   "outputs": [
    {
     "data": {
      "text/html": [
       "<div>\n",
       "<style scoped>\n",
       "    .dataframe tbody tr th:only-of-type {\n",
       "        vertical-align: middle;\n",
       "    }\n",
       "\n",
       "    .dataframe tbody tr th {\n",
       "        vertical-align: top;\n",
       "    }\n",
       "\n",
       "    .dataframe thead th {\n",
       "        text-align: right;\n",
       "    }\n",
       "</style>\n",
       "<table border=\"1\" class=\"dataframe\">\n",
       "  <thead>\n",
       "    <tr style=\"text-align: right;\">\n",
       "      <th></th>\n",
       "      <th>STATE</th>\n",
       "      <th>ST_ABBR</th>\n",
       "      <th>COUNTY</th>\n",
       "      <th>Av_MP_ASIA</th>\n",
       "      <th>Av_E_DAYPO</th>\n",
       "      <th>Av_MP_NOIN</th>\n",
       "      <th>Av_RPL_THE</th>\n",
       "      <th>Hill%</th>\n",
       "      <th>isHill</th>\n",
       "      <th>isHill_1</th>\n",
       "      <th>isHill_2</th>\n",
       "      <th>geometry</th>\n",
       "    </tr>\n",
       "  </thead>\n",
       "  <tbody>\n",
       "    <tr>\n",
       "      <th>0</th>\n",
       "      <td>West Virginia</td>\n",
       "      <td>WV</td>\n",
       "      <td>Jefferson</td>\n",
       "      <td>1.300000</td>\n",
       "      <td>3071.866667</td>\n",
       "      <td>3.693333</td>\n",
       "      <td>0.385180</td>\n",
       "      <td>1.0</td>\n",
       "      <td>255</td>\n",
       "      <td>NaN</td>\n",
       "      <td>NaN</td>\n",
       "      <td>POLYGON ((-78.03541099999995 39.27841200000006...</td>\n",
       "    </tr>\n",
       "    <tr>\n",
       "      <th>2</th>\n",
       "      <td>Maryland</td>\n",
       "      <td>MD</td>\n",
       "      <td>Prince George's</td>\n",
       "      <td>2.563084</td>\n",
       "      <td>3670.280374</td>\n",
       "      <td>2.721028</td>\n",
       "      <td>0.559070</td>\n",
       "      <td>1.0</td>\n",
       "      <td>255</td>\n",
       "      <td>NaN</td>\n",
       "      <td>NaN</td>\n",
       "      <td>POLYGON ((-77.04202199999997 38.74672099999992...</td>\n",
       "    </tr>\n",
       "    <tr>\n",
       "      <th>5</th>\n",
       "      <td>Virginia</td>\n",
       "      <td>VA</td>\n",
       "      <td>Madison</td>\n",
       "      <td>1.250000</td>\n",
       "      <td>2287.750000</td>\n",
       "      <td>2.600000</td>\n",
       "      <td>0.429125</td>\n",
       "      <td>1.0</td>\n",
       "      <td>255</td>\n",
       "      <td>NaN</td>\n",
       "      <td>NaN</td>\n",
       "      <td>POLYGON ((-78.43902899999995 38.51684100000011...</td>\n",
       "    </tr>\n",
       "    <tr>\n",
       "      <th>8</th>\n",
       "      <td>Virginia</td>\n",
       "      <td>VA</td>\n",
       "      <td>Manassas Park</td>\n",
       "      <td>2.933333</td>\n",
       "      <td>4308.000000</td>\n",
       "      <td>0.566667</td>\n",
       "      <td>0.611433</td>\n",
       "      <td>1.0</td>\n",
       "      <td>255</td>\n",
       "      <td>NaN</td>\n",
       "      <td>NaN</td>\n",
       "      <td>POLYGON ((-77.47882799999996 38.78259400000013...</td>\n",
       "    </tr>\n",
       "    <tr>\n",
       "      <th>9</th>\n",
       "      <td>Virginia</td>\n",
       "      <td>VA</td>\n",
       "      <td>Fairfax City</td>\n",
       "      <td>4.200000</td>\n",
       "      <td>6606.800000</td>\n",
       "      <td>4.740000</td>\n",
       "      <td>0.382960</td>\n",
       "      <td>1.0</td>\n",
       "      <td>255</td>\n",
       "      <td>NaN</td>\n",
       "      <td>NaN</td>\n",
       "      <td>POLYGON ((-77.33485200000001 38.85373700000008...</td>\n",
       "    </tr>\n",
       "    <tr>\n",
       "      <th>12</th>\n",
       "      <td>Virginia</td>\n",
       "      <td>VA</td>\n",
       "      <td>Fredericksburg</td>\n",
       "      <td>2.657143</td>\n",
       "      <td>6167.142857</td>\n",
       "      <td>2.328571</td>\n",
       "      <td>0.589886</td>\n",
       "      <td>1.0</td>\n",
       "      <td>255</td>\n",
       "      <td>NaN</td>\n",
       "      <td>NaN</td>\n",
       "      <td>POLYGON ((-77.53267899999997 38.30850300000009...</td>\n",
       "    </tr>\n",
       "    <tr>\n",
       "      <th>13</th>\n",
       "      <td>Virginia</td>\n",
       "      <td>VA</td>\n",
       "      <td>Prince William</td>\n",
       "      <td>4.431522</td>\n",
       "      <td>4056.119565</td>\n",
       "      <td>5.682609</td>\n",
       "      <td>0.390228</td>\n",
       "      <td>1.0</td>\n",
       "      <td>255</td>\n",
       "      <td>NaN</td>\n",
       "      <td>NaN</td>\n",
       "      <td>MULTIPOLYGON (((-77.46821599999998 38.79621800...</td>\n",
       "    </tr>\n",
       "    <tr>\n",
       "      <th>14</th>\n",
       "      <td>Virginia</td>\n",
       "      <td>VA</td>\n",
       "      <td>Warren</td>\n",
       "      <td>1.366667</td>\n",
       "      <td>3685.222222</td>\n",
       "      <td>1.311111</td>\n",
       "      <td>0.437911</td>\n",
       "      <td>1.0</td>\n",
       "      <td>255</td>\n",
       "      <td>NaN</td>\n",
       "      <td>NaN</td>\n",
       "      <td>POLYGON ((-78.33340099999992 39.00024700000011...</td>\n",
       "    </tr>\n",
       "    <tr>\n",
       "      <th>19</th>\n",
       "      <td>Virginia</td>\n",
       "      <td>VA</td>\n",
       "      <td>Manassas</td>\n",
       "      <td>2.990000</td>\n",
       "      <td>5743.700000</td>\n",
       "      <td>0.710000</td>\n",
       "      <td>0.608940</td>\n",
       "      <td>1.0</td>\n",
       "      <td>255</td>\n",
       "      <td>NaN</td>\n",
       "      <td>NaN</td>\n",
       "      <td>POLYGON ((-77.52631400000001 38.73252000000002...</td>\n",
       "    </tr>\n",
       "    <tr>\n",
       "      <th>21</th>\n",
       "      <td>Virginia</td>\n",
       "      <td>VA</td>\n",
       "      <td>Culpeper</td>\n",
       "      <td>1.520000</td>\n",
       "      <td>4552.500000</td>\n",
       "      <td>1.390000</td>\n",
       "      <td>0.439480</td>\n",
       "      <td>1.0</td>\n",
       "      <td>255</td>\n",
       "      <td>NaN</td>\n",
       "      <td>NaN</td>\n",
       "      <td>POLYGON ((-78.11829199999994 38.36781200000013...</td>\n",
       "    </tr>\n",
       "    <tr>\n",
       "      <th>22</th>\n",
       "      <td>District of Columbia</td>\n",
       "      <td>DC</td>\n",
       "      <td>District of Columbia</td>\n",
       "      <td>3.246569</td>\n",
       "      <td>5577.828431</td>\n",
       "      <td>5.514216</td>\n",
       "      <td>0.494194</td>\n",
       "      <td>1.0</td>\n",
       "      <td>255</td>\n",
       "      <td>NaN</td>\n",
       "      <td>NaN</td>\n",
       "      <td>POLYGON ((-77.11975100000001 38.93434999999994...</td>\n",
       "    </tr>\n",
       "    <tr>\n",
       "      <th>24</th>\n",
       "      <td>Maryland</td>\n",
       "      <td>MD</td>\n",
       "      <td>Montgomery</td>\n",
       "      <td>5.107759</td>\n",
       "      <td>4342.827586</td>\n",
       "      <td>4.928017</td>\n",
       "      <td>0.404923</td>\n",
       "      <td>1.0</td>\n",
       "      <td>255</td>\n",
       "      <td>NaN</td>\n",
       "      <td>NaN</td>\n",
       "      <td>POLYGON ((-77.179643 38.9683050000001, -77.179...</td>\n",
       "    </tr>\n",
       "  </tbody>\n",
       "</table>\n",
       "</div>"
      ],
      "text/plain": [
       "                   STATE ST_ABBR                COUNTY  Av_MP_ASIA  \\\n",
       "0          West Virginia      WV             Jefferson    1.300000   \n",
       "2               Maryland      MD       Prince George's    2.563084   \n",
       "5               Virginia      VA               Madison    1.250000   \n",
       "8               Virginia      VA         Manassas Park    2.933333   \n",
       "9               Virginia      VA          Fairfax City    4.200000   \n",
       "12              Virginia      VA        Fredericksburg    2.657143   \n",
       "13              Virginia      VA        Prince William    4.431522   \n",
       "14              Virginia      VA                Warren    1.366667   \n",
       "19              Virginia      VA              Manassas    2.990000   \n",
       "21              Virginia      VA              Culpeper    1.520000   \n",
       "22  District of Columbia      DC  District of Columbia    3.246569   \n",
       "24              Maryland      MD            Montgomery    5.107759   \n",
       "\n",
       "     Av_E_DAYPO  Av_MP_NOIN  Av_RPL_THE  Hill%  isHill  isHill_1  isHill_2  \\\n",
       "0   3071.866667    3.693333    0.385180    1.0     255       NaN       NaN   \n",
       "2   3670.280374    2.721028    0.559070    1.0     255       NaN       NaN   \n",
       "5   2287.750000    2.600000    0.429125    1.0     255       NaN       NaN   \n",
       "8   4308.000000    0.566667    0.611433    1.0     255       NaN       NaN   \n",
       "9   6606.800000    4.740000    0.382960    1.0     255       NaN       NaN   \n",
       "12  6167.142857    2.328571    0.589886    1.0     255       NaN       NaN   \n",
       "13  4056.119565    5.682609    0.390228    1.0     255       NaN       NaN   \n",
       "14  3685.222222    1.311111    0.437911    1.0     255       NaN       NaN   \n",
       "19  5743.700000    0.710000    0.608940    1.0     255       NaN       NaN   \n",
       "21  4552.500000    1.390000    0.439480    1.0     255       NaN       NaN   \n",
       "22  5577.828431    5.514216    0.494194    1.0     255       NaN       NaN   \n",
       "24  4342.827586    4.928017    0.404923    1.0     255       NaN       NaN   \n",
       "\n",
       "                                             geometry  \n",
       "0   POLYGON ((-78.03541099999995 39.27841200000006...  \n",
       "2   POLYGON ((-77.04202199999997 38.74672099999992...  \n",
       "5   POLYGON ((-78.43902899999995 38.51684100000011...  \n",
       "8   POLYGON ((-77.47882799999996 38.78259400000013...  \n",
       "9   POLYGON ((-77.33485200000001 38.85373700000008...  \n",
       "12  POLYGON ((-77.53267899999997 38.30850300000009...  \n",
       "13  MULTIPOLYGON (((-77.46821599999998 38.79621800...  \n",
       "14  POLYGON ((-78.33340099999992 39.00024700000011...  \n",
       "19  POLYGON ((-77.52631400000001 38.73252000000002...  \n",
       "21  POLYGON ((-78.11829199999994 38.36781200000013...  \n",
       "22  POLYGON ((-77.11975100000001 38.93434999999994...  \n",
       "24  POLYGON ((-77.179643 38.9683050000001, -77.179...  "
      ]
     },
     "execution_count": 25,
     "metadata": {},
     "output_type": "execute_result"
    }
   ],
   "source": [
    "h_l"
   ]
  },
  {
   "cell_type": "code",
   "execution_count": 27,
   "metadata": {},
   "outputs": [],
   "source": [
    "def generate_keys(county, candidate, precinct_list, sc_type):\n",
    "    key_file = './keys/' + '/' + candidate + '/' + county + '-key'\n",
    "    with open(key_file, 'w') as file:\n",
    "        csv_writer = csv.writer(file)\n",
    "        i = 0\n",
    "        for precinct in precinct_list:\n",
    "            csv_writer.writerow([precinct[0], i])\n",
    "            precinct[0] = i\n",
    "            i += 1\n",
    "    return precinct_list"
   ]
  },
  {
   "cell_type": "code",
   "execution_count": 44,
   "metadata": {},
   "outputs": [
    {
     "ename": "TypeError",
     "evalue": "'str' object does not support item assignment",
     "output_type": "error",
     "traceback": [
      "\u001b[0;31m---------------------------------------------------------------------------\u001b[0m",
      "\u001b[0;31mTypeError\u001b[0m                                 Traceback (most recent call last)",
      "Cell \u001b[0;32mIn[44], line 1\u001b[0m\n\u001b[0;32m----> 1\u001b[0m hillary_list \u001b[38;5;241m=\u001b[39m generate_keys(\u001b[38;5;124m'\u001b[39m\u001b[38;5;124mJefferson\u001b[39m\u001b[38;5;124m'\u001b[39m, \u001b[38;5;124m'\u001b[39m\u001b[38;5;124mhillary\u001b[39m\u001b[38;5;124m'\u001b[39m, h_l, \u001b[38;5;124m'\u001b[39m\u001b[38;5;124msc\u001b[39m\u001b[38;5;124m'\u001b[39m)\n",
      "Cell \u001b[0;32mIn[27], line 8\u001b[0m, in \u001b[0;36mgenerate_keys\u001b[0;34m(county, candidate, precinct_list, sc_type)\u001b[0m\n\u001b[1;32m      6\u001b[0m     \u001b[38;5;28;01mfor\u001b[39;00m precinct \u001b[38;5;129;01min\u001b[39;00m precinct_list:\n\u001b[1;32m      7\u001b[0m         csv_writer\u001b[38;5;241m.\u001b[39mwriterow([precinct[\u001b[38;5;241m0\u001b[39m], i])\n\u001b[0;32m----> 8\u001b[0m         precinct[\u001b[38;5;241m0\u001b[39m] \u001b[38;5;241m=\u001b[39m i\n\u001b[1;32m      9\u001b[0m         i \u001b[38;5;241m+\u001b[39m\u001b[38;5;241m=\u001b[39m \u001b[38;5;241m1\u001b[39m\n\u001b[1;32m     10\u001b[0m \u001b[38;5;28;01mreturn\u001b[39;00m precinct_list\n",
      "\u001b[0;31mTypeError\u001b[0m: 'str' object does not support item assignment"
     ]
    }
   ],
   "source": [
    "hillary_list = generate_keys('Jefferson', 'hillary', h_l, 'sc')"
   ]
  },
  {
   "cell_type": "code",
   "execution_count": 45,
   "metadata": {},
   "outputs": [],
   "source": [
    "import pandas as pd\n",
    "import numpy as np\n",
    "\n",
    "def generate_keys(precinct_df):\n",
    "    i = 0\n",
    "    precinct_df['NEW_IDENTIFIER'] = np.arange(len(precinct_df))\n",
    "    precinct_df.rename(columns={'COUNTY': 'OLD_IDENTIFIER'}, inplace=True)\n",
    "    return precinct_df"
   ]
  },
  {
   "cell_type": "code",
   "execution_count": 46,
   "metadata": {},
   "outputs": [],
   "source": [
    "test = generate_keys(h_l)"
   ]
  },
  {
   "cell_type": "code",
   "execution_count": 47,
   "metadata": {},
   "outputs": [
    {
     "data": {
      "text/html": [
       "<div>\n",
       "<style scoped>\n",
       "    .dataframe tbody tr th:only-of-type {\n",
       "        vertical-align: middle;\n",
       "    }\n",
       "\n",
       "    .dataframe tbody tr th {\n",
       "        vertical-align: top;\n",
       "    }\n",
       "\n",
       "    .dataframe thead th {\n",
       "        text-align: right;\n",
       "    }\n",
       "</style>\n",
       "<table border=\"1\" class=\"dataframe\">\n",
       "  <thead>\n",
       "    <tr style=\"text-align: right;\">\n",
       "      <th></th>\n",
       "      <th>STATE</th>\n",
       "      <th>ST_ABBR</th>\n",
       "      <th>OLD_IDENTIFIER</th>\n",
       "      <th>Av_MP_ASIA</th>\n",
       "      <th>Av_E_DAYPO</th>\n",
       "      <th>Av_MP_NOIN</th>\n",
       "      <th>Av_RPL_THE</th>\n",
       "      <th>Hill%</th>\n",
       "      <th>isHill</th>\n",
       "      <th>isHill_1</th>\n",
       "      <th>isHill_2</th>\n",
       "      <th>geometry</th>\n",
       "      <th>NEW_IDENTIFIER</th>\n",
       "    </tr>\n",
       "  </thead>\n",
       "  <tbody>\n",
       "    <tr>\n",
       "      <th>0</th>\n",
       "      <td>West Virginia</td>\n",
       "      <td>WV</td>\n",
       "      <td>Jefferson</td>\n",
       "      <td>1.300000</td>\n",
       "      <td>3071.866667</td>\n",
       "      <td>3.693333</td>\n",
       "      <td>0.385180</td>\n",
       "      <td>1.0</td>\n",
       "      <td>255</td>\n",
       "      <td>NaN</td>\n",
       "      <td>NaN</td>\n",
       "      <td>POLYGON ((-78.03541099999995 39.27841200000006...</td>\n",
       "      <td>0</td>\n",
       "    </tr>\n",
       "    <tr>\n",
       "      <th>2</th>\n",
       "      <td>Maryland</td>\n",
       "      <td>MD</td>\n",
       "      <td>Prince George's</td>\n",
       "      <td>2.563084</td>\n",
       "      <td>3670.280374</td>\n",
       "      <td>2.721028</td>\n",
       "      <td>0.559070</td>\n",
       "      <td>1.0</td>\n",
       "      <td>255</td>\n",
       "      <td>NaN</td>\n",
       "      <td>NaN</td>\n",
       "      <td>POLYGON ((-77.04202199999997 38.74672099999992...</td>\n",
       "      <td>1</td>\n",
       "    </tr>\n",
       "    <tr>\n",
       "      <th>5</th>\n",
       "      <td>Virginia</td>\n",
       "      <td>VA</td>\n",
       "      <td>Madison</td>\n",
       "      <td>1.250000</td>\n",
       "      <td>2287.750000</td>\n",
       "      <td>2.600000</td>\n",
       "      <td>0.429125</td>\n",
       "      <td>1.0</td>\n",
       "      <td>255</td>\n",
       "      <td>NaN</td>\n",
       "      <td>NaN</td>\n",
       "      <td>POLYGON ((-78.43902899999995 38.51684100000011...</td>\n",
       "      <td>2</td>\n",
       "    </tr>\n",
       "    <tr>\n",
       "      <th>8</th>\n",
       "      <td>Virginia</td>\n",
       "      <td>VA</td>\n",
       "      <td>Manassas Park</td>\n",
       "      <td>2.933333</td>\n",
       "      <td>4308.000000</td>\n",
       "      <td>0.566667</td>\n",
       "      <td>0.611433</td>\n",
       "      <td>1.0</td>\n",
       "      <td>255</td>\n",
       "      <td>NaN</td>\n",
       "      <td>NaN</td>\n",
       "      <td>POLYGON ((-77.47882799999996 38.78259400000013...</td>\n",
       "      <td>3</td>\n",
       "    </tr>\n",
       "    <tr>\n",
       "      <th>9</th>\n",
       "      <td>Virginia</td>\n",
       "      <td>VA</td>\n",
       "      <td>Fairfax City</td>\n",
       "      <td>4.200000</td>\n",
       "      <td>6606.800000</td>\n",
       "      <td>4.740000</td>\n",
       "      <td>0.382960</td>\n",
       "      <td>1.0</td>\n",
       "      <td>255</td>\n",
       "      <td>NaN</td>\n",
       "      <td>NaN</td>\n",
       "      <td>POLYGON ((-77.33485200000001 38.85373700000008...</td>\n",
       "      <td>4</td>\n",
       "    </tr>\n",
       "    <tr>\n",
       "      <th>12</th>\n",
       "      <td>Virginia</td>\n",
       "      <td>VA</td>\n",
       "      <td>Fredericksburg</td>\n",
       "      <td>2.657143</td>\n",
       "      <td>6167.142857</td>\n",
       "      <td>2.328571</td>\n",
       "      <td>0.589886</td>\n",
       "      <td>1.0</td>\n",
       "      <td>255</td>\n",
       "      <td>NaN</td>\n",
       "      <td>NaN</td>\n",
       "      <td>POLYGON ((-77.53267899999997 38.30850300000009...</td>\n",
       "      <td>5</td>\n",
       "    </tr>\n",
       "    <tr>\n",
       "      <th>13</th>\n",
       "      <td>Virginia</td>\n",
       "      <td>VA</td>\n",
       "      <td>Prince William</td>\n",
       "      <td>4.431522</td>\n",
       "      <td>4056.119565</td>\n",
       "      <td>5.682609</td>\n",
       "      <td>0.390228</td>\n",
       "      <td>1.0</td>\n",
       "      <td>255</td>\n",
       "      <td>NaN</td>\n",
       "      <td>NaN</td>\n",
       "      <td>MULTIPOLYGON (((-77.46821599999998 38.79621800...</td>\n",
       "      <td>6</td>\n",
       "    </tr>\n",
       "    <tr>\n",
       "      <th>14</th>\n",
       "      <td>Virginia</td>\n",
       "      <td>VA</td>\n",
       "      <td>Warren</td>\n",
       "      <td>1.366667</td>\n",
       "      <td>3685.222222</td>\n",
       "      <td>1.311111</td>\n",
       "      <td>0.437911</td>\n",
       "      <td>1.0</td>\n",
       "      <td>255</td>\n",
       "      <td>NaN</td>\n",
       "      <td>NaN</td>\n",
       "      <td>POLYGON ((-78.33340099999992 39.00024700000011...</td>\n",
       "      <td>7</td>\n",
       "    </tr>\n",
       "    <tr>\n",
       "      <th>19</th>\n",
       "      <td>Virginia</td>\n",
       "      <td>VA</td>\n",
       "      <td>Manassas</td>\n",
       "      <td>2.990000</td>\n",
       "      <td>5743.700000</td>\n",
       "      <td>0.710000</td>\n",
       "      <td>0.608940</td>\n",
       "      <td>1.0</td>\n",
       "      <td>255</td>\n",
       "      <td>NaN</td>\n",
       "      <td>NaN</td>\n",
       "      <td>POLYGON ((-77.52631400000001 38.73252000000002...</td>\n",
       "      <td>8</td>\n",
       "    </tr>\n",
       "    <tr>\n",
       "      <th>21</th>\n",
       "      <td>Virginia</td>\n",
       "      <td>VA</td>\n",
       "      <td>Culpeper</td>\n",
       "      <td>1.520000</td>\n",
       "      <td>4552.500000</td>\n",
       "      <td>1.390000</td>\n",
       "      <td>0.439480</td>\n",
       "      <td>1.0</td>\n",
       "      <td>255</td>\n",
       "      <td>NaN</td>\n",
       "      <td>NaN</td>\n",
       "      <td>POLYGON ((-78.11829199999994 38.36781200000013...</td>\n",
       "      <td>9</td>\n",
       "    </tr>\n",
       "    <tr>\n",
       "      <th>22</th>\n",
       "      <td>District of Columbia</td>\n",
       "      <td>DC</td>\n",
       "      <td>District of Columbia</td>\n",
       "      <td>3.246569</td>\n",
       "      <td>5577.828431</td>\n",
       "      <td>5.514216</td>\n",
       "      <td>0.494194</td>\n",
       "      <td>1.0</td>\n",
       "      <td>255</td>\n",
       "      <td>NaN</td>\n",
       "      <td>NaN</td>\n",
       "      <td>POLYGON ((-77.11975100000001 38.93434999999994...</td>\n",
       "      <td>10</td>\n",
       "    </tr>\n",
       "    <tr>\n",
       "      <th>24</th>\n",
       "      <td>Maryland</td>\n",
       "      <td>MD</td>\n",
       "      <td>Montgomery</td>\n",
       "      <td>5.107759</td>\n",
       "      <td>4342.827586</td>\n",
       "      <td>4.928017</td>\n",
       "      <td>0.404923</td>\n",
       "      <td>1.0</td>\n",
       "      <td>255</td>\n",
       "      <td>NaN</td>\n",
       "      <td>NaN</td>\n",
       "      <td>POLYGON ((-77.179643 38.9683050000001, -77.179...</td>\n",
       "      <td>11</td>\n",
       "    </tr>\n",
       "  </tbody>\n",
       "</table>\n",
       "</div>"
      ],
      "text/plain": [
       "                   STATE ST_ABBR        OLD_IDENTIFIER  Av_MP_ASIA  \\\n",
       "0          West Virginia      WV             Jefferson    1.300000   \n",
       "2               Maryland      MD       Prince George's    2.563084   \n",
       "5               Virginia      VA               Madison    1.250000   \n",
       "8               Virginia      VA         Manassas Park    2.933333   \n",
       "9               Virginia      VA          Fairfax City    4.200000   \n",
       "12              Virginia      VA        Fredericksburg    2.657143   \n",
       "13              Virginia      VA        Prince William    4.431522   \n",
       "14              Virginia      VA                Warren    1.366667   \n",
       "19              Virginia      VA              Manassas    2.990000   \n",
       "21              Virginia      VA              Culpeper    1.520000   \n",
       "22  District of Columbia      DC  District of Columbia    3.246569   \n",
       "24              Maryland      MD            Montgomery    5.107759   \n",
       "\n",
       "     Av_E_DAYPO  Av_MP_NOIN  Av_RPL_THE  Hill%  isHill  isHill_1  isHill_2  \\\n",
       "0   3071.866667    3.693333    0.385180    1.0     255       NaN       NaN   \n",
       "2   3670.280374    2.721028    0.559070    1.0     255       NaN       NaN   \n",
       "5   2287.750000    2.600000    0.429125    1.0     255       NaN       NaN   \n",
       "8   4308.000000    0.566667    0.611433    1.0     255       NaN       NaN   \n",
       "9   6606.800000    4.740000    0.382960    1.0     255       NaN       NaN   \n",
       "12  6167.142857    2.328571    0.589886    1.0     255       NaN       NaN   \n",
       "13  4056.119565    5.682609    0.390228    1.0     255       NaN       NaN   \n",
       "14  3685.222222    1.311111    0.437911    1.0     255       NaN       NaN   \n",
       "19  5743.700000    0.710000    0.608940    1.0     255       NaN       NaN   \n",
       "21  4552.500000    1.390000    0.439480    1.0     255       NaN       NaN   \n",
       "22  5577.828431    5.514216    0.494194    1.0     255       NaN       NaN   \n",
       "24  4342.827586    4.928017    0.404923    1.0     255       NaN       NaN   \n",
       "\n",
       "                                             geometry  NEW_IDENTIFIER  \n",
       "0   POLYGON ((-78.03541099999995 39.27841200000006...               0  \n",
       "2   POLYGON ((-77.04202199999997 38.74672099999992...               1  \n",
       "5   POLYGON ((-78.43902899999995 38.51684100000011...               2  \n",
       "8   POLYGON ((-77.47882799999996 38.78259400000013...               3  \n",
       "9   POLYGON ((-77.33485200000001 38.85373700000008...               4  \n",
       "12  POLYGON ((-77.53267899999997 38.30850300000009...               5  \n",
       "13  MULTIPOLYGON (((-77.46821599999998 38.79621800...               6  \n",
       "14  POLYGON ((-78.33340099999992 39.00024700000011...               7  \n",
       "19  POLYGON ((-77.52631400000001 38.73252000000002...               8  \n",
       "21  POLYGON ((-78.11829199999994 38.36781200000013...               9  \n",
       "22  POLYGON ((-77.11975100000001 38.93434999999994...              10  \n",
       "24  POLYGON ((-77.179643 38.9683050000001, -77.179...              11  "
      ]
     },
     "execution_count": 47,
     "metadata": {},
     "output_type": "execute_result"
    }
   ],
   "source": [
    "test"
   ]
  },
  {
   "cell_type": "code",
   "execution_count": null,
   "metadata": {},
   "outputs": [],
   "source": [
    "\n",
    "def replace_neighbour_keys(county, candidate, precinct_df, sc_type):\n",
    "    precinct_df['NEIGHBOUR_KEYS'] = precinct_df['NEIGHBOURS'].apply(\n",
    "        lambda neighbours: [int(neighbour) for neighbour in neighbours.split(',') if neighbour.isnumeric()]\n",
    "    )\n",
    "    return precinct_df"
   ]
  },
  {
   "cell_type": "code",
   "execution_count": null,
   "metadata": {},
   "outputs": [],
   "source": []
  },
  {
   "cell_type": "code",
   "execution_count": null,
   "metadata": {},
   "outputs": [],
   "source": []
  },
  {
   "cell_type": "code",
   "execution_count": null,
   "metadata": {},
   "outputs": [],
   "source": []
  },
  {
   "cell_type": "code",
   "execution_count": null,
   "metadata": {},
   "outputs": [],
   "source": [
    "def replace_neighbour_keys(county, candidate, precinct_list, sc_type):\n",
    "    key_file = '../data/keys/' + sc_type + '/' + candidate + '/' + county + '-key'\n",
    "    key_dictionary = {}\n",
    "    with open(key_file) as file:\n",
    "        csv_reader = csv.reader(file)\n",
    "        for line in csv_reader:\n",
    "            key_dictionary[line[0]] = line[1]\n",
    "\n",
    "    for precinct in precinct_list:\n",
    "        neighbours = precinct[1]\n",
    "        neighbours_array = neighbours.split(',')\n",
    "        neighbour_keys = []\n",
    "        for neighbour in neighbours_array:\n",
    "            if neighbour in key_dictionary:\n",
    "                neighbour_keys.append(int(key_dictionary.get(neighbour)))\n",
    "        neighbour_keys.sort()\n",
    "        precinct[1] = neighbour_keys\n",
    "\n",
    "    return precinct_list"
   ]
  },
  {
   "cell_type": "code",
   "execution_count": 91,
   "metadata": {},
   "outputs": [],
   "source": [
    "def lower_neighbors(adjacencies, vertex):\n",
    "    return [v for v in adjacencies[vertex] if v < vertex]\n",
    "\n",
    "\n",
    "def incremental_vr(V, adjacencies, maxDimension):\n",
    "    Vnew = list(V)\n",
    "    for vertex in np.arange(len(adjacencies)):\n",
    "        N = sorted(lower_neighbors(adjacencies, vertex))\n",
    "        add_cofaces(adjacencies, maxDimension, [vertex], N, Vnew)\n",
    "    return Vnew\n",
    "\n",
    "\n",
    "def add_cofaces(adjacencies, maxDimension, face, N, V):\n",
    "    if sorted(face) not in V:\n",
    "        V.append(sorted(face))\n",
    "    if len(face) >= maxDimension:\n",
    "        return\n",
    "    else:\n",
    "        for vertex in N:\n",
    "            coface = list(face)\n",
    "            coface.append(vertex)\n",
    "            M = list(set(N) & set(lower_neighbors(adjacencies, vertex)))\n",
    "            add_cofaces(adjacencies, maxDimension, coface, M, V)\n",
    "\n",
    "\n",
    "def replace_face(V):\n",
    "    Vnew = []\n",
    "    for face in V:\n",
    "        if len(face) == 1:\n",
    "            Vnew.append([len(Vnew)])\n",
    "        else:\n",
    "            Vnew_face = []\n",
    "            for vertexIdx in np.arange(len(face)):\n",
    "                subface = list(face)\n",
    "                subface.pop(vertexIdx)\n",
    "                subfaceIdx = V.index(subface)\n",
    "                Vnew_face.append(subfaceIdx)\n",
    "            Vnew.append(sorted(Vnew_face))\n",
    "    return Vnew\n"
   ]
  },
  {
   "cell_type": "code",
   "execution_count": 78,
   "metadata": {},
   "outputs": [],
   "source": [
    "precinct_list = [\n",
    "    [0, [1, 2, 3], \"0.75\"],\n",
    "    [1, [0, 2], \"0.5\"],\n",
    "    [2, [0, 1, 3], \"0.9\"],\n",
    "    [3, [0, 2], \"0.6\"]\n",
    "]\n"
   ]
  },
  {
   "cell_type": "code",
   "execution_count": 79,
   "metadata": {},
   "outputs": [],
   "source": [
    "adjacencies = list(map(lambda m: m[1], precinct_list))\n"
   ]
  },
  {
   "cell_type": "code",
   "execution_count": 80,
   "metadata": {},
   "outputs": [
    {
     "data": {
      "text/plain": [
       "[[1, 2, 3], [0, 2], [0, 1, 3], [0, 2]]"
      ]
     },
     "execution_count": 80,
     "metadata": {},
     "output_type": "execute_result"
    }
   ],
   "source": [
    "adjacencies"
   ]
  },
  {
   "cell_type": "code",
   "execution_count": 81,
   "metadata": {},
   "outputs": [],
   "source": [
    "preferences = np.asarray(list(map(lambda m: float(m[2]), precinct_list)))"
   ]
  },
  {
   "cell_type": "code",
   "execution_count": 82,
   "metadata": {},
   "outputs": [
    {
     "data": {
      "text/plain": [
       "array([0.75, 0.5 , 0.9 , 0.6 ])"
      ]
     },
     "execution_count": 82,
     "metadata": {},
     "output_type": "execute_result"
    }
   ],
   "source": [
    "preferences"
   ]
  },
  {
   "cell_type": "code",
   "execution_count": 83,
   "metadata": {},
   "outputs": [],
   "source": [
    "V = []"
   ]
  },
  {
   "cell_type": "code",
   "execution_count": 84,
   "metadata": {},
   "outputs": [],
   "source": [
    "V = incremental_vr(V, adjacencies, 3)"
   ]
  },
  {
   "cell_type": "code",
   "execution_count": 85,
   "metadata": {},
   "outputs": [
    {
     "data": {
      "text/plain": [
       "[[0],\n",
       " [1],\n",
       " [0, 1],\n",
       " [2],\n",
       " [0, 2],\n",
       " [1, 2],\n",
       " [0, 1, 2],\n",
       " [3],\n",
       " [0, 3],\n",
       " [2, 3],\n",
       " [0, 2, 3]]"
      ]
     },
     "execution_count": 85,
     "metadata": {},
     "output_type": "execute_result"
    }
   ],
   "source": [
    "V "
   ]
  },
  {
   "cell_type": "code",
   "execution_count": 86,
   "metadata": {},
   "outputs": [],
   "source": [
    "entryTimes = np.floor((1 - np.abs(preferences)) * 100 / 5)\n"
   ]
  },
  {
   "cell_type": "code",
   "execution_count": 87,
   "metadata": {},
   "outputs": [
    {
     "data": {
      "text/plain": [
       "array([ 5., 10.,  1.,  8.])"
      ]
     },
     "execution_count": 87,
     "metadata": {},
     "output_type": "execute_result"
    }
   ],
   "source": [
    "entryTimes"
   ]
  },
  {
   "cell_type": "code",
   "execution_count": 88,
   "metadata": {},
   "outputs": [],
   "source": [
    "entryTimesSub = [entryTimes[max(simplex) - 1] for simplex in V]"
   ]
  },
  {
   "cell_type": "code",
   "execution_count": 89,
   "metadata": {},
   "outputs": [
    {
     "data": {
      "text/plain": [
       "[8.0, 5.0, 5.0, 10.0, 10.0, 10.0, 10.0, 1.0, 1.0, 1.0, 1.0]"
      ]
     },
     "execution_count": 89,
     "metadata": {},
     "output_type": "execute_result"
    }
   ],
   "source": [
    "entryTimesSub"
   ]
  },
  {
   "cell_type": "code",
   "execution_count": 92,
   "metadata": {},
   "outputs": [],
   "source": [
    "phatFormatV = replace_face(V)"
   ]
  },
  {
   "cell_type": "code",
   "execution_count": 93,
   "metadata": {},
   "outputs": [
    {
     "data": {
      "text/plain": [
       "[[0],\n",
       " [1],\n",
       " [0, 1],\n",
       " [3],\n",
       " [0, 3],\n",
       " [1, 3],\n",
       " [2, 4, 5],\n",
       " [7],\n",
       " [0, 7],\n",
       " [3, 7],\n",
       " [4, 8, 9]]"
      ]
     },
     "execution_count": 93,
     "metadata": {},
     "output_type": "execute_result"
    }
   ],
   "source": [
    "phatFormatV"
   ]
  },
  {
   "cell_type": "code",
   "execution_count": null,
   "metadata": {},
   "outputs": [],
   "source": []
  },
  {
   "cell_type": "code",
   "execution_count": null,
   "metadata": {},
   "outputs": [],
   "source": []
  },
  {
   "cell_type": "code",
   "execution_count": null,
   "metadata": {},
   "outputs": [],
   "source": []
  },
  {
   "cell_type": "code",
   "execution_count": null,
   "metadata": {},
   "outputs": [],
   "source": []
  },
  {
   "cell_type": "code",
   "execution_count": null,
   "metadata": {},
   "outputs": [],
   "source": []
  },
  {
   "cell_type": "code",
   "execution_count": null,
   "metadata": {},
   "outputs": [],
   "source": []
  },
  {
   "cell_type": "code",
   "execution_count": null,
   "metadata": {},
   "outputs": [],
   "source": []
  },
  {
   "cell_type": "code",
   "execution_count": null,
   "metadata": {},
   "outputs": [],
   "source": []
  },
  {
   "cell_type": "code",
   "execution_count": 66,
   "metadata": {},
   "outputs": [],
   "source": [
    "example_precinct = [0, [1, 2, 3], [0.75,0.2,0.1]]"
   ]
  },
  {
   "cell_type": "code",
   "execution_count": 49,
   "metadata": {},
   "outputs": [],
   "source": [
    "maxDimension = 3"
   ]
  },
  {
   "cell_type": "code",
   "execution_count": 50,
   "metadata": {},
   "outputs": [
    {
     "ename": "TypeError",
     "evalue": "'int' object is not subscriptable",
     "output_type": "error",
     "traceback": [
      "\u001b[0;31m---------------------------------------------------------------------------\u001b[0m",
      "\u001b[0;31mTypeError\u001b[0m                                 Traceback (most recent call last)",
      "Cell \u001b[0;32mIn[50], line 1\u001b[0m\n\u001b[0;32m----> 1\u001b[0m adjacencies \u001b[38;5;241m=\u001b[39m \u001b[38;5;28mlist\u001b[39m(\u001b[38;5;28mmap\u001b[39m(\u001b[38;5;28;01mlambda\u001b[39;00m m: m[\u001b[38;5;241m1\u001b[39m], example_precinct))\n",
      "Cell \u001b[0;32mIn[50], line 1\u001b[0m, in \u001b[0;36m<lambda>\u001b[0;34m(m)\u001b[0m\n\u001b[0;32m----> 1\u001b[0m adjacencies \u001b[38;5;241m=\u001b[39m \u001b[38;5;28mlist\u001b[39m(\u001b[38;5;28mmap\u001b[39m(\u001b[38;5;28;01mlambda\u001b[39;00m m: m[\u001b[38;5;241m1\u001b[39m], example_precinct))\n",
      "\u001b[0;31mTypeError\u001b[0m: 'int' object is not subscriptable"
     ]
    }
   ],
   "source": [
    "adjacencies = list(map(lambda m: m[1], example_precinct))\n"
   ]
  },
  {
   "cell_type": "code",
   "execution_count": 59,
   "metadata": {},
   "outputs": [],
   "source": [
    "adjacencies = list(map(int, example_precinct[1]))"
   ]
  },
  {
   "cell_type": "code",
   "execution_count": 60,
   "metadata": {},
   "outputs": [
    {
     "data": {
      "text/plain": [
       "[1, 2, 3]"
      ]
     },
     "execution_count": 60,
     "metadata": {},
     "output_type": "execute_result"
    }
   ],
   "source": [
    "adjacencies"
   ]
  },
  {
   "cell_type": "code",
   "execution_count": 68,
   "metadata": {},
   "outputs": [],
   "source": [
    "preferences = list(map(float, example_precinct[2]))"
   ]
  },
  {
   "cell_type": "code",
   "execution_count": 69,
   "metadata": {},
   "outputs": [
    {
     "data": {
      "text/plain": [
       "[0.75, 0.2, 0.1]"
      ]
     },
     "execution_count": 69,
     "metadata": {},
     "output_type": "execute_result"
    }
   ],
   "source": [
    "preferences"
   ]
  },
  {
   "cell_type": "code",
   "execution_count": null,
   "metadata": {},
   "outputs": [],
   "source": []
  },
  {
   "cell_type": "code",
   "execution_count": 56,
   "metadata": {},
   "outputs": [],
   "source": [
    "def lower_neighbors(adjacencies, vertex):\n",
    "    return [v for v in adjacencies[vertex] if v < vertex]"
   ]
  },
  {
   "cell_type": "code",
   "execution_count": 57,
   "metadata": {},
   "outputs": [],
   "source": [
    "def add_cofaces(adjacencies, maxDimension, face, N, V):\n",
    "    if sorted(face) not in V:\n",
    "        V.append(sorted(face))\n",
    "    if len(face) >= maxDimension:\n",
    "        return\n",
    "    else:\n",
    "        for vertex in N:\n",
    "            coface = list(face)\n",
    "            coface.append(vertex)\n",
    "            M = list(set(N) & set(lower_neighbors(adjacencies, vertex)))\n",
    "            add_cofaces(adjacencies, maxDimension, coface, M, V)"
   ]
  },
  {
   "cell_type": "code",
   "execution_count": 72,
   "metadata": {},
   "outputs": [],
   "source": [
    "\n",
    "def incremental_vr(V, adjacencies, maxDimension):\n",
    "    Vnew = list(V)\n",
    "    for vertex in np.arange(len(adjacencies)):\n",
    "        N = sorted(lower_neighbors(adjacencies, vertex))\n",
    "        add_cofaces(adjacencies, maxDimension, [vertex], N, Vnew)\n",
    "    return Vnew"
   ]
  },
  {
   "cell_type": "code",
   "execution_count": 75,
   "metadata": {},
   "outputs": [],
   "source": [
    "adjacencies = ['1','2','3']"
   ]
  },
  {
   "cell_type": "code",
   "execution_count": 76,
   "metadata": {},
   "outputs": [],
   "source": [
    "V = []\n"
   ]
  },
  {
   "cell_type": "code",
   "execution_count": 77,
   "metadata": {},
   "outputs": [
    {
     "ename": "TypeError",
     "evalue": "'>' not supported between instances of 'numpy.ndarray' and 'str'",
     "output_type": "error",
     "traceback": [
      "\u001b[0;31m---------------------------------------------------------------------------\u001b[0m",
      "\u001b[0;31mTypeError\u001b[0m                                 Traceback (most recent call last)",
      "Cell \u001b[0;32mIn[77], line 1\u001b[0m\n\u001b[0;32m----> 1\u001b[0m V \u001b[38;5;241m=\u001b[39m incremental_vr(V, adjacencies, \u001b[38;5;241m3\u001b[39m)\n",
      "Cell \u001b[0;32mIn[72], line 4\u001b[0m, in \u001b[0;36mincremental_vr\u001b[0;34m(V, adjacencies, maxDimension)\u001b[0m\n\u001b[1;32m      2\u001b[0m Vnew \u001b[38;5;241m=\u001b[39m \u001b[38;5;28mlist\u001b[39m(V)\n\u001b[1;32m      3\u001b[0m \u001b[38;5;28;01mfor\u001b[39;00m vertex \u001b[38;5;129;01min\u001b[39;00m np\u001b[38;5;241m.\u001b[39marange(\u001b[38;5;28mlen\u001b[39m(adjacencies)):\n\u001b[0;32m----> 4\u001b[0m     N \u001b[38;5;241m=\u001b[39m \u001b[38;5;28msorted\u001b[39m(lower_neighbors(adjacencies, vertex))\n\u001b[1;32m      5\u001b[0m     add_cofaces(adjacencies, maxDimension, [vertex], N, Vnew)\n\u001b[1;32m      6\u001b[0m \u001b[38;5;28;01mreturn\u001b[39;00m Vnew\n",
      "Cell \u001b[0;32mIn[56], line 2\u001b[0m, in \u001b[0;36mlower_neighbors\u001b[0;34m(adjacencies, vertex)\u001b[0m\n\u001b[1;32m      1\u001b[0m \u001b[38;5;28;01mdef\u001b[39;00m \u001b[38;5;21mlower_neighbors\u001b[39m(adjacencies, vertex):\n\u001b[0;32m----> 2\u001b[0m     \u001b[38;5;28;01mreturn\u001b[39;00m [v \u001b[38;5;28;01mfor\u001b[39;00m v \u001b[38;5;129;01min\u001b[39;00m adjacencies[vertex] \u001b[38;5;28;01mif\u001b[39;00m v \u001b[38;5;241m<\u001b[39m vertex]\n",
      "Cell \u001b[0;32mIn[56], line 2\u001b[0m, in \u001b[0;36m<listcomp>\u001b[0;34m(.0)\u001b[0m\n\u001b[1;32m      1\u001b[0m \u001b[38;5;28;01mdef\u001b[39;00m \u001b[38;5;21mlower_neighbors\u001b[39m(adjacencies, vertex):\n\u001b[0;32m----> 2\u001b[0m     \u001b[38;5;28;01mreturn\u001b[39;00m [v \u001b[38;5;28;01mfor\u001b[39;00m v \u001b[38;5;129;01min\u001b[39;00m adjacencies[vertex] \u001b[38;5;28;01mif\u001b[39;00m v \u001b[38;5;241m<\u001b[39m vertex]\n",
      "\u001b[0;31mTypeError\u001b[0m: '>' not supported between instances of 'numpy.ndarray' and 'str'"
     ]
    }
   ],
   "source": [
    "V = incremental_vr(V, adjacencies, 3)"
   ]
  },
  {
   "cell_type": "code",
   "execution_count": null,
   "metadata": {},
   "outputs": [],
   "source": []
  }
 ],
 "metadata": {
  "kernelspec": {
   "display_name": "TDA",
   "language": "python",
   "name": "python3"
  },
  "language_info": {
   "codemirror_mode": {
    "name": "ipython",
    "version": 3
   },
   "file_extension": ".py",
   "mimetype": "text/x-python",
   "name": "python",
   "nbconvert_exporter": "python",
   "pygments_lexer": "ipython3",
   "version": "3.11.4"
  }
 },
 "nbformat": 4,
 "nbformat_minor": 2
}
