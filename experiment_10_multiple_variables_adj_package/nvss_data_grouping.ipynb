{
 "cells": [
  {
   "cell_type": "markdown",
   "metadata": {},
   "source": [
    "Mortality Data Grouping # No data printed"
   ]
  },
  {
   "cell_type": "code",
   "execution_count": 2,
   "metadata": {},
   "outputs": [],
   "source": [
    "# Import Libraries\n",
    "import numpy as np\n",
    "import pandas as pd\n",
    "import geopandas as gpd"
   ]
  },
  {
   "cell_type": "code",
   "execution_count": 4,
   "metadata": {},
   "outputs": [
    {
     "name": "stderr",
     "output_type": "stream",
     "text": [
      "/var/folders/j3/904q7dbj02j_jyjz7pvfgz384d40kw/T/ipykernel_46534/679614863.py:2: DtypeWarning: Columns (35) have mixed types. Specify dtype option on import or set low_memory=False.\n",
      "  mort_2018 = pd.read_csv('/Users/h6x/ORNL/git/WORKSTAION GIT/universal-experiment-lab/experiment_10_multiple_variables_adj_package/data/mort_2018.csv')\n"
     ]
    }
   ],
   "source": [
    "# Import all the mortality data for 2018\n",
    "mort_2018 = pd.read_csv('/Users/h6x/ORNL/git/WORKSTAION GIT/universal-experiment-lab/experiment_10_multiple_variables_adj_package/data/mort_2018.csv')"
   ]
  },
  {
   "cell_type": "code",
   "execution_count": 16,
   "metadata": {},
   "outputs": [],
   "source": [
    "# mort_2018.columns"
   ]
  },
  {
   "cell_type": "markdown",
   "metadata": {},
   "source": [
    "Let's only consider Texas"
   ]
  },
  {
   "cell_type": "code",
   "execution_count": 6,
   "metadata": {},
   "outputs": [],
   "source": [
    "texas_mortality = mort_2018[mort_2018['occurrence_state'] == 'TX']"
   ]
  },
  {
   "cell_type": "code",
   "execution_count": 7,
   "metadata": {},
   "outputs": [],
   "source": [
    "# ICD codes for drug overdose deaths\n",
    "\n",
    "# X40-X44: Accidental poisoning by and exposure to drugs\n",
    "# X60-X64: Intentional self-poisoning by and exposure to drugs\n",
    "# X85: Assault by drugs\n",
    "# Y10-Y14: Poisoning by and exposure to drugs, undetermined\n",
    "\n",
    "ICD_codes = ['X40', 'X41', 'X42', 'X43', 'X44', 'X60', 'X61', 'X62', 'X63', 'X64', 'X85', 'Y10', 'Y11', 'Y12', 'Y13', 'Y14']"
   ]
  },
  {
   "cell_type": "code",
   "execution_count": 9,
   "metadata": {},
   "outputs": [],
   "source": [
    "# filter by ICD codes\n",
    "texas_drug_mortality = texas_mortality[texas_mortality['cause of death_icd10'].str.contains('|'.join(ICD_codes))]"
   ]
  },
  {
   "cell_type": "code",
   "execution_count": 10,
   "metadata": {},
   "outputs": [
    {
     "name": "stderr",
     "output_type": "stream",
     "text": [
      "/var/folders/j3/904q7dbj02j_jyjz7pvfgz384d40kw/T/ipykernel_46534/1455871586.py:2: SettingWithCopyWarning: \n",
      "A value is trying to be set on a copy of a slice from a DataFrame.\n",
      "Try using .loc[row_indexer,col_indexer] = value instead\n",
      "\n",
      "See the caveats in the documentation: https://pandas.pydata.org/pandas-docs/stable/user_guide/indexing.html#returning-a-view-versus-a-copy\n",
      "  texas_drug_mortality['occurrence_county'] = texas_drug_mortality['occurrence_county'].astype(str).str.zfill(3)\n",
      "/var/folders/j3/904q7dbj02j_jyjz7pvfgz384d40kw/T/ipykernel_46534/1455871586.py:5: SettingWithCopyWarning: \n",
      "A value is trying to be set on a copy of a slice from a DataFrame.\n",
      "Try using .loc[row_indexer,col_indexer] = value instead\n",
      "\n",
      "See the caveats in the documentation: https://pandas.pydata.org/pandas-docs/stable/user_guide/indexing.html#returning-a-view-versus-a-copy\n",
      "  texas_drug_mortality['occurrence_county'] = '48' + texas_drug_mortality['occurrence_county']\n"
     ]
    }
   ],
   "source": [
    "# make occurrence_county as an string and  if not 3 digits, add leading zero\n",
    "texas_drug_mortality['occurrence_county'] = texas_drug_mortality['occurrence_county'].astype(str).str.zfill(3)\n",
    "\n",
    "# add 48 to the county code in the occurrence_county column: 48 is the FIPS code for Texas\n",
    "texas_drug_mortality['occurrence_county'] = '48' + texas_drug_mortality['occurrence_county']"
   ]
  },
  {
   "cell_type": "markdown",
   "metadata": {},
   "source": [
    "Group by county and sum the number of deaths"
   ]
  },
  {
   "cell_type": "code",
   "execution_count": 11,
   "metadata": {},
   "outputs": [],
   "source": [
    "# for each county count the number of deaths and store in a new df\n",
    "texas_county_deaths = texas_drug_mortality.groupby('occurrence_county').size().reset_index(name='deaths')\n"
   ]
  },
  {
   "cell_type": "markdown",
   "metadata": {},
   "source": [
    "Groupby county and sex and sum the number of deaths"
   ]
  },
  {
   "cell_type": "code",
   "execution_count": 12,
   "metadata": {},
   "outputs": [],
   "source": [
    "texas_county_sex_deaths = texas_drug_mortality.groupby(['occurrence_county', 'sex']).size().reset_index(name='deaths')"
   ]
  },
  {
   "cell_type": "code",
   "execution_count": 13,
   "metadata": {},
   "outputs": [
    {
     "data": {
      "text/plain": [
       "array([16, 17,  8, 12, 13, 10, 20, 11, 18, 21, 14, 19, 15,  9, 22,  2, 23,\n",
       "       24, 25,  1])"
      ]
     },
     "execution_count": 13,
     "metadata": {},
     "output_type": "execute_result"
    }
   ],
   "source": [
    "texas_drug_mortality['age_recode_27'].unique()"
   ]
  },
  {
   "cell_type": "code",
   "execution_count": 14,
   "metadata": {},
   "outputs": [
    {
     "data": {
      "text/plain": [
       "array([36, 37, 28, 32, 33, 30, 40, 31, 38, 41, 34, 39, 35, 29, 42, 12, 13,\n",
       "       15, 43, 44, 45,  2])"
      ]
     },
     "execution_count": 14,
     "metadata": {},
     "output_type": "execute_result"
    }
   ],
   "source": [
    "texas_drug_mortality['age_recode_52'].unique()"
   ]
  },
  {
   "cell_type": "code",
   "execution_count": 15,
   "metadata": {},
   "outputs": [
    {
     "data": {
      "text/plain": [
       "array([1053, 1059, 1014, 1034, 1036, 1030, 1021, 1073, 1057, 1038, 1029,\n",
       "       1033, 1060, 1032, 1024, 1028, 1075, 1043, 1054, 1066, 1055, 1047,\n",
       "       1044, 1058, 1052, 1056, 1023, 1048, 1042, 1037, 1020, 1027, 1045,\n",
       "       1041, 1035, 1019, 1046, 1067, 1061, 1022, 1084, 1069, 1040, 1026,\n",
       "       1018, 1063, 1051, 1025, 1017, 1050, 1068, 1039, 1078, 1031, 1071,\n",
       "       1070, 1064, 1049, 1081, 1015, 1062, 1083, 1016, 1065, 1077, 2001,\n",
       "       1080, 1074, 1072, 1076, 1082, 2002, 2004, 1089, 1091, 1095, 1013,\n",
       "       1088, 5001])"
      ]
     },
     "execution_count": 15,
     "metadata": {},
     "output_type": "execute_result"
    }
   ],
   "source": [
    "texas_drug_mortality['detail_age'].unique()"
   ]
  },
  {
   "cell_type": "code",
   "execution_count": null,
   "metadata": {},
   "outputs": [],
   "source": []
  },
  {
   "cell_type": "code",
   "execution_count": null,
   "metadata": {},
   "outputs": [],
   "source": []
  },
  {
   "cell_type": "code",
   "execution_count": null,
   "metadata": {},
   "outputs": [],
   "source": []
  },
  {
   "cell_type": "code",
   "execution_count": null,
   "metadata": {},
   "outputs": [],
   "source": []
  },
  {
   "cell_type": "code",
   "execution_count": null,
   "metadata": {},
   "outputs": [],
   "source": []
  }
 ],
 "metadata": {
  "kernelspec": {
   "display_name": "TDA",
   "language": "python",
   "name": "python3"
  },
  "language_info": {
   "codemirror_mode": {
    "name": "ipython",
    "version": 3
   },
   "file_extension": ".py",
   "mimetype": "text/x-python",
   "name": "python",
   "nbconvert_exporter": "python",
   "pygments_lexer": "ipython3",
   "version": "3.11.4"
  }
 },
 "nbformat": 4,
 "nbformat_minor": 2
}
